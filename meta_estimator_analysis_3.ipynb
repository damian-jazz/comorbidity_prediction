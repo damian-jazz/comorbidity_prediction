{
 "cells": [
  {
   "cell_type": "code",
   "execution_count": 1,
   "metadata": {},
   "outputs": [],
   "source": [
    "import pandas as pd\n",
    "import numpy as np\n",
    "import joblib\n",
    "import matplotlib.pyplot as plt\n",
    "\n",
    "from utils.utils import load_data, remove_zero_features, load_confounders, standardize, label_freq_sorted, pca_transform\n",
    "from utils.utils import generate_oversampled_set, generate_undersampled_set, generate_label_stats\n",
    "from utils.utils import compute_scores\n",
    "\n",
    "from sklearn.dummy import DummyClassifier\n",
    "from sklearn.linear_model import LogisticRegression\n",
    "from sklearn.ensemble import HistGradientBoostingClassifier\n",
    "from sklearn.svm import SVC\n",
    "from sklearn.neural_network import MLPClassifier\n",
    "from sklearn.multioutput import MultiOutputClassifier, ClassifierChain\n",
    "\n",
    "from sklearn.model_selection import train_test_split"
   ]
  },
  {
   "cell_type": "code",
   "execution_count": 2,
   "metadata": {},
   "outputs": [
    {
     "name": "stdout",
     "output_type": "stream",
     "text": [
      "Number of physical cores: 8\n"
     ]
    }
   ],
   "source": [
    "N_CORES = joblib.cpu_count(only_physical_cores=True)\n",
    "print(f\"Number of physical cores: {N_CORES}\")"
   ]
  },
  {
   "cell_type": "markdown",
   "metadata": {},
   "source": [
    "---"
   ]
  },
  {
   "cell_type": "code",
   "execution_count": 3,
   "metadata": {},
   "outputs": [],
   "source": [
    "# Load data for classification task\n",
    "subject_data, features, diagnoses = load_data('classification')"
   ]
  },
  {
   "cell_type": "code",
   "execution_count": 4,
   "metadata": {},
   "outputs": [],
   "source": [
    "# Remove zero features\n",
    "F = remove_zero_features(features.iloc[:,1:])"
   ]
  },
  {
   "cell_type": "code",
   "execution_count": 5,
   "metadata": {},
   "outputs": [],
   "source": [
    "# Load confounders\n",
    "C = load_confounders(subject_data)"
   ]
  },
  {
   "cell_type": "code",
   "execution_count": 6,
   "metadata": {},
   "outputs": [
    {
     "name": "stdout",
     "output_type": "stream",
     "text": [
      "Number of samples: 2815\n",
      "Number of features: 922\n"
     ]
    }
   ],
   "source": [
    "# Standardize\n",
    "X = standardize(F)\n",
    "print(f\"Number of samples: {X.shape[0]}\")\n",
    "print(f\"Number of features: {X.shape[1]}\")"
   ]
  },
  {
   "cell_type": "code",
   "execution_count": 7,
   "metadata": {},
   "outputs": [
    {
     "name": "stdout",
     "output_type": "stream",
     "text": [
      "Number of labels: 13\n"
     ]
    }
   ],
   "source": [
    "# Remove ID column\n",
    "Y = diagnoses.iloc[:,1:]\n",
    "print(f\"Number of labels: {Y.shape[1]}\")"
   ]
  },
  {
   "cell_type": "code",
   "execution_count": 8,
   "metadata": {},
   "outputs": [],
   "source": [
    "boot_iter = 100"
   ]
  },
  {
   "cell_type": "markdown",
   "metadata": {},
   "source": [
    "# 3. Use oversampled dataset"
   ]
  },
  {
   "cell_type": "code",
   "execution_count": 9,
   "metadata": {},
   "outputs": [],
   "source": [
    "# Split dataset into train and test (holdout) set\n",
    "X_train, X_test, Y_train, Y_test = train_test_split(X, Y, test_size=0.25, random_state=0)"
   ]
  },
  {
   "cell_type": "code",
   "execution_count": 10,
   "metadata": {},
   "outputs": [
    {
     "name": "stdout",
     "output_type": "stream",
     "text": [
      "Mean imbalance ratio: 1.6752910161710401\n"
     ]
    },
    {
     "data": {
      "text/html": [
       "<div>\n",
       "<style scoped>\n",
       "    .dataframe tbody tr th:only-of-type {\n",
       "        vertical-align: middle;\n",
       "    }\n",
       "\n",
       "    .dataframe tbody tr th {\n",
       "        vertical-align: top;\n",
       "    }\n",
       "\n",
       "    .dataframe thead th {\n",
       "        text-align: right;\n",
       "    }\n",
       "</style>\n",
       "<table border=\"1\" class=\"dataframe\">\n",
       "  <thead>\n",
       "    <tr style=\"text-align: right;\">\n",
       "      <th></th>\n",
       "      <th>Absolute frequency</th>\n",
       "      <th>Relative frequency</th>\n",
       "      <th>Imbalance ratio</th>\n",
       "    </tr>\n",
       "  </thead>\n",
       "  <tbody>\n",
       "    <tr>\n",
       "      <th>Trauma_And_Stress_RelatedDisorders</th>\n",
       "      <td>1895</td>\n",
       "      <td>0.112296</td>\n",
       "      <td>2.105541</td>\n",
       "    </tr>\n",
       "    <tr>\n",
       "      <th>DepressiveDisorders</th>\n",
       "      <td>2577</td>\n",
       "      <td>0.152711</td>\n",
       "      <td>1.548312</td>\n",
       "    </tr>\n",
       "    <tr>\n",
       "      <th>Attention_Deficit_HyperactivityDisorder</th>\n",
       "      <td>3496</td>\n",
       "      <td>0.207170</td>\n",
       "      <td>1.141304</td>\n",
       "    </tr>\n",
       "    <tr>\n",
       "      <th>MotorDisorder</th>\n",
       "      <td>2386</td>\n",
       "      <td>0.141393</td>\n",
       "      <td>1.672255</td>\n",
       "    </tr>\n",
       "    <tr>\n",
       "      <th>AutismSpectrumDisorder</th>\n",
       "      <td>2820</td>\n",
       "      <td>0.167111</td>\n",
       "      <td>1.414894</td>\n",
       "    </tr>\n",
       "    <tr>\n",
       "      <th>CommunicationDisorder</th>\n",
       "      <td>3459</td>\n",
       "      <td>0.204978</td>\n",
       "      <td>1.153513</td>\n",
       "    </tr>\n",
       "    <tr>\n",
       "      <th>OtherDisorders</th>\n",
       "      <td>1769</td>\n",
       "      <td>0.104830</td>\n",
       "      <td>2.255512</td>\n",
       "    </tr>\n",
       "    <tr>\n",
       "      <th>SpecificLearningDisorder</th>\n",
       "      <td>3990</td>\n",
       "      <td>0.236444</td>\n",
       "      <td>1.000000</td>\n",
       "    </tr>\n",
       "    <tr>\n",
       "      <th>Obsessive_Compulsive_And_RelatedDisorders</th>\n",
       "      <td>2120</td>\n",
       "      <td>0.125630</td>\n",
       "      <td>1.882075</td>\n",
       "    </tr>\n",
       "    <tr>\n",
       "      <th>Disruptive</th>\n",
       "      <td>2080</td>\n",
       "      <td>0.123259</td>\n",
       "      <td>1.918269</td>\n",
       "    </tr>\n",
       "    <tr>\n",
       "      <th>IntellectualDisability</th>\n",
       "      <td>1644</td>\n",
       "      <td>0.097422</td>\n",
       "      <td>2.427007</td>\n",
       "    </tr>\n",
       "    <tr>\n",
       "      <th>EliminationDisorder</th>\n",
       "      <td>2335</td>\n",
       "      <td>0.138370</td>\n",
       "      <td>1.708779</td>\n",
       "    </tr>\n",
       "    <tr>\n",
       "      <th>AnxietyDisorders</th>\n",
       "      <td>2572</td>\n",
       "      <td>0.152415</td>\n",
       "      <td>1.551322</td>\n",
       "    </tr>\n",
       "  </tbody>\n",
       "</table>\n",
       "</div>"
      ],
      "text/plain": [
       "                                           Absolute frequency  \\\n",
       "Trauma_And_Stress_RelatedDisorders                       1895   \n",
       "DepressiveDisorders                                      2577   \n",
       "Attention_Deficit_HyperactivityDisorder                  3496   \n",
       "MotorDisorder                                            2386   \n",
       "AutismSpectrumDisorder                                   2820   \n",
       "CommunicationDisorder                                    3459   \n",
       "OtherDisorders                                           1769   \n",
       "SpecificLearningDisorder                                 3990   \n",
       "Obsessive_Compulsive_And_RelatedDisorders                2120   \n",
       "Disruptive                                               2080   \n",
       "IntellectualDisability                                   1644   \n",
       "EliminationDisorder                                      2335   \n",
       "AnxietyDisorders                                         2572   \n",
       "\n",
       "                                           Relative frequency  Imbalance ratio  \n",
       "Trauma_And_Stress_RelatedDisorders                   0.112296         2.105541  \n",
       "DepressiveDisorders                                  0.152711         1.548312  \n",
       "Attention_Deficit_HyperactivityDisorder              0.207170         1.141304  \n",
       "MotorDisorder                                        0.141393         1.672255  \n",
       "AutismSpectrumDisorder                               0.167111         1.414894  \n",
       "CommunicationDisorder                                0.204978         1.153513  \n",
       "OtherDisorders                                       0.104830         2.255512  \n",
       "SpecificLearningDisorder                             0.236444         1.000000  \n",
       "Obsessive_Compulsive_And_RelatedDisorders            0.125630         1.882075  \n",
       "Disruptive                                           0.123259         1.918269  \n",
       "IntellectualDisability                               0.097422         2.427007  \n",
       "EliminationDisorder                                  0.138370         1.708779  \n",
       "AnxietyDisorders                                     0.152415         1.551322  "
      ]
     },
     "execution_count": 10,
     "metadata": {},
     "output_type": "execute_result"
    }
   ],
   "source": [
    "X_over, Y_over = generate_oversampled_set(X_train, Y_train)\n",
    "label_stats, mean_ir = generate_label_stats(Y_over, True)\n",
    "print(f\"Mean imbalance ratio: {mean_ir}\")\n",
    "label_stats"
   ]
  },
  {
   "cell_type": "code",
   "execution_count": 11,
   "metadata": {},
   "outputs": [],
   "source": [
    "X_train, Y_train = X_over, Y_over"
   ]
  },
  {
   "cell_type": "code",
   "execution_count": 12,
   "metadata": {},
   "outputs": [
    {
     "name": "stdout",
     "output_type": "stream",
     "text": [
      "Number of samples in C training set: 16875\n",
      "Number of samples in C test set: 704\n",
      "Number of samples in PCA training set: 16875\n",
      "Number of samples in PCA test set: 704\n",
      "Number of samples in training set: 16875\n",
      "Number of samples in test set: 704\n"
     ]
    }
   ],
   "source": [
    "\n",
    "# Confounder \n",
    "C_train, C_test = C.loc[X_train.index], C.loc[X_test.index]\n",
    "\n",
    "# PCA features\n",
    "X_pca = pca_transform(F)\n",
    "X_pca_train, X_pca_test = X_pca.loc[X_train.index], X_pca.loc[X_test.index]\n",
    "\n",
    "\n",
    "print(f\"Number of samples in C training set: {len(C_train)}\")\n",
    "print(f\"Number of samples in C test set: {len(C_test)}\")\n",
    "\n",
    "print(f\"Number of samples in PCA training set: {len(X_pca_train)}\")\n",
    "print(f\"Number of samples in PCA test set: {len(X_pca_test)}\")\n",
    "\n",
    "print(f\"Number of samples in training set: {len(X_train)}\")\n",
    "print(f\"Number of samples in test set: {len(X_test)}\")"
   ]
  },
  {
   "cell_type": "markdown",
   "metadata": {},
   "source": [
    "## 3.1. MultiOutputClassifier\n",
    "Evaluate classification models wrapped in meta estimator MultiOutputClassifier with respect to multi-label performance metrics"
   ]
  },
  {
   "cell_type": "markdown",
   "metadata": {},
   "source": [
    "### 3.1.1. Confounders as features"
   ]
  },
  {
   "cell_type": "markdown",
   "metadata": {},
   "source": [
    "#### 3.1.1.1. Logistic regression"
   ]
  },
  {
   "cell_type": "code",
   "execution_count": 15,
   "metadata": {},
   "outputs": [
    {
     "name": "stdout",
     "output_type": "stream",
     "text": [
      "Mean scores with SE and 95% confidence intervals:\n",
      "\n",
      "auprc_macro:                  0.17 (0.01) [0.16, 0.18]\n",
      "auprc_weighted:               0.30 (0.01) [0.28, 0.32]\n",
      "auroc_macro:                  0.49 (0.01) [0.47, 0.51]\n",
      "auroc_weighted:               0.48 (0.01) [0.46, 0.50]\n",
      "brier_macro:                  0.14 (0.00) [0.13, 0.14]\n",
      "brier_weighted:               0.04 (0.00) [0.04, 0.04]\n",
      "balanced_accuracy_macro:      0.50 (0.00) [0.50, 0.50]\n",
      "balanced_accuracy_weighted:   0.08 (0.00) [0.08, 0.08]\n",
      "f1_micro:                     0.00 (0.00) [0.00, 0.00]\n",
      "hamming:                      0.17 (0.00) [0.16, 0.17]\n",
      "subset_accuracy:              0.10 (0.01) [0.08, 0.12]\n"
     ]
    }
   ],
   "source": [
    "clf = LogisticRegression(max_iter=10000, random_state=0)\n",
    "meta_clf = MultiOutputClassifier(clf, n_jobs=-1).fit(C_train, Y_train)\n",
    "compute_scores(meta_clf, C_test, Y_test, boot_iter)"
   ]
  },
  {
   "cell_type": "markdown",
   "metadata": {},
   "source": [
    "#### 3.1.1.1. Histogram-based Gradient Boosting"
   ]
  },
  {
   "cell_type": "code",
   "execution_count": 16,
   "metadata": {},
   "outputs": [
    {
     "name": "stdout",
     "output_type": "stream",
     "text": [
      "Mean scores with SE and 95% confidence intervals:\n",
      "\n",
      "auprc_macro:                  0.18 (0.01) [0.17, 0.19]\n",
      "auprc_weighted:               0.32 (0.01) [0.30, 0.35]\n",
      "auroc_macro:                  0.48 (0.01) [0.46, 0.51]\n",
      "auroc_weighted:               0.49 (0.01) [0.47, 0.51]\n",
      "brier_macro:                  0.15 (0.00) [0.14, 0.15]\n",
      "brier_weighted:               0.04 (0.00) [0.04, 0.04]\n",
      "balanced_accuracy_macro:      0.50 (0.00) [0.49, 0.51]\n",
      "balanced_accuracy_weighted:   0.08 (0.00) [0.08, 0.09]\n",
      "f1_micro:                     0.25 (0.01) [0.23, 0.27]\n",
      "hamming:                      0.19 (0.00) [0.19, 0.20]\n",
      "subset_accuracy:              0.06 (0.01) [0.04, 0.08]\n"
     ]
    }
   ],
   "source": [
    "clf = HistGradientBoostingClassifier(random_state=0)\n",
    "meta_clf = MultiOutputClassifier(clf, n_jobs=-1).fit(C_train,Y_train)\n",
    "compute_scores(meta_clf, C_test, Y_test, boot_iter)"
   ]
  },
  {
   "cell_type": "markdown",
   "metadata": {},
   "source": [
    "### 3.1.2. PCA-projected data (top-10 components) as features "
   ]
  },
  {
   "cell_type": "markdown",
   "metadata": {},
   "source": [
    "#### 3.1.2.1. Logistic regression"
   ]
  },
  {
   "cell_type": "code",
   "execution_count": 17,
   "metadata": {},
   "outputs": [
    {
     "name": "stdout",
     "output_type": "stream",
     "text": [
      "Mean scores with SE and 95% confidence intervals:\n",
      "\n",
      "auprc_macro:                  0.22 (0.01) [0.20, 0.23]\n",
      "auprc_weighted:               0.36 (0.01) [0.34, 0.38]\n",
      "auroc_macro:                  0.58 (0.01) [0.56, 0.59]\n",
      "auroc_weighted:               0.56 (0.01) [0.55, 0.58]\n",
      "brier_macro:                  0.13 (0.00) [0.13, 0.14]\n",
      "brier_weighted:               0.04 (0.00) [0.04, 0.04]\n",
      "balanced_accuracy_macro:      0.50 (0.00) [0.50, 0.51]\n",
      "balanced_accuracy_weighted:   0.08 (0.00) [0.08, 0.08]\n",
      "f1_micro:                     0.01 (0.00) [0.01, 0.02]\n",
      "hamming:                      0.17 (0.00) [0.16, 0.18]\n",
      "subset_accuracy:              0.10 (0.01) [0.08, 0.12]\n"
     ]
    }
   ],
   "source": [
    "clf = LogisticRegression(max_iter=10000, random_state=0)\n",
    "meta_clf = MultiOutputClassifier(clf).fit(X_pca_train, Y_train)\n",
    "compute_scores(meta_clf, X_pca_test, Y_test, boot_iter)"
   ]
  },
  {
   "cell_type": "markdown",
   "metadata": {},
   "source": [
    "#### 3.1.2.2. Histogram-based Gradient Boosting"
   ]
  },
  {
   "cell_type": "code",
   "execution_count": 21,
   "metadata": {},
   "outputs": [
    {
     "name": "stdout",
     "output_type": "stream",
     "text": [
      "Mean scores with SE and 95% confidence intervals:\n",
      "\n",
      "auprc_macro:                  0.22 (0.01) [0.20, 0.25]\n",
      "auprc_weighted:               0.36 (0.01) [0.34, 0.38]\n",
      "auroc_macro:                  0.56 (0.01) [0.54, 0.58]\n",
      "auroc_weighted:               0.56 (0.01) [0.54, 0.58]\n",
      "brier_macro:                  0.13 (0.00) [0.12, 0.13]\n",
      "brier_weighted:               0.03 (0.00) [0.03, 0.03]\n",
      "balanced_accuracy_macro:      0.52 (0.00) [0.51, 0.53]\n",
      "balanced_accuracy_weighted:   0.09 (0.00) [0.09, 0.09]\n",
      "f1_micro:                     0.32 (0.01) [0.29, 0.34]\n",
      "hamming:                      0.17 (0.00) [0.16, 0.18]\n",
      "subset_accuracy:              0.09 (0.01) [0.06, 0.11]\n"
     ]
    }
   ],
   "source": [
    "clf = HistGradientBoostingClassifier(random_state=0)\n",
    "meta_clf = MultiOutputClassifier(clf).fit(X_pca_train,Y_train) # n_jobs=-1\n",
    "compute_scores(meta_clf, X_pca_test, Y_test, boot_iter)"
   ]
  },
  {
   "cell_type": "markdown",
   "metadata": {},
   "source": [
    "### 3.1.3. Original features (standardized)"
   ]
  },
  {
   "cell_type": "markdown",
   "metadata": {},
   "source": [
    "#### 3.1.3.1. Logistic regression"
   ]
  },
  {
   "cell_type": "code",
   "execution_count": 22,
   "metadata": {},
   "outputs": [
    {
     "name": "stdout",
     "output_type": "stream",
     "text": [
      "Mean scores with SE and 95% confidence intervals:\n",
      "\n",
      "auprc_macro:                  0.21 (0.01) [0.19, 0.23]\n",
      "auprc_weighted:               0.35 (0.01) [0.33, 0.37]\n",
      "auroc_macro:                  0.56 (0.01) [0.54, 0.58]\n",
      "auroc_weighted:               0.56 (0.01) [0.54, 0.57]\n",
      "brier_macro:                  0.20 (0.00) [0.20, 0.21]\n",
      "brier_weighted:               0.05 (0.00) [0.05, 0.05]\n",
      "balanced_accuracy_macro:      0.52 (0.01) [0.51, 0.53]\n",
      "balanced_accuracy_weighted:   0.09 (0.00) [0.09, 0.09]\n",
      "f1_micro:                     0.33 (0.01) [0.31, 0.35]\n",
      "hamming:                      0.24 (0.00) [0.23, 0.24]\n",
      "subset_accuracy:              0.03 (0.01) [0.01, 0.04]\n"
     ]
    }
   ],
   "source": [
    "clf = LogisticRegression(max_iter=10000, random_state=0)\n",
    "meta_clf = MultiOutputClassifier(clf, n_jobs=-1).fit(X_train, Y_train) # n_jobs=-1\n",
    "compute_scores(meta_clf, X_test, Y_test, boot_iter)"
   ]
  },
  {
   "cell_type": "markdown",
   "metadata": {},
   "source": [
    "#### 3.1.3.2. SVM"
   ]
  },
  {
   "cell_type": "code",
   "execution_count": 31,
   "metadata": {},
   "outputs": [
    {
     "name": "stdout",
     "output_type": "stream",
     "text": [
      "Mean scores with SE and 95% confidence intervals:\n",
      "\n",
      "auprc_macro:                  0.22 (0.01) [0.21, 0.24]\n",
      "auprc_weighted:               0.37 (0.01) [0.34, 0.39]\n",
      "auroc_macro:                  0.58 (0.01) [0.56, 0.61]\n",
      "auroc_weighted:               0.58 (0.01) [0.56, 0.60]\n",
      "brier_macro:                  0.14 (0.00) [0.13, 0.14]\n",
      "brier_weighted:               0.04 (0.00) [0.03, 0.04]\n",
      "balanced_accuracy_macro:      0.53 (0.00) [0.52, 0.54]\n",
      "balanced_accuracy_weighted:   0.09 (0.00) [0.09, 0.09]\n",
      "f1_micro:                     0.44 (0.01) [0.42, 0.46]\n",
      "hamming:                      0.18 (0.00) [0.17, 0.19]\n",
      "subset_accuracy:              0.08 (0.01) [0.06, 0.10]\n"
     ]
    }
   ],
   "source": [
    "clf = SVC(class_weight='balanced', kernel='rbf', gamma='scale', probability=True, random_state=0)\n",
    "meta_clf = MultiOutputClassifier(clf, n_jobs=-1).fit(X_train, Y_train)\n",
    "compute_scores(meta_clf, X_test, Y_test, boot_iter)"
   ]
  },
  {
   "cell_type": "markdown",
   "metadata": {},
   "source": [
    "#### 3.1.3.3. Histogram-based Gradient Boosting"
   ]
  },
  {
   "cell_type": "code",
   "execution_count": 24,
   "metadata": {},
   "outputs": [
    {
     "name": "stdout",
     "output_type": "stream",
     "text": [
      "Mean scores with SE and 95% confidence intervals:\n",
      "\n",
      "auprc_macro:                  0.23 (0.01) [0.21, 0.25]\n",
      "auprc_weighted:               0.36 (0.01) [0.33, 0.38]\n",
      "auroc_macro:                  0.59 (0.01) [0.56, 0.61]\n",
      "auroc_weighted:               0.57 (0.01) [0.55, 0.59]\n",
      "brier_macro:                  0.13 (0.00) [0.12, 0.13]\n",
      "brier_weighted:               0.03 (0.00) [0.03, 0.03]\n",
      "balanced_accuracy_macro:      0.51 (0.00) [0.50, 0.51]\n",
      "balanced_accuracy_weighted:   0.09 (0.00) [0.08, 0.09]\n",
      "f1_micro:                     0.34 (0.01) [0.32, 0.36]\n",
      "hamming:                      0.16 (0.00) [0.15, 0.16]\n",
      "subset_accuracy:              0.10 (0.01) [0.08, 0.11]\n"
     ]
    }
   ],
   "source": [
    "clf = HistGradientBoostingClassifier(random_state=0)\n",
    "meta_clf = MultiOutputClassifier(clf).fit(X_train, Y_train) # n_jobs=-1\n",
    "compute_scores(meta_clf, X_test, Y_test, boot_iter)"
   ]
  },
  {
   "cell_type": "markdown",
   "metadata": {},
   "source": [
    "#### 3.1.3.4. MLP"
   ]
  },
  {
   "cell_type": "code",
   "execution_count": 25,
   "metadata": {},
   "outputs": [
    {
     "name": "stdout",
     "output_type": "stream",
     "text": [
      "Mean scores with SE and 95% confidence intervals:\n",
      "\n",
      "auprc_macro:                  0.22 (0.01) [0.20, 0.24]\n",
      "auprc_weighted:               0.36 (0.01) [0.34, 0.38]\n",
      "auroc_macro:                  0.58 (0.01) [0.55, 0.60]\n",
      "auroc_weighted:               0.57 (0.01) [0.55, 0.59]\n",
      "brier_macro:                  0.17 (0.00) [0.16, 0.17]\n",
      "brier_weighted:               0.04 (0.00) [0.04, 0.04]\n",
      "balanced_accuracy_macro:      0.52 (0.00) [0.51, 0.53]\n",
      "balanced_accuracy_weighted:   0.09 (0.00) [0.09, 0.09]\n",
      "f1_micro:                     0.36 (0.01) [0.34, 0.38]\n",
      "hamming:                      0.18 (0.00) [0.18, 0.19]\n",
      "subset_accuracy:              0.08 (0.01) [0.06, 0.10]\n"
     ]
    }
   ],
   "source": [
    "clf = MLPClassifier(random_state=0)\n",
    "meta_clf = MultiOutputClassifier(clf).fit(X_train, Y_train) # n_jobs=-1\n",
    "compute_scores(meta_clf, X_test, Y_test, boot_iter)"
   ]
  },
  {
   "cell_type": "markdown",
   "metadata": {},
   "source": [
    "## 3.2. ClassifierChain (ordered by frequency) \n",
    "Evaluate classification models wrapped in meta estimator ClassifierChain with respect to multi-label performance metrics"
   ]
  },
  {
   "cell_type": "code",
   "execution_count": 26,
   "metadata": {},
   "outputs": [],
   "source": [
    "by_freq = label_freq_sorted(Y_train)"
   ]
  },
  {
   "cell_type": "markdown",
   "metadata": {},
   "source": [
    "### 3.2.1. Logistic regression"
   ]
  },
  {
   "cell_type": "code",
   "execution_count": 27,
   "metadata": {},
   "outputs": [
    {
     "name": "stdout",
     "output_type": "stream",
     "text": [
      "Mean scores with SE and 95% confidence intervals:\n",
      "\n",
      "auprc_macro:                  0.20 (0.01) [0.19, 0.22]\n",
      "auprc_weighted:               0.35 (0.01) [0.33, 0.37]\n",
      "auroc_macro:                  0.56 (0.01) [0.54, 0.58]\n",
      "auroc_weighted:               0.55 (0.01) [0.53, 0.57]\n",
      "brier_macro:                  0.20 (0.00) [0.20, 0.21]\n",
      "brier_weighted:               0.05 (0.00) [0.05, 0.05]\n",
      "balanced_accuracy_macro:      0.52 (0.01) [0.51, 0.53]\n",
      "balanced_accuracy_weighted:   0.09 (0.00) [0.09, 0.09]\n",
      "f1_micro:                     0.33 (0.01) [0.31, 0.35]\n",
      "hamming:                      0.23 (0.00) [0.22, 0.24]\n",
      "subset_accuracy:              0.03 (0.01) [0.01, 0.04]\n"
     ]
    }
   ],
   "source": [
    "clf = LogisticRegression(max_iter=10000, random_state=0)\n",
    "meta_clf = ClassifierChain(clf, order=by_freq, random_state=0).fit(X_train, Y_train)\n",
    "compute_scores(meta_clf, X_test, Y_test, boot_iter, chain=True)"
   ]
  },
  {
   "cell_type": "markdown",
   "metadata": {},
   "source": [
    "### 3.2.2. Histogram-based Gradient Boosting"
   ]
  },
  {
   "cell_type": "code",
   "execution_count": 28,
   "metadata": {},
   "outputs": [
    {
     "name": "stdout",
     "output_type": "stream",
     "text": [
      "Mean scores with SE and 95% confidence intervals:\n",
      "\n",
      "auprc_macro:                  0.22 (0.01) [0.21, 0.25]\n",
      "auprc_weighted:               0.36 (0.01) [0.34, 0.38]\n",
      "auroc_macro:                  0.59 (0.01) [0.57, 0.61]\n",
      "auroc_weighted:               0.57 (0.01) [0.55, 0.59]\n",
      "brier_macro:                  0.13 (0.00) [0.12, 0.13]\n",
      "brier_weighted:               0.03 (0.00) [0.03, 0.03]\n",
      "balanced_accuracy_macro:      0.51 (0.00) [0.50, 0.52]\n",
      "balanced_accuracy_weighted:   0.09 (0.00) [0.08, 0.09]\n",
      "f1_micro:                     0.35 (0.01) [0.33, 0.37]\n",
      "hamming:                      0.16 (0.00) [0.15, 0.16]\n",
      "subset_accuracy:              0.10 (0.01) [0.07, 0.12]\n"
     ]
    }
   ],
   "source": [
    "clf = HistGradientBoostingClassifier(random_state=0)\n",
    "meta_clf = ClassifierChain(clf, order=by_freq, random_state=0).fit(X_train, Y_train)\n",
    "compute_scores(meta_clf, X_test, Y_test, boot_iter, chain=True)"
   ]
  },
  {
   "cell_type": "markdown",
   "metadata": {},
   "source": [
    "## 3.3. ClassifierChain (random order) \n",
    "Evaluate classification models wrapped in meta estimator ClassifierChain with respect to multi-label performance metrics"
   ]
  },
  {
   "cell_type": "markdown",
   "metadata": {},
   "source": [
    "### 3.3.1. Logistic regression"
   ]
  },
  {
   "cell_type": "code",
   "execution_count": 29,
   "metadata": {},
   "outputs": [
    {
     "name": "stdout",
     "output_type": "stream",
     "text": [
      "Mean scores with SE and 95% confidence intervals:\n",
      "\n",
      "auprc_macro:                  0.20 (0.01) [0.19, 0.22]\n",
      "auprc_weighted:               0.35 (0.01) [0.33, 0.37]\n",
      "auroc_macro:                  0.56 (0.01) [0.54, 0.58]\n",
      "auroc_weighted:               0.55 (0.01) [0.53, 0.57]\n",
      "brier_macro:                  0.20 (0.00) [0.20, 0.21]\n",
      "brier_weighted:               0.05 (0.00) [0.05, 0.05]\n",
      "balanced_accuracy_macro:      0.52 (0.01) [0.51, 0.53]\n",
      "balanced_accuracy_weighted:   0.09 (0.00) [0.09, 0.09]\n",
      "f1_micro:                     0.33 (0.01) [0.31, 0.35]\n",
      "hamming:                      0.23 (0.00) [0.23, 0.24]\n",
      "subset_accuracy:              0.02 (0.01) [0.01, 0.03]\n"
     ]
    }
   ],
   "source": [
    "clf = LogisticRegression(max_iter=10000, random_state=0)\n",
    "meta_clf = ClassifierChain(clf, random_state=0).fit(X_train, Y_train)\n",
    "compute_scores(meta_clf, X_test, Y_test, boot_iter, chain=True)"
   ]
  },
  {
   "cell_type": "markdown",
   "metadata": {},
   "source": [
    "### 3.3.2. Histogram-based Gradient Boosting"
   ]
  },
  {
   "cell_type": "code",
   "execution_count": 30,
   "metadata": {},
   "outputs": [
    {
     "name": "stdout",
     "output_type": "stream",
     "text": [
      "Mean scores with SE and 95% confidence intervals:\n",
      "\n",
      "auprc_macro:                  0.22 (0.01) [0.21, 0.25]\n",
      "auprc_weighted:               0.36 (0.01) [0.34, 0.39]\n",
      "auroc_macro:                  0.59 (0.01) [0.57, 0.60]\n",
      "auroc_weighted:               0.57 (0.01) [0.55, 0.59]\n",
      "brier_macro:                  0.13 (0.00) [0.12, 0.13]\n",
      "brier_weighted:               0.03 (0.00) [0.03, 0.03]\n",
      "balanced_accuracy_macro:      0.51 (0.00) [0.51, 0.52]\n",
      "balanced_accuracy_weighted:   0.09 (0.00) [0.09, 0.09]\n",
      "f1_micro:                     0.35 (0.01) [0.33, 0.37]\n",
      "hamming:                      0.16 (0.00) [0.15, 0.16]\n",
      "subset_accuracy:              0.10 (0.01) [0.08, 0.12]\n"
     ]
    }
   ],
   "source": [
    "clf = HistGradientBoostingClassifier(random_state=0)\n",
    "meta_clf = ClassifierChain(clf, random_state=0).fit(X_train, Y_train)\n",
    "compute_scores(meta_clf, X_test, Y_test, boot_iter, chain=True)"
   ]
  }
 ],
 "metadata": {
  "kernelspec": {
   "display_name": "neuro",
   "language": "python",
   "name": "python3"
  },
  "language_info": {
   "codemirror_mode": {
    "name": "ipython",
    "version": 3
   },
   "file_extension": ".py",
   "mimetype": "text/x-python",
   "name": "python",
   "nbconvert_exporter": "python",
   "pygments_lexer": "ipython3",
   "version": "3.11.7"
  }
 },
 "nbformat": 4,
 "nbformat_minor": 2
}
