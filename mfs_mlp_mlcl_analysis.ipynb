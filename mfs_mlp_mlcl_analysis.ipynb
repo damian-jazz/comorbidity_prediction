{
 "cells": [
  {
   "cell_type": "code",
   "execution_count": 1,
   "metadata": {},
   "outputs": [],
   "source": [
    "import pandas as pd\n",
    "import numpy as np\n",
    "import matplotlib.pyplot as plt\n",
    "\n",
    "from utils.utils import load_data, remove_zero_features, load_confounders, deconfound_linear, standardize\n",
    "from utils.mlp_utils import datasetMF\n",
    "from utils.mlp_train import train, test, eval\n",
    "from utils.mlp_model import MLMLP\n",
    "\n",
    "from sklearn.model_selection import train_test_split\n",
    "from sklearn.utils import resample\n",
    "from sklearn.metrics import average_precision_score, roc_auc_score, brier_score_loss, f1_score, hamming_loss\n",
    "\n",
    "import torch\n",
    "from torch import nn\n",
    "from torch.utils.data import DataLoader"
   ]
  },
  {
   "cell_type": "code",
   "execution_count": 1,
   "metadata": {},
   "outputs": [],
   "source": [
    "plot_path = \"plots/\"\n",
    "checkpoints_path = \"checkpoints/\""
   ]
  },
  {
   "cell_type": "code",
   "execution_count": 3,
   "metadata": {},
   "outputs": [
    {
     "name": "stdout",
     "output_type": "stream",
     "text": [
      "Using mps device\n"
     ]
    }
   ],
   "source": [
    "device = (\n",
    "    \"cuda\"\n",
    "    if torch.cuda.is_available()\n",
    "    else \"mps\"\n",
    "    if torch.backends.mps.is_available()\n",
    "    else \"cpu\"\n",
    ")\n",
    "print(f\"Using {device} device\")"
   ]
  },
  {
   "cell_type": "markdown",
   "metadata": {},
   "source": [
    "---"
   ]
  },
  {
   "cell_type": "code",
   "execution_count": 4,
   "metadata": {},
   "outputs": [],
   "source": [
    "# Load data for classification task\n",
    "subject_data, features, diagnoses = load_data('classification')"
   ]
  },
  {
   "cell_type": "code",
   "execution_count": 5,
   "metadata": {},
   "outputs": [],
   "source": [
    "# Remove zero features\n",
    "F = remove_zero_features(features.iloc[:,1:])"
   ]
  },
  {
   "cell_type": "code",
   "execution_count": 6,
   "metadata": {},
   "outputs": [],
   "source": [
    "# Load confounders\n",
    "C = load_confounders(subject_data)\n",
    "\n",
    "# Apply deconfounding\n",
    "#F = deconfound_linear(C, F)"
   ]
  },
  {
   "cell_type": "code",
   "execution_count": 7,
   "metadata": {},
   "outputs": [
    {
     "name": "stdout",
     "output_type": "stream",
     "text": [
      "Number of samples: 2815\n",
      "Number of features: 921\n"
     ]
    }
   ],
   "source": [
    "# Standardize\n",
    "X = standardize(F.iloc[:,1:])\n",
    "print(f\"Number of samples: {X.shape[0]}\")\n",
    "print(f\"Number of features: {X.shape[1]}\")"
   ]
  },
  {
   "cell_type": "code",
   "execution_count": 8,
   "metadata": {},
   "outputs": [],
   "source": [
    "#X_plus = pd.concat((C, F.iloc[:,1:]), axis=1)\n",
    "#X_plus = standardize(X_plus)"
   ]
  },
  {
   "cell_type": "code",
   "execution_count": 9,
   "metadata": {},
   "outputs": [
    {
     "name": "stdout",
     "output_type": "stream",
     "text": [
      "Number of labels: 13\n"
     ]
    }
   ],
   "source": [
    "# Remove ID column\n",
    "Y = diagnoses.iloc[:,1:]\n",
    "print(f\"Number of labels: {Y.shape[1]}\")"
   ]
  },
  {
   "cell_type": "code",
   "execution_count": 10,
   "metadata": {},
   "outputs": [
    {
     "name": "stdout",
     "output_type": "stream",
     "text": [
      "Number of samples in training set: 2111\n",
      "Number of samples in test set: 704\n"
     ]
    }
   ],
   "source": [
    "# Split dataset into train and test (holdout) set\n",
    "X_train, X_test, Y_train, Y_test = train_test_split(X, Y, test_size=0.25, random_state=0)\n",
    "#X_train, X_test, Y_train, Y_test = train_test_split(X_plus, Y, test_size=0.25, random_state=0)\n",
    "print(f\"Number of samples in training set: {len(X_train)}\")\n",
    "print(f\"Number of samples in test set: {len(X_test)}\")"
   ]
  },
  {
   "cell_type": "markdown",
   "metadata": {},
   "source": [
    "---"
   ]
  },
  {
   "cell_type": "code",
   "execution_count": 23,
   "metadata": {},
   "outputs": [
    {
     "name": "stdout",
     "output_type": "stream",
     "text": [
      "Size of training set: 2111\n",
      "Size of test set: 704\n"
     ]
    }
   ],
   "source": [
    "training_data = datasetMF(X_train, Y_train) \n",
    "test_data = datasetMF(X_test, Y_test)\n",
    "print(f\"Size of training set: {len(training_data)}\")\n",
    "print(f\"Size of test set: {len(test_data)}\")"
   ]
  },
  {
   "cell_type": "code",
   "execution_count": 24,
   "metadata": {},
   "outputs": [],
   "source": [
    "batch_size = 128"
   ]
  },
  {
   "cell_type": "code",
   "execution_count": 25,
   "metadata": {},
   "outputs": [],
   "source": [
    "train_dataloader = DataLoader(training_data, batch_size=batch_size, shuffle=True)\n",
    "test_dataloader = DataLoader(test_data, batch_size=batch_size, shuffle=True)"
   ]
  },
  {
   "cell_type": "code",
   "execution_count": 26,
   "metadata": {},
   "outputs": [
    {
     "name": "stdout",
     "output_type": "stream",
     "text": [
      "Shape of X [batch_size, D]: torch.Size([128, 928])\n",
      "Shape of Y [batch_size]: torch.Size([128, 13]) torch.float32\n"
     ]
    }
   ],
   "source": [
    "for X, y in test_dataloader:\n",
    "    print(f\"Shape of X [batch_size, D]: {X.shape}\")\n",
    "    print(f\"Shape of Y [batch_size]: {y.shape} {y.dtype}\")\n",
    "    break"
   ]
  },
  {
   "cell_type": "code",
   "execution_count": 27,
   "metadata": {},
   "outputs": [],
   "source": [
    "model = MLMLP(input_dim=928, output_dim=13).to(device)\n",
    "loss_fn = nn.BCEWithLogitsLoss()\n",
    "optimizer = torch.optim.Adam(model.parameters(), lr=1e-2)"
   ]
  },
  {
   "cell_type": "code",
   "execution_count": 28,
   "metadata": {},
   "outputs": [
    {
     "name": "stdout",
     "output_type": "stream",
     "text": [
      "Epoch 1\n",
      "-------------------------------\n",
      "loss: 0.384176  [ 1071/ 2111]\n",
      "Test Error: \n",
      " Accuracy: 83.8%, Avg loss: 0.413575 \n",
      "\n",
      "Epoch 2\n",
      "-------------------------------\n",
      "loss: 0.425671  [ 1071/ 2111]\n",
      "Test Error: \n",
      " Accuracy: 83.3%, Avg loss: 0.418799 \n",
      "\n",
      "Epoch 3\n",
      "-------------------------------\n",
      "loss: 0.390294  [ 1071/ 2111]\n",
      "Test Error: \n",
      " Accuracy: 83.3%, Avg loss: 0.394965 \n",
      "\n",
      "Epoch 4\n",
      "-------------------------------\n",
      "loss: 0.376879  [ 1071/ 2111]\n",
      "Test Error: \n",
      " Accuracy: 83.4%, Avg loss: 0.387779 \n",
      "\n",
      "Epoch 5\n",
      "-------------------------------\n",
      "loss: 0.422202  [ 1071/ 2111]\n",
      "Test Error: \n",
      " Accuracy: 83.6%, Avg loss: 0.383446 \n",
      "\n",
      "Epoch 6\n",
      "-------------------------------\n",
      "loss: 0.376499  [ 1071/ 2111]\n",
      "Test Error: \n",
      " Accuracy: 84.9%, Avg loss: 0.381171 \n",
      "\n",
      "Epoch 7\n",
      "-------------------------------\n",
      "loss: 0.395547  [ 1071/ 2111]\n",
      "Test Error: \n",
      " Accuracy: 84.9%, Avg loss: 0.379449 \n",
      "\n",
      "Epoch 8\n",
      "-------------------------------\n",
      "loss: 0.373197  [ 1071/ 2111]\n",
      "Test Error: \n",
      " Accuracy: 84.8%, Avg loss: 0.379548 \n",
      "\n",
      "Epoch 9\n",
      "-------------------------------\n",
      "loss: 0.361331  [ 1071/ 2111]\n",
      "Test Error: \n",
      " Accuracy: 84.8%, Avg loss: 0.378901 \n",
      "\n",
      "Epoch 10\n",
      "-------------------------------\n",
      "loss: 0.375864  [ 1071/ 2111]\n",
      "Test Error: \n",
      " Accuracy: 84.8%, Avg loss: 0.376749 \n",
      "\n",
      "Epoch 11\n",
      "-------------------------------\n",
      "loss: 0.368738  [ 1071/ 2111]\n",
      "Test Error: \n",
      " Accuracy: 83.3%, Avg loss: 0.378781 \n",
      "\n",
      "Epoch 12\n",
      "-------------------------------\n",
      "loss: 0.376789  [ 1071/ 2111]\n",
      "Test Error: \n",
      " Accuracy: 84.8%, Avg loss: 0.376425 \n",
      "\n",
      "Epoch 13\n",
      "-------------------------------\n",
      "loss: 0.348607  [ 1071/ 2111]\n",
      "Test Error: \n",
      " Accuracy: 84.8%, Avg loss: 0.379951 \n",
      "\n",
      "Epoch 14\n",
      "-------------------------------\n",
      "loss: 0.383624  [ 1071/ 2111]\n",
      "Test Error: \n",
      " Accuracy: 84.8%, Avg loss: 0.377373 \n",
      "\n",
      "Epoch 15\n",
      "-------------------------------\n",
      "loss: 0.376398  [ 1071/ 2111]\n",
      "Test Error: \n",
      " Accuracy: 84.8%, Avg loss: 0.378987 \n",
      "\n",
      "Epoch 16\n",
      "-------------------------------\n",
      "loss: 0.382818  [ 1071/ 2111]\n",
      "Test Error: \n",
      " Accuracy: 84.8%, Avg loss: 0.379875 \n",
      "\n",
      "Epoch 17\n",
      "-------------------------------\n",
      "loss: 0.351810  [ 1071/ 2111]\n",
      "Test Error: \n",
      " Accuracy: 84.8%, Avg loss: 0.378050 \n",
      "\n",
      "Epoch 18\n",
      "-------------------------------\n",
      "loss: 0.351676  [ 1071/ 2111]\n",
      "Test Error: \n",
      " Accuracy: 84.8%, Avg loss: 0.380314 \n",
      "\n",
      "Epoch 19\n",
      "-------------------------------\n",
      "loss: 0.361165  [ 1071/ 2111]\n",
      "Test Error: \n",
      " Accuracy: 84.8%, Avg loss: 0.378776 \n",
      "\n",
      "Epoch 20\n",
      "-------------------------------\n",
      "loss: 0.390778  [ 1071/ 2111]\n",
      "Test Error: \n",
      " Accuracy: 83.3%, Avg loss: 0.378457 \n",
      "\n",
      "Done!\n"
     ]
    }
   ],
   "source": [
    "epochs = 20\n",
    "for t in range(epochs):\n",
    "    print(f\"Epoch {t+1}\\n-------------------------------\")\n",
    "    train(train_dataloader, device, model, loss_fn, optimizer)\n",
    "    test(test_dataloader, device, model, loss_fn)\n",
    "print(\"Done!\")"
   ]
  },
  {
   "cell_type": "markdown",
   "metadata": {},
   "source": [
    "---"
   ]
  },
  {
   "cell_type": "code",
   "execution_count": 29,
   "metadata": {},
   "outputs": [
    {
     "name": "stdout",
     "output_type": "stream",
     "text": [
      "Mean scores for combined FNN with with 95% confidence intervals:\n",
      "    AUPRC macro: 0.17 [0.16, 0.17]\n",
      "    AUROC macro: 0.50 [0.50, 0.50]\n",
      "    Brier score: 0.12 [0.11, 0.12]\n",
      "    Hamming loss: 0.15 [0.14, 0.16]\n",
      "    Micro Avg F1 score: 0.38 [0.36, 0.40]\n"
     ]
    }
   ],
   "source": [
    "auprc = []\n",
    "auroc = []\n",
    "brier = []\n",
    "hamm = []\n",
    "f1 = []\n",
    "\n",
    "for i in range(100):\n",
    "    X_test_resampled, y_test_resampled = resample(X_test, Y_test, replace=True, n_samples=len(Y_test), random_state=0+i)\n",
    "\n",
    "    eval_data = datasetMF(X_test_resampled, y_test_resampled)\n",
    "    eval_dataloader = DataLoader(eval_data, batch_size=batch_size, shuffle=False)\n",
    "    y_prob, y_pred  = eval(eval_dataloader, device, model, loss_fn)\n",
    "    \n",
    "    # Compute brier score\n",
    "    brier_scores = np.zeros(y_prob.shape[1])\n",
    "    for i in range(y_prob.shape[1]):\n",
    "        brier_scores[i] = brier_score_loss(y_test_resampled.iloc[:,i], y_prob[:,i])\n",
    "    brier.append(brier_scores.mean())\n",
    "    \n",
    "    # Other metrics\n",
    "    auprc.append(average_precision_score(y_test_resampled, y_prob, average='macro'))\n",
    "    auroc.append(roc_auc_score(y_test_resampled, y_prob, average='macro'))\n",
    "    f1.append(f1_score(y_test_resampled, y_pred, average='micro'))\n",
    "    hamm.append(hamming_loss(y_test_resampled, y_pred))\n",
    "\n",
    "print(f\"Mean scores for combined FNN with with 95% confidence intervals:\")\n",
    "print(\"    AUPRC macro: {:.2f} [{:.2f}, {:.2f}]\".format(np.mean(auprc), np.percentile(auprc, 2.5), np.percentile(auprc, 97.5)))\n",
    "print(\"    AUROC macro: {:.2f} [{:.2f}, {:.2f}]\".format(np.mean(auroc), np.percentile(auroc, 2.5), np.percentile(auroc, 97.5)))\n",
    "print(\"    Brier score: {:.2f} [{:.2f}, {:.2f}]\".format(np.mean(brier), np.percentile(brier, 2.5), np.percentile(brier, 97.5)))\n",
    "print(\"    Hamming loss: {:.2f} [{:.2f}, {:.2f}]\".format(np.mean(hamm), np.percentile(hamm, 2.5), np.percentile(hamm, 97.5)))\n",
    "print(\"    Micro Avg F1 score: {:.2f} [{:.2f}, {:.2f}]\".format(np.mean(f1), np.percentile(f1, 2.5), np.percentile(f1, 97.5)))"
   ]
  }
 ],
 "metadata": {
  "kernelspec": {
   "display_name": "neuro",
   "language": "python",
   "name": "python3"
  },
  "language_info": {
   "codemirror_mode": {
    "name": "ipython",
    "version": 3
   },
   "file_extension": ".py",
   "mimetype": "text/x-python",
   "name": "python",
   "nbconvert_exporter": "python",
   "pygments_lexer": "ipython3",
   "version": "3.11.7"
  }
 },
 "nbformat": 4,
 "nbformat_minor": 2
}
