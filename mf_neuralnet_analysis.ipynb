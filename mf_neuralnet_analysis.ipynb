{
 "cells": [
  {
   "cell_type": "code",
   "execution_count": 1,
   "metadata": {},
   "outputs": [],
   "source": [
    "import pandas as pd\n",
    "import numpy as np\n",
    "import matplotlib.pyplot as plt\n",
    "\n",
    "from utils.utils import load_data, remove_zero_features, standardize\n",
    "from utils.neuralnet_utils import datasetMF\n",
    "from utils.neuralnet_train import train, test, eval\n",
    "from utils.neuralnet_model import MLMLP\n",
    "\n",
    "from sklearn.model_selection import train_test_split\n",
    "from sklearn.utils import resample\n",
    "from sklearn.metrics import average_precision_score, roc_auc_score, brier_score_loss, f1_score, hamming_loss\n",
    "\n",
    "import torch\n",
    "from torch import nn\n",
    "from torch.utils.data import DataLoader"
   ]
  },
  {
   "cell_type": "code",
   "execution_count": 2,
   "metadata": {},
   "outputs": [],
   "source": [
    "plot_path = \"plots/\"\n",
    "weights_path = \"weights/\""
   ]
  },
  {
   "cell_type": "code",
   "execution_count": 3,
   "metadata": {},
   "outputs": [
    {
     "name": "stdout",
     "output_type": "stream",
     "text": [
      "Using mps device\n"
     ]
    }
   ],
   "source": [
    "device = (\n",
    "    \"cuda\"\n",
    "    if torch.cuda.is_available()\n",
    "    else \"mps\"\n",
    "    if torch.backends.mps.is_available()\n",
    "    else \"cpu\"\n",
    ")\n",
    "print(f\"Using {device} device\")"
   ]
  },
  {
   "cell_type": "code",
   "execution_count": 4,
   "metadata": {},
   "outputs": [],
   "source": [
    "# Load data for classification set\n",
    "subject_data, features, diagnoses = load_data('classification')"
   ]
  },
  {
   "cell_type": "code",
   "execution_count": 5,
   "metadata": {},
   "outputs": [
    {
     "name": "stdout",
     "output_type": "stream",
     "text": [
      "Number of samples: 2815\n",
      "Number of features: 922\n"
     ]
    }
   ],
   "source": [
    "# Preprocessing\n",
    "X, _ = remove_zero_features(features.iloc[:,1:])\n",
    "X = standardize(X)\n",
    "print(f\"Number of samples: {X.shape[0]}\")\n",
    "print(f\"Number of features: {X.shape[1]}\")"
   ]
  },
  {
   "cell_type": "code",
   "execution_count": 6,
   "metadata": {},
   "outputs": [
    {
     "name": "stdout",
     "output_type": "stream",
     "text": [
      "Number of labels: 13\n"
     ]
    }
   ],
   "source": [
    "Y = diagnoses.iloc[:,1:]\n",
    "print(f\"Number of labels: {Y.shape[1]}\")"
   ]
  },
  {
   "cell_type": "code",
   "execution_count": 7,
   "metadata": {},
   "outputs": [],
   "source": [
    "X_train, X_test, Y_train, Y_test = train_test_split(X, Y, test_size=0.25, random_state=0)"
   ]
  },
  {
   "cell_type": "markdown",
   "metadata": {},
   "source": [
    "---"
   ]
  },
  {
   "cell_type": "code",
   "execution_count": 8,
   "metadata": {},
   "outputs": [
    {
     "name": "stdout",
     "output_type": "stream",
     "text": [
      "Size of training set: 2111\n",
      "Size of test set: 704\n"
     ]
    }
   ],
   "source": [
    "training_data = datasetMF(X_train, Y_train) \n",
    "test_data = datasetMF(X_test, Y_test)\n",
    "print(f\"Size of training set: {len(training_data)}\")\n",
    "print(f\"Size of test set: {len(test_data)}\")"
   ]
  },
  {
   "cell_type": "code",
   "execution_count": 9,
   "metadata": {},
   "outputs": [],
   "source": [
    "train_dataloader = DataLoader(training_data, batch_size=128, shuffle=True)\n",
    "test_dataloader = DataLoader(test_data, batch_size=128, shuffle=True)"
   ]
  },
  {
   "cell_type": "code",
   "execution_count": 10,
   "metadata": {},
   "outputs": [
    {
     "name": "stdout",
     "output_type": "stream",
     "text": [
      "Shape of X [batch_size, D]: torch.Size([128, 922])\n",
      "Shape of Y [batch_size]: torch.Size([128, 13]) torch.float32\n"
     ]
    }
   ],
   "source": [
    "for X, y in test_dataloader:\n",
    "    print(f\"Shape of X [batch_size, D]: {X.shape}\")\n",
    "    print(f\"Shape of Y [batch_size]: {y.shape} {y.dtype}\")\n",
    "    break"
   ]
  },
  {
   "cell_type": "code",
   "execution_count": 14,
   "metadata": {},
   "outputs": [],
   "source": [
    "model = MLMLP().to(device)\n",
    "loss_fn = nn.BCEWithLogitsLoss()\n",
    "optimizer = torch.optim.Adam(model.parameters(), lr=5e-3)"
   ]
  },
  {
   "cell_type": "code",
   "execution_count": 15,
   "metadata": {},
   "outputs": [
    {
     "name": "stdout",
     "output_type": "stream",
     "text": [
      "Epoch 1\n",
      "-------------------------------\n",
      "loss: 0.699943  [  128/ 2111]\n",
      "Test Error: \n",
      " Accuracy: 0.0%, Avg loss: 0.637952 \n",
      "\n",
      "Epoch 2\n",
      "-------------------------------\n",
      "loss: 0.643524  [  128/ 2111]\n",
      "Test Error: \n",
      " Accuracy: 0.0%, Avg loss: 0.540665 \n",
      "\n",
      "Epoch 3\n",
      "-------------------------------\n",
      "loss: 0.653499  [  128/ 2111]\n",
      "Test Error: \n",
      " Accuracy: 0.0%, Avg loss: 0.509820 \n",
      "\n",
      "Epoch 4\n",
      "-------------------------------\n",
      "loss: 0.610869  [  128/ 2111]\n",
      "Test Error: \n",
      " Accuracy: 0.0%, Avg loss: 0.540673 \n",
      "\n",
      "Epoch 5\n",
      "-------------------------------\n",
      "loss: 0.563083  [  128/ 2111]\n",
      "Test Error: \n",
      " Accuracy: 0.0%, Avg loss: 0.541527 \n",
      "\n",
      "Epoch 6\n",
      "-------------------------------\n",
      "loss: 0.549559  [  128/ 2111]\n",
      "Test Error: \n",
      " Accuracy: 0.0%, Avg loss: 0.495634 \n",
      "\n",
      "Epoch 7\n",
      "-------------------------------\n",
      "loss: 0.527740  [  128/ 2111]\n",
      "Test Error: \n",
      " Accuracy: 0.0%, Avg loss: 0.448319 \n",
      "\n",
      "Epoch 8\n",
      "-------------------------------\n",
      "loss: 0.534007  [  128/ 2111]\n",
      "Test Error: \n",
      " Accuracy: 0.0%, Avg loss: 0.430424 \n",
      "\n",
      "Epoch 9\n",
      "-------------------------------\n",
      "loss: 0.468730  [  128/ 2111]\n",
      "Test Error: \n",
      " Accuracy: 0.0%, Avg loss: 0.427319 \n",
      "\n",
      "Epoch 10\n",
      "-------------------------------\n",
      "loss: 0.496923  [  128/ 2111]\n",
      "Test Error: \n",
      " Accuracy: 0.0%, Avg loss: 0.419164 \n",
      "\n",
      "Epoch 11\n",
      "-------------------------------\n",
      "loss: 0.510618  [  128/ 2111]\n",
      "Test Error: \n",
      " Accuracy: 0.0%, Avg loss: 0.435102 \n",
      "\n",
      "Epoch 12\n",
      "-------------------------------\n",
      "loss: 0.489527  [  128/ 2111]\n",
      "Test Error: \n",
      " Accuracy: 0.0%, Avg loss: 0.457806 \n",
      "\n",
      "Epoch 13\n",
      "-------------------------------\n",
      "loss: 0.467347  [  128/ 2111]\n",
      "Test Error: \n",
      " Accuracy: 0.0%, Avg loss: 0.453886 \n",
      "\n",
      "Epoch 14\n",
      "-------------------------------\n",
      "loss: 0.488860  [  128/ 2111]\n",
      "Test Error: \n",
      " Accuracy: 0.0%, Avg loss: 0.435285 \n",
      "\n",
      "Epoch 15\n",
      "-------------------------------\n",
      "loss: 0.478758  [  128/ 2111]\n",
      "Test Error: \n",
      " Accuracy: 0.0%, Avg loss: 0.415510 \n",
      "\n",
      "Epoch 16\n",
      "-------------------------------\n",
      "loss: 0.441795  [  128/ 2111]\n",
      "Test Error: \n",
      " Accuracy: 0.0%, Avg loss: 0.395764 \n",
      "\n",
      "Epoch 17\n",
      "-------------------------------\n",
      "loss: 0.470406  [  128/ 2111]\n",
      "Test Error: \n",
      " Accuracy: 0.0%, Avg loss: 0.395186 \n",
      "\n",
      "Epoch 18\n",
      "-------------------------------\n",
      "loss: 0.460652  [  128/ 2111]\n",
      "Test Error: \n",
      " Accuracy: 0.0%, Avg loss: 0.392267 \n",
      "\n",
      "Epoch 19\n",
      "-------------------------------\n",
      "loss: 0.431084  [  128/ 2111]\n",
      "Test Error: \n",
      " Accuracy: 0.0%, Avg loss: 0.397580 \n",
      "\n",
      "Epoch 20\n",
      "-------------------------------\n",
      "loss: 0.430404  [  128/ 2111]\n",
      "Test Error: \n",
      " Accuracy: 0.0%, Avg loss: 0.406374 \n",
      "\n",
      "Done!\n"
     ]
    }
   ],
   "source": [
    "epochs = 20\n",
    "for t in range(epochs):\n",
    "    print(f\"Epoch {t+1}\\n-------------------------------\")\n",
    "    train(train_dataloader, device, model, loss_fn, optimizer)\n",
    "    test(test_dataloader, device, model, loss_fn)\n",
    "print(\"Done!\")"
   ]
  },
  {
   "cell_type": "markdown",
   "metadata": {},
   "source": [
    "---"
   ]
  },
  {
   "cell_type": "code",
   "execution_count": 16,
   "metadata": {},
   "outputs": [
    {
     "name": "stdout",
     "output_type": "stream",
     "text": [
      "Mean scores for always zero baseline with MultiOutputClassifier with 95% confidence intervals:\n",
      "    AUPRC macro: 0.17 [0.16, 0.19]\n",
      "    AUROC macro: 0.50 [0.48, 0.52]\n",
      "    Brier score: 0.12 [0.12, 0.13]\n",
      "    Hamming loss: 0.15 [0.14, 0.16]\n",
      "    Micro Avg F1 score: 0.38 [0.36, 0.40]\n"
     ]
    }
   ],
   "source": [
    "auprc = []\n",
    "auroc = []\n",
    "brier = []\n",
    "hamm = []\n",
    "f1 = []\n",
    "\n",
    "eval_dataloader = DataLoader(test_data, batch_size=128, shuffle=False)\n",
    "\n",
    "for i in range(100):\n",
    "    X_test_resampled, y_test_resampled = resample(X_test, Y_test, replace=True, n_samples=len(Y_test), random_state=0+i)\n",
    "\n",
    "    y_prob, y_pred  = eval(eval_dataloader, device, model, loss_fn)\n",
    "    \n",
    "    # Compute brier score\n",
    "    brier_scores = np.zeros(y_prob.shape[1])\n",
    "    for i in range(y_prob.shape[1]):\n",
    "        brier_scores[i] = brier_score_loss(y_test_resampled.iloc[:,i], y_prob[:,i])\n",
    "    brier.append(brier_scores.mean())\n",
    "    \n",
    "    # Other metrics\n",
    "    auprc.append(average_precision_score(y_test_resampled, y_prob, average='macro'))\n",
    "    auroc.append(roc_auc_score(y_test_resampled, y_prob, average='macro'))\n",
    "    f1.append(f1_score(y_test_resampled, y_pred, average='micro'))\n",
    "    hamm.append(hamming_loss(y_test_resampled, y_pred))\n",
    "\n",
    "print(f\"Mean scores for always zero baseline with MultiOutputClassifier with 95% confidence intervals:\")\n",
    "print(\"    AUPRC macro: {:.2f} [{:.2f}, {:.2f}]\".format(np.mean(auprc), np.percentile(auprc, 2.5), np.percentile(auprc, 97.5)))\n",
    "print(\"    AUROC macro: {:.2f} [{:.2f}, {:.2f}]\".format(np.mean(auroc), np.percentile(auroc, 2.5), np.percentile(auroc, 97.5)))\n",
    "print(\"    Brier score: {:.2f} [{:.2f}, {:.2f}]\".format(np.mean(brier), np.percentile(brier, 2.5), np.percentile(brier, 97.5)))\n",
    "print(\"    Hamming loss: {:.2f} [{:.2f}, {:.2f}]\".format(np.mean(hamm), np.percentile(hamm, 2.5), np.percentile(hamm, 97.5)))\n",
    "print(\"    Micro Avg F1 score: {:.2f} [{:.2f}, {:.2f}]\".format(np.mean(f1), np.percentile(f1, 2.5), np.percentile(f1, 97.5)))"
   ]
  }
 ],
 "metadata": {
  "kernelspec": {
   "display_name": "neuro",
   "language": "python",
   "name": "python3"
  },
  "language_info": {
   "codemirror_mode": {
    "name": "ipython",
    "version": 3
   },
   "file_extension": ".py",
   "mimetype": "text/x-python",
   "name": "python",
   "nbconvert_exporter": "python",
   "pygments_lexer": "ipython3",
   "version": "3.11.7"
  }
 },
 "nbformat": 4,
 "nbformat_minor": 2
}
