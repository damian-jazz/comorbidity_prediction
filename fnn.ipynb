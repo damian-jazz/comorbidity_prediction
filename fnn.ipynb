{
 "cells": [
  {
   "cell_type": "code",
   "execution_count": 1,
   "metadata": {},
   "outputs": [],
   "source": [
    "import pandas as pd\n",
    "import numpy as np\n",
    "import matplotlib.pyplot as plt\n",
    "\n",
    "from utils.utils import load_data, remove_zero_features, standardize\n",
    "from utils.utils import generate_oversampled_set, generate_undersampled_set, generate_label_stats\n",
    "\n",
    "from utils.mlp_utils import DatasetBrainMeasures\n",
    "from utils.mlp_train import train, test, train_focal, test_focal, compute_scores\n",
    "from utils.mlp_model import MLP\n",
    "\n",
    "from sklearn.model_selection import train_test_split\n",
    "\n",
    "import torch\n",
    "from torch import nn\n",
    "from torch.utils.data import DataLoader"
   ]
  },
  {
   "cell_type": "code",
   "execution_count": 2,
   "metadata": {},
   "outputs": [],
   "source": [
    "plot_path = \"plots/\"\n",
    "checkpoints_path = \"checkpoints/\""
   ]
  },
  {
   "cell_type": "code",
   "execution_count": 3,
   "metadata": {},
   "outputs": [
    {
     "name": "stdout",
     "output_type": "stream",
     "text": [
      "Using mps device\n"
     ]
    }
   ],
   "source": [
    "device = (\n",
    "    \"cuda\"\n",
    "    if torch.cuda.is_available()\n",
    "    else \"mps\"\n",
    "    if torch.backends.mps.is_available()\n",
    "    else \"cpu\"\n",
    ")\n",
    "print(f\"Using {device} device\")"
   ]
  },
  {
   "cell_type": "markdown",
   "metadata": {},
   "source": [
    "---"
   ]
  },
  {
   "cell_type": "code",
   "execution_count": 4,
   "metadata": {},
   "outputs": [],
   "source": [
    "# Load data for classification task\n",
    "subject_data, features, diagnoses = load_data('classification')"
   ]
  },
  {
   "cell_type": "code",
   "execution_count": 5,
   "metadata": {},
   "outputs": [
    {
     "data": {
      "text/html": [
       "<div>\n",
       "<style scoped>\n",
       "    .dataframe tbody tr th:only-of-type {\n",
       "        vertical-align: middle;\n",
       "    }\n",
       "\n",
       "    .dataframe tbody tr th {\n",
       "        vertical-align: top;\n",
       "    }\n",
       "\n",
       "    .dataframe thead th {\n",
       "        text-align: right;\n",
       "    }\n",
       "</style>\n",
       "<table border=\"1\" class=\"dataframe\">\n",
       "  <thead>\n",
       "    <tr style=\"text-align: right;\">\n",
       "      <th></th>\n",
       "      <th>ID</th>\n",
       "      <th>release_number</th>\n",
       "      <th>Bold.Sequence</th>\n",
       "      <th>Sex</th>\n",
       "      <th>Age</th>\n",
       "      <th>EHQ_Total</th>\n",
       "      <th>Commercial_Use</th>\n",
       "      <th>Full_Pheno</th>\n",
       "      <th>Site</th>\n",
       "      <th>Field_Strength</th>\n",
       "      <th>Cohort</th>\n",
       "    </tr>\n",
       "  </thead>\n",
       "  <tbody>\n",
       "    <tr>\n",
       "      <th>0</th>\n",
       "      <td>NDARDY714NV9</td>\n",
       "      <td>R3</td>\n",
       "      <td>abcd</td>\n",
       "      <td>Male</td>\n",
       "      <td>13.773214</td>\n",
       "      <td>74.57</td>\n",
       "      <td>Yes</td>\n",
       "      <td>Yes</td>\n",
       "      <td>CBIC</td>\n",
       "      <td>3.0</td>\n",
       "      <td>5</td>\n",
       "    </tr>\n",
       "    <tr>\n",
       "      <th>1</th>\n",
       "      <td>NDAREG930XPP</td>\n",
       "      <td>R3</td>\n",
       "      <td>cmrr</td>\n",
       "      <td>Male</td>\n",
       "      <td>7.995779</td>\n",
       "      <td>73.37</td>\n",
       "      <td>Yes</td>\n",
       "      <td>Yes</td>\n",
       "      <td>CBIC</td>\n",
       "      <td>3.0</td>\n",
       "      <td>2</td>\n",
       "    </tr>\n",
       "    <tr>\n",
       "      <th>2</th>\n",
       "      <td>NDAREK255DEE</td>\n",
       "      <td>R3</td>\n",
       "      <td>cmrr</td>\n",
       "      <td>Female</td>\n",
       "      <td>6.508898</td>\n",
       "      <td>26.68</td>\n",
       "      <td>Yes</td>\n",
       "      <td>Yes</td>\n",
       "      <td>CBIC</td>\n",
       "      <td>3.0</td>\n",
       "      <td>2</td>\n",
       "    </tr>\n",
       "    <tr>\n",
       "      <th>3</th>\n",
       "      <td>NDARFB757VY3</td>\n",
       "      <td>R3</td>\n",
       "      <td>abcd</td>\n",
       "      <td>Male</td>\n",
       "      <td>5.851813</td>\n",
       "      <td>-6.67</td>\n",
       "      <td>Yes</td>\n",
       "      <td>Yes</td>\n",
       "      <td>CBIC</td>\n",
       "      <td>3.0</td>\n",
       "      <td>2</td>\n",
       "    </tr>\n",
       "    <tr>\n",
       "      <th>4</th>\n",
       "      <td>NDARFJ803JF7</td>\n",
       "      <td>R3</td>\n",
       "      <td>abcd</td>\n",
       "      <td>Female</td>\n",
       "      <td>16.335843</td>\n",
       "      <td>61.16</td>\n",
       "      <td>Yes</td>\n",
       "      <td>Yes</td>\n",
       "      <td>CBIC</td>\n",
       "      <td>3.0</td>\n",
       "      <td>6</td>\n",
       "    </tr>\n",
       "    <tr>\n",
       "      <th>...</th>\n",
       "      <td>...</td>\n",
       "      <td>...</td>\n",
       "      <td>...</td>\n",
       "      <td>...</td>\n",
       "      <td>...</td>\n",
       "      <td>...</td>\n",
       "      <td>...</td>\n",
       "      <td>...</td>\n",
       "      <td>...</td>\n",
       "      <td>...</td>\n",
       "      <td>...</td>\n",
       "    </tr>\n",
       "    <tr>\n",
       "      <th>2810</th>\n",
       "      <td>NDARZP564MHU</td>\n",
       "      <td>R1</td>\n",
       "      <td>NaN</td>\n",
       "      <td>Male</td>\n",
       "      <td>20.910107</td>\n",
       "      <td>100.05</td>\n",
       "      <td>No</td>\n",
       "      <td>Yes</td>\n",
       "      <td>SI</td>\n",
       "      <td>1.5</td>\n",
       "      <td>6</td>\n",
       "    </tr>\n",
       "    <tr>\n",
       "      <th>2811</th>\n",
       "      <td>NDARZR567HWG</td>\n",
       "      <td>R1</td>\n",
       "      <td>NaN</td>\n",
       "      <td>Female</td>\n",
       "      <td>13.260552</td>\n",
       "      <td>77.84</td>\n",
       "      <td>No</td>\n",
       "      <td>Yes</td>\n",
       "      <td>SI</td>\n",
       "      <td>1.5</td>\n",
       "      <td>5</td>\n",
       "    </tr>\n",
       "    <tr>\n",
       "      <th>2812</th>\n",
       "      <td>NDARZT772PU4</td>\n",
       "      <td>R1</td>\n",
       "      <td>NaN</td>\n",
       "      <td>Female</td>\n",
       "      <td>17.707278</td>\n",
       "      <td>16.68</td>\n",
       "      <td>No</td>\n",
       "      <td>Yes</td>\n",
       "      <td>SI</td>\n",
       "      <td>1.5</td>\n",
       "      <td>6</td>\n",
       "    </tr>\n",
       "    <tr>\n",
       "      <th>2813</th>\n",
       "      <td>NDARZV766YXP</td>\n",
       "      <td>R1</td>\n",
       "      <td>NaN</td>\n",
       "      <td>Male</td>\n",
       "      <td>10.788272</td>\n",
       "      <td>84.51</td>\n",
       "      <td>No</td>\n",
       "      <td>Yes</td>\n",
       "      <td>SI</td>\n",
       "      <td>1.5</td>\n",
       "      <td>4</td>\n",
       "    </tr>\n",
       "    <tr>\n",
       "      <th>2814</th>\n",
       "      <td>NDARZW013RUH</td>\n",
       "      <td>R1</td>\n",
       "      <td>NaN</td>\n",
       "      <td>Female</td>\n",
       "      <td>6.011407</td>\n",
       "      <td>-86.71</td>\n",
       "      <td>No</td>\n",
       "      <td>Yes</td>\n",
       "      <td>SI</td>\n",
       "      <td>1.5</td>\n",
       "      <td>2</td>\n",
       "    </tr>\n",
       "  </tbody>\n",
       "</table>\n",
       "<p>2815 rows × 11 columns</p>\n",
       "</div>"
      ],
      "text/plain": [
       "                ID release_number Bold.Sequence     Sex        Age  EHQ_Total  \\\n",
       "0     NDARDY714NV9             R3          abcd    Male  13.773214      74.57   \n",
       "1     NDAREG930XPP             R3          cmrr    Male   7.995779      73.37   \n",
       "2     NDAREK255DEE             R3          cmrr  Female   6.508898      26.68   \n",
       "3     NDARFB757VY3             R3          abcd    Male   5.851813      -6.67   \n",
       "4     NDARFJ803JF7             R3          abcd  Female  16.335843      61.16   \n",
       "...            ...            ...           ...     ...        ...        ...   \n",
       "2810  NDARZP564MHU             R1           NaN    Male  20.910107     100.05   \n",
       "2811  NDARZR567HWG             R1           NaN  Female  13.260552      77.84   \n",
       "2812  NDARZT772PU4             R1           NaN  Female  17.707278      16.68   \n",
       "2813  NDARZV766YXP             R1           NaN    Male  10.788272      84.51   \n",
       "2814  NDARZW013RUH             R1           NaN  Female   6.011407     -86.71   \n",
       "\n",
       "     Commercial_Use Full_Pheno  Site  Field_Strength  Cohort  \n",
       "0               Yes        Yes  CBIC             3.0       5  \n",
       "1               Yes        Yes  CBIC             3.0       2  \n",
       "2               Yes        Yes  CBIC             3.0       2  \n",
       "3               Yes        Yes  CBIC             3.0       2  \n",
       "4               Yes        Yes  CBIC             3.0       6  \n",
       "...             ...        ...   ...             ...     ...  \n",
       "2810             No        Yes    SI             1.5       6  \n",
       "2811             No        Yes    SI             1.5       5  \n",
       "2812             No        Yes    SI             1.5       6  \n",
       "2813             No        Yes    SI             1.5       4  \n",
       "2814             No        Yes    SI             1.5       2  \n",
       "\n",
       "[2815 rows x 11 columns]"
      ]
     },
     "execution_count": 5,
     "metadata": {},
     "output_type": "execute_result"
    }
   ],
   "source": [
    "subject_data"
   ]
  },
  {
   "cell_type": "code",
   "execution_count": 6,
   "metadata": {},
   "outputs": [],
   "source": [
    "# Remove zero features\n",
    "F = remove_zero_features(features.iloc[:,1:])"
   ]
  },
  {
   "cell_type": "code",
   "execution_count": 7,
   "metadata": {},
   "outputs": [
    {
     "name": "stdout",
     "output_type": "stream",
     "text": [
      "Number of samples: 2815\n",
      "Number of features: 922\n"
     ]
    }
   ],
   "source": [
    "# Standardize\n",
    "X = standardize(F)\n",
    "print(f\"Number of samples: {X.shape[0]}\")\n",
    "print(f\"Number of features: {X.shape[1]}\")"
   ]
  },
  {
   "cell_type": "code",
   "execution_count": 8,
   "metadata": {},
   "outputs": [
    {
     "name": "stdout",
     "output_type": "stream",
     "text": [
      "Number of labels: 13\n"
     ]
    }
   ],
   "source": [
    "# Remove ID column\n",
    "Y = diagnoses.iloc[:,1:]\n",
    "print(f\"Number of labels: {Y.shape[1]}\")"
   ]
  },
  {
   "cell_type": "code",
   "execution_count": 9,
   "metadata": {},
   "outputs": [],
   "source": [
    "boot_iter = 100"
   ]
  },
  {
   "cell_type": "code",
   "execution_count": 10,
   "metadata": {},
   "outputs": [],
   "source": [
    "batch_size = 128"
   ]
  },
  {
   "cell_type": "markdown",
   "metadata": {},
   "source": [
    "---"
   ]
  },
  {
   "cell_type": "markdown",
   "metadata": {},
   "source": [
    "# 1. Use dataset with original label distribution (no resampling)"
   ]
  },
  {
   "cell_type": "code",
   "execution_count": 11,
   "metadata": {},
   "outputs": [
    {
     "name": "stdout",
     "output_type": "stream",
     "text": [
      "Number of samples in training set: 2111\n",
      "Number of samples in test set: 704\n"
     ]
    }
   ],
   "source": [
    "# Split dataset into train and test (holdout) set\n",
    "X_train, X_test, Y_train, Y_test = train_test_split(X, Y, test_size=0.25, random_state=0)\n",
    "print(f\"Number of samples in training set: {len(X_train)}\")\n",
    "print(f\"Number of samples in test set: {len(X_test)}\")"
   ]
  },
  {
   "cell_type": "code",
   "execution_count": 12,
   "metadata": {},
   "outputs": [
    {
     "name": "stdout",
     "output_type": "stream",
     "text": [
      "Size of training set: 2111\n",
      "Size of test set: 704\n"
     ]
    }
   ],
   "source": [
    "training_data = DatasetBrainMeasures(X_train, Y_train) \n",
    "test_data = DatasetBrainMeasures(X_test, Y_test)\n",
    "print(f\"Size of training set: {len(training_data)}\")\n",
    "print(f\"Size of test set: {len(test_data)}\")"
   ]
  },
  {
   "cell_type": "code",
   "execution_count": 13,
   "metadata": {},
   "outputs": [],
   "source": [
    "train_dataloader = DataLoader(training_data, batch_size=batch_size, shuffle=True)\n",
    "test_dataloader = DataLoader(test_data, batch_size=batch_size, shuffle=True)"
   ]
  },
  {
   "cell_type": "code",
   "execution_count": 14,
   "metadata": {},
   "outputs": [
    {
     "name": "stdout",
     "output_type": "stream",
     "text": [
      "Shape of X [batch_size, D]: torch.Size([128, 922])\n",
      "Shape of Y [batch_size]: torch.Size([128, 13]) torch.float32\n"
     ]
    }
   ],
   "source": [
    "for X_, y_ in test_dataloader:\n",
    "    print(f\"Shape of X [batch_size, D]: {X_.shape}\")\n",
    "    print(f\"Shape of Y [batch_size]: {y_.shape} {y_.dtype}\")\n",
    "    break"
   ]
  },
  {
   "cell_type": "markdown",
   "metadata": {},
   "source": [
    "---"
   ]
  },
  {
   "cell_type": "markdown",
   "metadata": {},
   "source": [
    "## 1.1. BCE loss"
   ]
  },
  {
   "cell_type": "code",
   "execution_count": 15,
   "metadata": {},
   "outputs": [],
   "source": [
    "model = MLP(input_dim=X_train.shape[1], output_dim=Y_train.shape[1]).to(device)\n",
    "optimizer = torch.optim.Adam(model.parameters(), lr=1e-3)"
   ]
  },
  {
   "cell_type": "code",
   "execution_count": 16,
   "metadata": {},
   "outputs": [],
   "source": [
    "loss_fn = nn.BCEWithLogitsLoss()"
   ]
  },
  {
   "cell_type": "code",
   "execution_count": 17,
   "metadata": {},
   "outputs": [
    {
     "name": "stdout",
     "output_type": "stream",
     "text": [
      "Epoch 1\n",
      "-------------------------------\n"
     ]
    },
    {
     "name": "stdout",
     "output_type": "stream",
     "text": [
      "loss: 0.492065  [ 1071/ 2111]\n",
      "Test Error: \n",
      " Accuracy: 84.6%, Avg loss: 0.435458 \n",
      "\n",
      "Epoch 2\n",
      "-------------------------------\n",
      "loss: 0.467306  [ 1071/ 2111]\n",
      "Test Error: \n",
      " Accuracy: 84.8%, Avg loss: 0.403875 \n",
      "\n",
      "Epoch 3\n",
      "-------------------------------\n",
      "loss: 0.439433  [ 1071/ 2111]\n",
      "Test Error: \n",
      " Accuracy: 84.8%, Avg loss: 0.387058 \n",
      "\n",
      "Epoch 4\n",
      "-------------------------------\n",
      "loss: 0.410764  [ 1071/ 2111]\n",
      "Test Error: \n",
      " Accuracy: 84.6%, Avg loss: 0.386344 \n",
      "\n",
      "Epoch 5\n",
      "-------------------------------\n",
      "loss: 0.410884  [ 1071/ 2111]\n",
      "Test Error: \n",
      " Accuracy: 83.6%, Avg loss: 0.390633 \n",
      "\n",
      "Epoch 6\n",
      "-------------------------------\n",
      "loss: 0.418411  [ 1071/ 2111]\n",
      "Test Error: \n",
      " Accuracy: 84.0%, Avg loss: 0.380682 \n",
      "\n",
      "Epoch 7\n",
      "-------------------------------\n",
      "loss: 0.376663  [ 1071/ 2111]\n",
      "Test Error: \n",
      " Accuracy: 83.5%, Avg loss: 0.389160 \n",
      "\n",
      "Epoch 8\n",
      "-------------------------------\n",
      "loss: 0.366217  [ 1071/ 2111]\n",
      "Test Error: \n",
      " Accuracy: 83.8%, Avg loss: 0.387119 \n",
      "\n",
      "Epoch 9\n",
      "-------------------------------\n",
      "loss: 0.382777  [ 1071/ 2111]\n",
      "Test Error: \n",
      " Accuracy: 84.1%, Avg loss: 0.385165 \n",
      "\n",
      "Epoch 10\n",
      "-------------------------------\n",
      "loss: 0.381304  [ 1071/ 2111]\n",
      "Test Error: \n",
      " Accuracy: 83.8%, Avg loss: 0.385764 \n",
      "\n",
      "Done!\n"
     ]
    }
   ],
   "source": [
    "epochs = 10\n",
    "for t in range(epochs):\n",
    "    print(f\"Epoch {t+1}\\n-------------------------------\")\n",
    "    train(train_dataloader, device, model, loss_fn, optimizer)\n",
    "    test(test_dataloader, device, model, loss_fn)\n",
    "print(\"Done!\")"
   ]
  },
  {
   "cell_type": "code",
   "execution_count": 18,
   "metadata": {},
   "outputs": [
    {
     "name": "stdout",
     "output_type": "stream",
     "text": [
      "Mean scores with SE and 95% confidence intervals:\n",
      "\n",
      "auprc_macro:                  0.20 (0.01) [0.19, 0.21]\n",
      "auprc_weighted:               0.34 (0.01) [0.32, 0.36]\n",
      "auroc_macro:                  0.56 (0.01) [0.53, 0.58]\n",
      "auroc_weighted:               0.55 (0.01) [0.53, 0.56]\n",
      "brier_macro:                  0.12 (0.00) [0.11, 0.12]\n",
      "brier_weighted:               0.03 (0.00) [0.03, 0.03]\n",
      "balanced_accuracy_macro:      0.50 (0.00) [0.50, 0.50]\n",
      "balanced_accuracy_weighted:   0.08 (0.00) [0.08, 0.08]\n",
      "f1_micro:                     0.38 (0.01) [0.36, 0.40]\n",
      "hamming:                      0.15 (0.00) [0.14, 0.16]\n",
      "subset_accuracy:              0.10 (0.01) [0.08, 0.12]\n"
     ]
    }
   ],
   "source": [
    "compute_scores(X_test, Y_test, device, model, batch_size, boot_iter)"
   ]
  },
  {
   "cell_type": "markdown",
   "metadata": {},
   "source": [
    "---"
   ]
  },
  {
   "cell_type": "markdown",
   "metadata": {},
   "source": [
    "## 1.2. Focal loss"
   ]
  },
  {
   "cell_type": "code",
   "execution_count": 19,
   "metadata": {},
   "outputs": [],
   "source": [
    "model = MLP(input_dim=X_train.shape[1], output_dim=Y_train.shape[1]).to(device)\n",
    "optimizer = torch.optim.Adam(model.parameters(), lr=1e-3)\n",
    "gamma = 2.0"
   ]
  },
  {
   "cell_type": "code",
   "execution_count": 20,
   "metadata": {},
   "outputs": [
    {
     "name": "stdout",
     "output_type": "stream",
     "text": [
      "Epoch 1\n",
      "-------------------------------\n"
     ]
    },
    {
     "name": "stdout",
     "output_type": "stream",
     "text": [
      "loss: 0.145564  [ 1071/ 2111]\n",
      "Test Error: \n",
      " Accuracy: 83.3%, Avg loss: 0.124443 \n",
      "\n",
      "Epoch 2\n",
      "-------------------------------\n",
      "loss: 0.119060  [ 1071/ 2111]\n",
      "Test Error: \n",
      " Accuracy: 83.3%, Avg loss: 0.109184 \n",
      "\n",
      "Epoch 3\n",
      "-------------------------------\n",
      "loss: 0.109142  [ 1071/ 2111]\n",
      "Test Error: \n",
      " Accuracy: 83.3%, Avg loss: 0.103832 \n",
      "\n",
      "Epoch 4\n",
      "-------------------------------\n",
      "loss: 0.110452  [ 1071/ 2111]\n",
      "Test Error: \n",
      " Accuracy: 83.3%, Avg loss: 0.107888 \n",
      "\n",
      "Epoch 5\n",
      "-------------------------------\n",
      "loss: 0.109459  [ 1071/ 2111]\n",
      "Test Error: \n",
      " Accuracy: 83.3%, Avg loss: 0.104338 \n",
      "\n",
      "Epoch 6\n",
      "-------------------------------\n",
      "loss: 0.108868  [ 1071/ 2111]\n",
      "Test Error: \n",
      " Accuracy: 83.3%, Avg loss: 0.104638 \n",
      "\n",
      "Epoch 7\n",
      "-------------------------------\n",
      "loss: 0.103949  [ 1071/ 2111]\n",
      "Test Error: \n",
      " Accuracy: 83.3%, Avg loss: 0.103892 \n",
      "\n",
      "Epoch 8\n",
      "-------------------------------\n",
      "loss: 0.098755  [ 1071/ 2111]\n",
      "Test Error: \n",
      " Accuracy: 83.3%, Avg loss: 0.103468 \n",
      "\n",
      "Epoch 9\n",
      "-------------------------------\n",
      "loss: 0.089774  [ 1071/ 2111]\n",
      "Test Error: \n",
      " Accuracy: 83.3%, Avg loss: 0.101518 \n",
      "\n",
      "Epoch 10\n",
      "-------------------------------\n",
      "loss: 0.098025  [ 1071/ 2111]\n",
      "Test Error: \n",
      " Accuracy: 83.3%, Avg loss: 0.101418 \n",
      "\n",
      "Done!\n"
     ]
    }
   ],
   "source": [
    "epochs = 10\n",
    "for t in range(epochs):\n",
    "    print(f\"Epoch {t+1}\\n-------------------------------\")\n",
    "    train_focal(train_dataloader, device, model, optimizer, gamma)\n",
    "    test_focal(test_dataloader, device, model, gamma)\n",
    "print(\"Done!\")"
   ]
  },
  {
   "cell_type": "code",
   "execution_count": 21,
   "metadata": {},
   "outputs": [
    {
     "name": "stdout",
     "output_type": "stream",
     "text": [
      "Mean scores with SE and 95% confidence intervals:\n",
      "\n",
      "auprc_macro:                  0.19 (0.01) [0.18, 0.21]\n",
      "auprc_weighted:               0.34 (0.01) [0.32, 0.36]\n",
      "auroc_macro:                  0.55 (0.01) [0.53, 0.57]\n",
      "auroc_weighted:               0.54 (0.01) [0.52, 0.56]\n",
      "brier_macro:                  0.16 (0.00) [0.16, 0.16]\n",
      "brier_weighted:               0.03 (0.00) [0.03, 0.03]\n",
      "balanced_accuracy_macro:      0.50 (0.00) [0.50, 0.50]\n",
      "balanced_accuracy_weighted:   0.08 (0.00) [0.08, 0.08]\n",
      "f1_micro:                     0.38 (0.01) [0.36, 0.40]\n",
      "hamming:                      0.15 (0.00) [0.14, 0.16]\n",
      "subset_accuracy:              0.10 (0.01) [0.08, 0.12]\n"
     ]
    }
   ],
   "source": [
    "compute_scores(X_test, Y_test, device, model, batch_size, boot_iter)"
   ]
  },
  {
   "cell_type": "markdown",
   "metadata": {},
   "source": [
    "# 2. Use undersampled dataset"
   ]
  },
  {
   "cell_type": "code",
   "execution_count": 32,
   "metadata": {},
   "outputs": [],
   "source": [
    "# Split dataset into train and test (holdout) set\n",
    "X_train, X_test, Y_train, Y_test = train_test_split(X, Y, test_size=0.25, random_state=0)"
   ]
  },
  {
   "cell_type": "code",
   "execution_count": 33,
   "metadata": {},
   "outputs": [
    {
     "name": "stdout",
     "output_type": "stream",
     "text": [
      "Mean imbalance ratio: 2.956543202759316\n"
     ]
    },
    {
     "data": {
      "text/html": [
       "<div>\n",
       "<style scoped>\n",
       "    .dataframe tbody tr th:only-of-type {\n",
       "        vertical-align: middle;\n",
       "    }\n",
       "\n",
       "    .dataframe tbody tr th {\n",
       "        vertical-align: top;\n",
       "    }\n",
       "\n",
       "    .dataframe thead th {\n",
       "        text-align: right;\n",
       "    }\n",
       "</style>\n",
       "<table border=\"1\" class=\"dataframe\">\n",
       "  <thead>\n",
       "    <tr style=\"text-align: right;\">\n",
       "      <th></th>\n",
       "      <th>Absolute frequency</th>\n",
       "      <th>Relative frequency</th>\n",
       "      <th>Imbalance ratio</th>\n",
       "    </tr>\n",
       "  </thead>\n",
       "  <tbody>\n",
       "    <tr>\n",
       "      <th>Trauma_And_Stress_RelatedDisorders</th>\n",
       "      <td>38</td>\n",
       "      <td>0.051701</td>\n",
       "      <td>4.473684</td>\n",
       "    </tr>\n",
       "    <tr>\n",
       "      <th>DepressiveDisorders</th>\n",
       "      <td>80</td>\n",
       "      <td>0.108844</td>\n",
       "      <td>2.125000</td>\n",
       "    </tr>\n",
       "    <tr>\n",
       "      <th>Attention_Deficit_HyperactivityDisorder</th>\n",
       "      <td>170</td>\n",
       "      <td>0.231293</td>\n",
       "      <td>1.000000</td>\n",
       "    </tr>\n",
       "    <tr>\n",
       "      <th>MotorDisorder</th>\n",
       "      <td>52</td>\n",
       "      <td>0.070748</td>\n",
       "      <td>3.269231</td>\n",
       "    </tr>\n",
       "    <tr>\n",
       "      <th>AutismSpectrumDisorder</th>\n",
       "      <td>101</td>\n",
       "      <td>0.137415</td>\n",
       "      <td>1.683168</td>\n",
       "    </tr>\n",
       "    <tr>\n",
       "      <th>CommunicationDisorder</th>\n",
       "      <td>75</td>\n",
       "      <td>0.102041</td>\n",
       "      <td>2.266667</td>\n",
       "    </tr>\n",
       "    <tr>\n",
       "      <th>OtherDisorders</th>\n",
       "      <td>35</td>\n",
       "      <td>0.047619</td>\n",
       "      <td>4.857143</td>\n",
       "    </tr>\n",
       "    <tr>\n",
       "      <th>SpecificLearningDisorder</th>\n",
       "      <td>128</td>\n",
       "      <td>0.174150</td>\n",
       "      <td>1.328125</td>\n",
       "    </tr>\n",
       "    <tr>\n",
       "      <th>Obsessive_Compulsive_And_RelatedDisorders</th>\n",
       "      <td>32</td>\n",
       "      <td>0.043537</td>\n",
       "      <td>5.312500</td>\n",
       "    </tr>\n",
       "    <tr>\n",
       "      <th>Disruptive</th>\n",
       "      <td>74</td>\n",
       "      <td>0.100680</td>\n",
       "      <td>2.297297</td>\n",
       "    </tr>\n",
       "    <tr>\n",
       "      <th>IntellectualDisability</th>\n",
       "      <td>27</td>\n",
       "      <td>0.036735</td>\n",
       "      <td>6.296296</td>\n",
       "    </tr>\n",
       "    <tr>\n",
       "      <th>EliminationDisorder</th>\n",
       "      <td>73</td>\n",
       "      <td>0.099320</td>\n",
       "      <td>2.328767</td>\n",
       "    </tr>\n",
       "    <tr>\n",
       "      <th>AnxietyDisorders</th>\n",
       "      <td>142</td>\n",
       "      <td>0.193197</td>\n",
       "      <td>1.197183</td>\n",
       "    </tr>\n",
       "  </tbody>\n",
       "</table>\n",
       "</div>"
      ],
      "text/plain": [
       "                                           Absolute frequency  \\\n",
       "Trauma_And_Stress_RelatedDisorders                         38   \n",
       "DepressiveDisorders                                        80   \n",
       "Attention_Deficit_HyperactivityDisorder                   170   \n",
       "MotorDisorder                                              52   \n",
       "AutismSpectrumDisorder                                    101   \n",
       "CommunicationDisorder                                      75   \n",
       "OtherDisorders                                             35   \n",
       "SpecificLearningDisorder                                  128   \n",
       "Obsessive_Compulsive_And_RelatedDisorders                  32   \n",
       "Disruptive                                                 74   \n",
       "IntellectualDisability                                     27   \n",
       "EliminationDisorder                                        73   \n",
       "AnxietyDisorders                                          142   \n",
       "\n",
       "                                           Relative frequency  Imbalance ratio  \n",
       "Trauma_And_Stress_RelatedDisorders                   0.051701         4.473684  \n",
       "DepressiveDisorders                                  0.108844         2.125000  \n",
       "Attention_Deficit_HyperactivityDisorder              0.231293         1.000000  \n",
       "MotorDisorder                                        0.070748         3.269231  \n",
       "AutismSpectrumDisorder                               0.137415         1.683168  \n",
       "CommunicationDisorder                                0.102041         2.266667  \n",
       "OtherDisorders                                       0.047619         4.857143  \n",
       "SpecificLearningDisorder                             0.174150         1.328125  \n",
       "Obsessive_Compulsive_And_RelatedDisorders            0.043537         5.312500  \n",
       "Disruptive                                           0.100680         2.297297  \n",
       "IntellectualDisability                               0.036735         6.296296  \n",
       "EliminationDisorder                                  0.099320         2.328767  \n",
       "AnxietyDisorders                                     0.193197         1.197183  "
      ]
     },
     "execution_count": 33,
     "metadata": {},
     "output_type": "execute_result"
    }
   ],
   "source": [
    "X_under, Y_under = generate_undersampled_set(X_train, Y_train)\n",
    "label_stats, mean_ir = generate_label_stats(Y_under, True)\n",
    "print(f\"Mean imbalance ratio: {mean_ir}\")\n",
    "label_stats"
   ]
  },
  {
   "cell_type": "code",
   "execution_count": 34,
   "metadata": {},
   "outputs": [
    {
     "name": "stdout",
     "output_type": "stream",
     "text": [
      "Number of samples in training set: 735\n",
      "Number of samples in test set: 704\n"
     ]
    }
   ],
   "source": [
    "X_train, Y_train = X_under, Y_under\n",
    "print(f\"Number of samples in training set: {len(X_train)}\")\n",
    "print(f\"Number of samples in test set: {len(X_test)}\")"
   ]
  },
  {
   "cell_type": "code",
   "execution_count": 35,
   "metadata": {},
   "outputs": [
    {
     "name": "stdout",
     "output_type": "stream",
     "text": [
      "Size of training set: 735\n",
      "Size of test set: 704\n"
     ]
    }
   ],
   "source": [
    "training_data = DatasetBrainMeasures(X_train, Y_train) \n",
    "test_data = DatasetBrainMeasures(X_test, Y_test)\n",
    "print(f\"Size of training set: {len(training_data)}\")\n",
    "print(f\"Size of test set: {len(test_data)}\")"
   ]
  },
  {
   "cell_type": "code",
   "execution_count": 26,
   "metadata": {},
   "outputs": [],
   "source": [
    "train_dataloader = DataLoader(training_data, batch_size=batch_size, shuffle=True)\n",
    "test_dataloader = DataLoader(test_data, batch_size=batch_size, shuffle=True)"
   ]
  },
  {
   "cell_type": "code",
   "execution_count": 27,
   "metadata": {},
   "outputs": [
    {
     "name": "stdout",
     "output_type": "stream",
     "text": [
      "Shape of X [batch_size, D]: torch.Size([128, 922])\n",
      "Shape of Y [batch_size]: torch.Size([128, 13]) torch.float32\n"
     ]
    }
   ],
   "source": [
    "for X_, y_ in test_dataloader:\n",
    "    print(f\"Shape of X [batch_size, D]: {X_.shape}\")\n",
    "    print(f\"Shape of Y [batch_size]: {y_.shape} {y_.dtype}\")\n",
    "    break"
   ]
  },
  {
   "cell_type": "markdown",
   "metadata": {},
   "source": [
    "---"
   ]
  },
  {
   "cell_type": "code",
   "execution_count": 28,
   "metadata": {},
   "outputs": [],
   "source": [
    "model = MLP(input_dim=X_train.shape[1], output_dim=Y_train.shape[1]).to(device)\n",
    "optimizer = torch.optim.Adam(model.parameters(), lr=1e-3)"
   ]
  },
  {
   "cell_type": "code",
   "execution_count": 29,
   "metadata": {},
   "outputs": [],
   "source": [
    "loss_fn = nn.BCEWithLogitsLoss()"
   ]
  },
  {
   "cell_type": "code",
   "execution_count": 30,
   "metadata": {},
   "outputs": [
    {
     "name": "stdout",
     "output_type": "stream",
     "text": [
      "Epoch 1\n",
      "-------------------------------\n"
     ]
    },
    {
     "name": "stdout",
     "output_type": "stream",
     "text": [
      "loss: 0.647824  [  570/  735]\n",
      "Test Error: \n",
      " Accuracy: 84.4%, Avg loss: 0.609645 \n",
      "\n",
      "Epoch 2\n",
      "-------------------------------\n",
      "loss: 0.598936  [  570/  735]\n",
      "Test Error: \n",
      " Accuracy: 84.8%, Avg loss: 0.503692 \n",
      "\n",
      "Epoch 3\n",
      "-------------------------------\n",
      "loss: 0.523614  [  570/  735]\n",
      "Test Error: \n",
      " Accuracy: 84.3%, Avg loss: 0.470026 \n",
      "\n",
      "Epoch 4\n",
      "-------------------------------\n",
      "loss: 0.478344  [  570/  735]\n",
      "Test Error: \n",
      " Accuracy: 83.3%, Avg loss: 0.432449 \n",
      "\n",
      "Epoch 5\n",
      "-------------------------------\n",
      "loss: 0.441635  [  570/  735]\n",
      "Test Error: \n",
      " Accuracy: 83.3%, Avg loss: 0.418663 \n",
      "\n",
      "Epoch 6\n",
      "-------------------------------\n",
      "loss: 0.418031  [  570/  735]\n",
      "Test Error: \n",
      " Accuracy: 83.3%, Avg loss: 0.415452 \n",
      "\n",
      "Epoch 7\n",
      "-------------------------------\n",
      "loss: 0.400661  [  570/  735]\n",
      "Test Error: \n",
      " Accuracy: 83.3%, Avg loss: 0.409977 \n",
      "\n",
      "Epoch 8\n",
      "-------------------------------\n",
      "loss: 0.409955  [  570/  735]\n",
      "Test Error: \n",
      " Accuracy: 83.3%, Avg loss: 0.408881 \n",
      "\n",
      "Epoch 9\n",
      "-------------------------------\n",
      "loss: 0.412401  [  570/  735]\n",
      "Test Error: \n",
      " Accuracy: 83.3%, Avg loss: 0.409551 \n",
      "\n",
      "Epoch 10\n",
      "-------------------------------\n",
      "loss: 0.366932  [  570/  735]\n",
      "Test Error: \n",
      " Accuracy: 83.3%, Avg loss: 0.408580 \n",
      "\n",
      "Done!\n"
     ]
    }
   ],
   "source": [
    "epochs = 10\n",
    "for t in range(epochs):\n",
    "    print(f\"Epoch {t+1}\\n-------------------------------\")\n",
    "    train(train_dataloader, device, model, loss_fn, optimizer)\n",
    "    test(test_dataloader, device, model, loss_fn)\n",
    "print(\"Done!\")"
   ]
  },
  {
   "cell_type": "code",
   "execution_count": 31,
   "metadata": {},
   "outputs": [
    {
     "name": "stdout",
     "output_type": "stream",
     "text": [
      "Mean scores with SE and 95% confidence intervals:\n",
      "\n",
      "auprc_macro:                  0.21 (0.01) [0.20, 0.22]\n",
      "auprc_weighted:               0.36 (0.01) [0.34, 0.38]\n",
      "auroc_macro:                  0.57 (0.01) [0.55, 0.59]\n",
      "auroc_weighted:               0.57 (0.01) [0.54, 0.59]\n",
      "brier_macro:                  0.13 (0.00) [0.12, 0.13]\n",
      "brier_weighted:               0.03 (0.00) [0.03, 0.03]\n",
      "balanced_accuracy_macro:      0.50 (0.00) [0.50, 0.50]\n",
      "balanced_accuracy_weighted:   0.08 (0.00) [0.08, 0.08]\n",
      "f1_micro:                     0.00 (0.00) [0.00, 0.00]\n",
      "hamming:                      0.17 (0.00) [0.16, 0.17]\n",
      "subset_accuracy:              0.10 (0.01) [0.08, 0.12]\n"
     ]
    }
   ],
   "source": [
    "compute_scores(X_test, Y_test, device, model, batch_size, boot_iter)"
   ]
  },
  {
   "cell_type": "markdown",
   "metadata": {},
   "source": [
    "# 3. Use oversampled dataset"
   ]
  },
  {
   "cell_type": "code",
   "execution_count": 36,
   "metadata": {},
   "outputs": [],
   "source": [
    "# Split dataset into train and test (holdout) set\n",
    "X_train, X_test, Y_train, Y_test = train_test_split(X, Y, test_size=0.25, random_state=0)"
   ]
  },
  {
   "cell_type": "code",
   "execution_count": 37,
   "metadata": {},
   "outputs": [
    {
     "name": "stdout",
     "output_type": "stream",
     "text": [
      "Mean imbalance ratio: 1.6752910161710401\n"
     ]
    },
    {
     "data": {
      "text/html": [
       "<div>\n",
       "<style scoped>\n",
       "    .dataframe tbody tr th:only-of-type {\n",
       "        vertical-align: middle;\n",
       "    }\n",
       "\n",
       "    .dataframe tbody tr th {\n",
       "        vertical-align: top;\n",
       "    }\n",
       "\n",
       "    .dataframe thead th {\n",
       "        text-align: right;\n",
       "    }\n",
       "</style>\n",
       "<table border=\"1\" class=\"dataframe\">\n",
       "  <thead>\n",
       "    <tr style=\"text-align: right;\">\n",
       "      <th></th>\n",
       "      <th>Absolute frequency</th>\n",
       "      <th>Relative frequency</th>\n",
       "      <th>Imbalance ratio</th>\n",
       "    </tr>\n",
       "  </thead>\n",
       "  <tbody>\n",
       "    <tr>\n",
       "      <th>Trauma_And_Stress_RelatedDisorders</th>\n",
       "      <td>1895</td>\n",
       "      <td>0.112296</td>\n",
       "      <td>2.105541</td>\n",
       "    </tr>\n",
       "    <tr>\n",
       "      <th>DepressiveDisorders</th>\n",
       "      <td>2577</td>\n",
       "      <td>0.152711</td>\n",
       "      <td>1.548312</td>\n",
       "    </tr>\n",
       "    <tr>\n",
       "      <th>Attention_Deficit_HyperactivityDisorder</th>\n",
       "      <td>3496</td>\n",
       "      <td>0.207170</td>\n",
       "      <td>1.141304</td>\n",
       "    </tr>\n",
       "    <tr>\n",
       "      <th>MotorDisorder</th>\n",
       "      <td>2386</td>\n",
       "      <td>0.141393</td>\n",
       "      <td>1.672255</td>\n",
       "    </tr>\n",
       "    <tr>\n",
       "      <th>AutismSpectrumDisorder</th>\n",
       "      <td>2820</td>\n",
       "      <td>0.167111</td>\n",
       "      <td>1.414894</td>\n",
       "    </tr>\n",
       "    <tr>\n",
       "      <th>CommunicationDisorder</th>\n",
       "      <td>3459</td>\n",
       "      <td>0.204978</td>\n",
       "      <td>1.153513</td>\n",
       "    </tr>\n",
       "    <tr>\n",
       "      <th>OtherDisorders</th>\n",
       "      <td>1769</td>\n",
       "      <td>0.104830</td>\n",
       "      <td>2.255512</td>\n",
       "    </tr>\n",
       "    <tr>\n",
       "      <th>SpecificLearningDisorder</th>\n",
       "      <td>3990</td>\n",
       "      <td>0.236444</td>\n",
       "      <td>1.000000</td>\n",
       "    </tr>\n",
       "    <tr>\n",
       "      <th>Obsessive_Compulsive_And_RelatedDisorders</th>\n",
       "      <td>2120</td>\n",
       "      <td>0.125630</td>\n",
       "      <td>1.882075</td>\n",
       "    </tr>\n",
       "    <tr>\n",
       "      <th>Disruptive</th>\n",
       "      <td>2080</td>\n",
       "      <td>0.123259</td>\n",
       "      <td>1.918269</td>\n",
       "    </tr>\n",
       "    <tr>\n",
       "      <th>IntellectualDisability</th>\n",
       "      <td>1644</td>\n",
       "      <td>0.097422</td>\n",
       "      <td>2.427007</td>\n",
       "    </tr>\n",
       "    <tr>\n",
       "      <th>EliminationDisorder</th>\n",
       "      <td>2335</td>\n",
       "      <td>0.138370</td>\n",
       "      <td>1.708779</td>\n",
       "    </tr>\n",
       "    <tr>\n",
       "      <th>AnxietyDisorders</th>\n",
       "      <td>2572</td>\n",
       "      <td>0.152415</td>\n",
       "      <td>1.551322</td>\n",
       "    </tr>\n",
       "  </tbody>\n",
       "</table>\n",
       "</div>"
      ],
      "text/plain": [
       "                                           Absolute frequency  \\\n",
       "Trauma_And_Stress_RelatedDisorders                       1895   \n",
       "DepressiveDisorders                                      2577   \n",
       "Attention_Deficit_HyperactivityDisorder                  3496   \n",
       "MotorDisorder                                            2386   \n",
       "AutismSpectrumDisorder                                   2820   \n",
       "CommunicationDisorder                                    3459   \n",
       "OtherDisorders                                           1769   \n",
       "SpecificLearningDisorder                                 3990   \n",
       "Obsessive_Compulsive_And_RelatedDisorders                2120   \n",
       "Disruptive                                               2080   \n",
       "IntellectualDisability                                   1644   \n",
       "EliminationDisorder                                      2335   \n",
       "AnxietyDisorders                                         2572   \n",
       "\n",
       "                                           Relative frequency  Imbalance ratio  \n",
       "Trauma_And_Stress_RelatedDisorders                   0.112296         2.105541  \n",
       "DepressiveDisorders                                  0.152711         1.548312  \n",
       "Attention_Deficit_HyperactivityDisorder              0.207170         1.141304  \n",
       "MotorDisorder                                        0.141393         1.672255  \n",
       "AutismSpectrumDisorder                               0.167111         1.414894  \n",
       "CommunicationDisorder                                0.204978         1.153513  \n",
       "OtherDisorders                                       0.104830         2.255512  \n",
       "SpecificLearningDisorder                             0.236444         1.000000  \n",
       "Obsessive_Compulsive_And_RelatedDisorders            0.125630         1.882075  \n",
       "Disruptive                                           0.123259         1.918269  \n",
       "IntellectualDisability                               0.097422         2.427007  \n",
       "EliminationDisorder                                  0.138370         1.708779  \n",
       "AnxietyDisorders                                     0.152415         1.551322  "
      ]
     },
     "execution_count": 37,
     "metadata": {},
     "output_type": "execute_result"
    }
   ],
   "source": [
    "# Resample data (undersampling)\n",
    "X_over, Y_over = generate_oversampled_set(X_train, Y_train)\n",
    "label_stats, mean_ir = generate_label_stats(Y_over, True)\n",
    "print(f\"Mean imbalance ratio: {mean_ir}\")\n",
    "label_stats"
   ]
  },
  {
   "cell_type": "code",
   "execution_count": 38,
   "metadata": {},
   "outputs": [
    {
     "name": "stdout",
     "output_type": "stream",
     "text": [
      "Number of samples in training set: 16875\n",
      "Number of samples in test set: 704\n"
     ]
    }
   ],
   "source": [
    "X_train, Y_train = X_over, Y_over\n",
    "print(f\"Number of samples in training set: {len(X_train)}\")\n",
    "print(f\"Number of samples in test set: {len(X_test)}\")"
   ]
  },
  {
   "cell_type": "code",
   "execution_count": 39,
   "metadata": {},
   "outputs": [
    {
     "name": "stdout",
     "output_type": "stream",
     "text": [
      "Size of training set: 16875\n",
      "Size of test set: 704\n"
     ]
    }
   ],
   "source": [
    "training_data = DatasetBrainMeasures(X_train, Y_train) \n",
    "test_data = DatasetBrainMeasures(X_test, Y_test)\n",
    "print(f\"Size of training set: {len(training_data)}\")\n",
    "print(f\"Size of test set: {len(test_data)}\")"
   ]
  },
  {
   "cell_type": "code",
   "execution_count": 40,
   "metadata": {},
   "outputs": [],
   "source": [
    "train_dataloader = DataLoader(training_data, batch_size=batch_size, shuffle=True)\n",
    "test_dataloader = DataLoader(test_data, batch_size=batch_size, shuffle=True)"
   ]
  },
  {
   "cell_type": "code",
   "execution_count": 41,
   "metadata": {},
   "outputs": [
    {
     "name": "stdout",
     "output_type": "stream",
     "text": [
      "Shape of X [batch_size, D]: torch.Size([128, 922])\n",
      "Shape of Y [batch_size]: torch.Size([128, 13]) torch.float32\n"
     ]
    }
   ],
   "source": [
    "for X_, y_ in test_dataloader:\n",
    "    print(f\"Shape of X [batch_size, D]: {X_.shape}\")\n",
    "    print(f\"Shape of Y [batch_size]: {y_.shape} {y_.dtype}\")\n",
    "    break"
   ]
  },
  {
   "cell_type": "markdown",
   "metadata": {},
   "source": [
    "---"
   ]
  },
  {
   "cell_type": "code",
   "execution_count": 42,
   "metadata": {},
   "outputs": [],
   "source": [
    "model = MLP(input_dim=X_train.shape[1], output_dim=Y_train.shape[1]).to(device)\n",
    "optimizer = torch.optim.Adam(model.parameters(), lr=1e-3)"
   ]
  },
  {
   "cell_type": "code",
   "execution_count": 43,
   "metadata": {},
   "outputs": [],
   "source": [
    "loss_fn = nn.BCEWithLogitsLoss()"
   ]
  },
  {
   "cell_type": "code",
   "execution_count": 45,
   "metadata": {},
   "outputs": [
    {
     "name": "stdout",
     "output_type": "stream",
     "text": [
      "Epoch 1\n",
      "-------------------------------\n"
     ]
    },
    {
     "name": "stdout",
     "output_type": "stream",
     "text": [
      "loss: 0.147634  [14124/16875]\n",
      "Test Error: \n",
      " Accuracy: 84.3%, Avg loss: 0.438117 \n",
      "\n",
      "Epoch 2\n",
      "-------------------------------\n",
      "loss: 0.218950  [14124/16875]\n",
      "Test Error: \n",
      " Accuracy: 84.3%, Avg loss: 0.430178 \n",
      "\n",
      "Epoch 3\n",
      "-------------------------------\n",
      "loss: 0.187419  [14124/16875]\n",
      "Test Error: \n",
      " Accuracy: 84.5%, Avg loss: 0.427287 \n",
      "\n",
      "Epoch 4\n",
      "-------------------------------\n",
      "loss: 0.204801  [14124/16875]\n",
      "Test Error: \n",
      " Accuracy: 84.5%, Avg loss: 0.431450 \n",
      "\n",
      "Epoch 5\n",
      "-------------------------------\n",
      "loss: 0.162329  [14124/16875]\n",
      "Test Error: \n",
      " Accuracy: 84.5%, Avg loss: 0.428462 \n",
      "\n",
      "Epoch 6\n",
      "-------------------------------\n",
      "loss: 0.169589  [14124/16875]\n",
      "Test Error: \n",
      " Accuracy: 84.5%, Avg loss: 0.437055 \n",
      "\n",
      "Epoch 7\n",
      "-------------------------------\n",
      "loss: 0.151113  [14124/16875]\n",
      "Test Error: \n",
      " Accuracy: 84.5%, Avg loss: 0.432552 \n",
      "\n",
      "Epoch 8\n",
      "-------------------------------\n",
      "loss: 0.181620  [14124/16875]\n",
      "Test Error: \n",
      " Accuracy: 84.6%, Avg loss: 0.437984 \n",
      "\n",
      "Epoch 9\n",
      "-------------------------------\n",
      "loss: 0.183761  [14124/16875]\n",
      "Test Error: \n",
      " Accuracy: 84.5%, Avg loss: 0.452481 \n",
      "\n",
      "Epoch 10\n",
      "-------------------------------\n",
      "loss: 0.170883  [14124/16875]\n",
      "Test Error: \n",
      " Accuracy: 84.6%, Avg loss: 0.433295 \n",
      "\n",
      "Done!\n"
     ]
    }
   ],
   "source": [
    "epochs = 10\n",
    "for t in range(epochs):\n",
    "    print(f\"Epoch {t+1}\\n-------------------------------\")\n",
    "    train(train_dataloader, device, model, loss_fn, optimizer)\n",
    "    test(test_dataloader, device, model, loss_fn)\n",
    "print(\"Done!\")"
   ]
  },
  {
   "cell_type": "code",
   "execution_count": 46,
   "metadata": {},
   "outputs": [
    {
     "name": "stdout",
     "output_type": "stream",
     "text": [
      "Mean scores with SE and 95% confidence intervals:\n",
      "\n",
      "auprc_macro:                  0.21 (0.01) [0.19, 0.22]\n",
      "auprc_weighted:               0.35 (0.01) [0.33, 0.37]\n",
      "auroc_macro:                  0.55 (0.01) [0.53, 0.57]\n",
      "auroc_weighted:               0.54 (0.01) [0.52, 0.56]\n",
      "brier_macro:                  0.12 (0.00) [0.12, 0.13]\n",
      "brier_weighted:               0.03 (0.00) [0.03, 0.03]\n",
      "balanced_accuracy_macro:      0.51 (0.00) [0.50, 0.51]\n",
      "balanced_accuracy_weighted:   0.08 (0.00) [0.08, 0.09]\n",
      "f1_micro:                     0.42 (0.01) [0.40, 0.44]\n",
      "hamming:                      0.17 (0.00) [0.17, 0.18]\n",
      "subset_accuracy:              0.05 (0.01) [0.03, 0.06]\n"
     ]
    }
   ],
   "source": [
    "compute_scores(X_test, Y_test, device, model, batch_size, boot_iter)"
   ]
  }
 ],
 "metadata": {
  "kernelspec": {
   "display_name": "neuro",
   "language": "python",
   "name": "python3"
  },
  "language_info": {
   "codemirror_mode": {
    "name": "ipython",
    "version": 3
   },
   "file_extension": ".py",
   "mimetype": "text/x-python",
   "name": "python",
   "nbconvert_exporter": "python",
   "pygments_lexer": "ipython3",
   "version": "3.11.7"
  }
 },
 "nbformat": 4,
 "nbformat_minor": 2
}
