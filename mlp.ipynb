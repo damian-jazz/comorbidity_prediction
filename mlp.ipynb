{
 "cells": [
  {
   "cell_type": "code",
   "execution_count": 1,
   "metadata": {},
   "outputs": [],
   "source": [
    "import pandas as pd\n",
    "import numpy as np\n",
    "import matplotlib.pyplot as plt\n",
    "\n",
    "from utils.utils import load_data, remove_zero_features, standardize\n",
    "from utils.utils import generate_oversampled_set, generate_undersampled_set, generate_label_stats\n",
    "\n",
    "from utils.mlp_utils import DatasetBrainMeasures\n",
    "from utils.mlp_train import train, test, train_focal, test_focal, compute_scores\n",
    "from utils.mlp_model import MLP\n",
    "\n",
    "from sklearn.model_selection import train_test_split\n",
    "\n",
    "import torch\n",
    "from torch import nn\n",
    "from torch.utils.data import DataLoader"
   ]
  },
  {
   "cell_type": "code",
   "execution_count": 2,
   "metadata": {},
   "outputs": [],
   "source": [
    "plot_path = \"plots/\"\n",
    "checkpoints_path = \"checkpoints/\""
   ]
  },
  {
   "cell_type": "code",
   "execution_count": 3,
   "metadata": {},
   "outputs": [
    {
     "name": "stdout",
     "output_type": "stream",
     "text": [
      "Using mps device\n"
     ]
    }
   ],
   "source": [
    "device = (\n",
    "    \"cuda\"\n",
    "    if torch.cuda.is_available()\n",
    "    else \"mps\"\n",
    "    if torch.backends.mps.is_available()\n",
    "    else \"cpu\"\n",
    ")\n",
    "print(f\"Using {device} device\")"
   ]
  },
  {
   "cell_type": "markdown",
   "metadata": {},
   "source": [
    "---"
   ]
  },
  {
   "cell_type": "code",
   "execution_count": 4,
   "metadata": {},
   "outputs": [],
   "source": [
    "# Load data for classification task\n",
    "subject_data, features, diagnoses = load_data('classification')"
   ]
  },
  {
   "cell_type": "code",
   "execution_count": 5,
   "metadata": {},
   "outputs": [
    {
     "data": {
      "text/html": [
       "<div>\n",
       "<style scoped>\n",
       "    .dataframe tbody tr th:only-of-type {\n",
       "        vertical-align: middle;\n",
       "    }\n",
       "\n",
       "    .dataframe tbody tr th {\n",
       "        vertical-align: top;\n",
       "    }\n",
       "\n",
       "    .dataframe thead th {\n",
       "        text-align: right;\n",
       "    }\n",
       "</style>\n",
       "<table border=\"1\" class=\"dataframe\">\n",
       "  <thead>\n",
       "    <tr style=\"text-align: right;\">\n",
       "      <th></th>\n",
       "      <th>ID</th>\n",
       "      <th>release_number</th>\n",
       "      <th>Bold.Sequence</th>\n",
       "      <th>Sex</th>\n",
       "      <th>Age</th>\n",
       "      <th>EHQ_Total</th>\n",
       "      <th>Commercial_Use</th>\n",
       "      <th>Full_Pheno</th>\n",
       "      <th>Site</th>\n",
       "      <th>Field_Strength</th>\n",
       "      <th>Cohort</th>\n",
       "    </tr>\n",
       "  </thead>\n",
       "  <tbody>\n",
       "    <tr>\n",
       "      <th>0</th>\n",
       "      <td>NDARDY714NV9</td>\n",
       "      <td>R3</td>\n",
       "      <td>abcd</td>\n",
       "      <td>Male</td>\n",
       "      <td>13.773214</td>\n",
       "      <td>74.57</td>\n",
       "      <td>Yes</td>\n",
       "      <td>Yes</td>\n",
       "      <td>CBIC</td>\n",
       "      <td>3.0</td>\n",
       "      <td>5</td>\n",
       "    </tr>\n",
       "    <tr>\n",
       "      <th>1</th>\n",
       "      <td>NDAREG930XPP</td>\n",
       "      <td>R3</td>\n",
       "      <td>cmrr</td>\n",
       "      <td>Male</td>\n",
       "      <td>7.995779</td>\n",
       "      <td>73.37</td>\n",
       "      <td>Yes</td>\n",
       "      <td>Yes</td>\n",
       "      <td>CBIC</td>\n",
       "      <td>3.0</td>\n",
       "      <td>2</td>\n",
       "    </tr>\n",
       "    <tr>\n",
       "      <th>2</th>\n",
       "      <td>NDAREK255DEE</td>\n",
       "      <td>R3</td>\n",
       "      <td>cmrr</td>\n",
       "      <td>Female</td>\n",
       "      <td>6.508898</td>\n",
       "      <td>26.68</td>\n",
       "      <td>Yes</td>\n",
       "      <td>Yes</td>\n",
       "      <td>CBIC</td>\n",
       "      <td>3.0</td>\n",
       "      <td>2</td>\n",
       "    </tr>\n",
       "    <tr>\n",
       "      <th>3</th>\n",
       "      <td>NDARFB757VY3</td>\n",
       "      <td>R3</td>\n",
       "      <td>abcd</td>\n",
       "      <td>Male</td>\n",
       "      <td>5.851813</td>\n",
       "      <td>-6.67</td>\n",
       "      <td>Yes</td>\n",
       "      <td>Yes</td>\n",
       "      <td>CBIC</td>\n",
       "      <td>3.0</td>\n",
       "      <td>2</td>\n",
       "    </tr>\n",
       "    <tr>\n",
       "      <th>4</th>\n",
       "      <td>NDARFJ803JF7</td>\n",
       "      <td>R3</td>\n",
       "      <td>abcd</td>\n",
       "      <td>Female</td>\n",
       "      <td>16.335843</td>\n",
       "      <td>61.16</td>\n",
       "      <td>Yes</td>\n",
       "      <td>Yes</td>\n",
       "      <td>CBIC</td>\n",
       "      <td>3.0</td>\n",
       "      <td>6</td>\n",
       "    </tr>\n",
       "    <tr>\n",
       "      <th>...</th>\n",
       "      <td>...</td>\n",
       "      <td>...</td>\n",
       "      <td>...</td>\n",
       "      <td>...</td>\n",
       "      <td>...</td>\n",
       "      <td>...</td>\n",
       "      <td>...</td>\n",
       "      <td>...</td>\n",
       "      <td>...</td>\n",
       "      <td>...</td>\n",
       "      <td>...</td>\n",
       "    </tr>\n",
       "    <tr>\n",
       "      <th>2810</th>\n",
       "      <td>NDARZP564MHU</td>\n",
       "      <td>R1</td>\n",
       "      <td>NaN</td>\n",
       "      <td>Male</td>\n",
       "      <td>20.910107</td>\n",
       "      <td>100.05</td>\n",
       "      <td>No</td>\n",
       "      <td>Yes</td>\n",
       "      <td>SI</td>\n",
       "      <td>1.5</td>\n",
       "      <td>6</td>\n",
       "    </tr>\n",
       "    <tr>\n",
       "      <th>2811</th>\n",
       "      <td>NDARZR567HWG</td>\n",
       "      <td>R1</td>\n",
       "      <td>NaN</td>\n",
       "      <td>Female</td>\n",
       "      <td>13.260552</td>\n",
       "      <td>77.84</td>\n",
       "      <td>No</td>\n",
       "      <td>Yes</td>\n",
       "      <td>SI</td>\n",
       "      <td>1.5</td>\n",
       "      <td>5</td>\n",
       "    </tr>\n",
       "    <tr>\n",
       "      <th>2812</th>\n",
       "      <td>NDARZT772PU4</td>\n",
       "      <td>R1</td>\n",
       "      <td>NaN</td>\n",
       "      <td>Female</td>\n",
       "      <td>17.707278</td>\n",
       "      <td>16.68</td>\n",
       "      <td>No</td>\n",
       "      <td>Yes</td>\n",
       "      <td>SI</td>\n",
       "      <td>1.5</td>\n",
       "      <td>6</td>\n",
       "    </tr>\n",
       "    <tr>\n",
       "      <th>2813</th>\n",
       "      <td>NDARZV766YXP</td>\n",
       "      <td>R1</td>\n",
       "      <td>NaN</td>\n",
       "      <td>Male</td>\n",
       "      <td>10.788272</td>\n",
       "      <td>84.51</td>\n",
       "      <td>No</td>\n",
       "      <td>Yes</td>\n",
       "      <td>SI</td>\n",
       "      <td>1.5</td>\n",
       "      <td>4</td>\n",
       "    </tr>\n",
       "    <tr>\n",
       "      <th>2814</th>\n",
       "      <td>NDARZW013RUH</td>\n",
       "      <td>R1</td>\n",
       "      <td>NaN</td>\n",
       "      <td>Female</td>\n",
       "      <td>6.011407</td>\n",
       "      <td>-86.71</td>\n",
       "      <td>No</td>\n",
       "      <td>Yes</td>\n",
       "      <td>SI</td>\n",
       "      <td>1.5</td>\n",
       "      <td>2</td>\n",
       "    </tr>\n",
       "  </tbody>\n",
       "</table>\n",
       "<p>2815 rows × 11 columns</p>\n",
       "</div>"
      ],
      "text/plain": [
       "                ID release_number Bold.Sequence     Sex        Age  EHQ_Total  \\\n",
       "0     NDARDY714NV9             R3          abcd    Male  13.773214      74.57   \n",
       "1     NDAREG930XPP             R3          cmrr    Male   7.995779      73.37   \n",
       "2     NDAREK255DEE             R3          cmrr  Female   6.508898      26.68   \n",
       "3     NDARFB757VY3             R3          abcd    Male   5.851813      -6.67   \n",
       "4     NDARFJ803JF7             R3          abcd  Female  16.335843      61.16   \n",
       "...            ...            ...           ...     ...        ...        ...   \n",
       "2810  NDARZP564MHU             R1           NaN    Male  20.910107     100.05   \n",
       "2811  NDARZR567HWG             R1           NaN  Female  13.260552      77.84   \n",
       "2812  NDARZT772PU4             R1           NaN  Female  17.707278      16.68   \n",
       "2813  NDARZV766YXP             R1           NaN    Male  10.788272      84.51   \n",
       "2814  NDARZW013RUH             R1           NaN  Female   6.011407     -86.71   \n",
       "\n",
       "     Commercial_Use Full_Pheno  Site  Field_Strength  Cohort  \n",
       "0               Yes        Yes  CBIC             3.0       5  \n",
       "1               Yes        Yes  CBIC             3.0       2  \n",
       "2               Yes        Yes  CBIC             3.0       2  \n",
       "3               Yes        Yes  CBIC             3.0       2  \n",
       "4               Yes        Yes  CBIC             3.0       6  \n",
       "...             ...        ...   ...             ...     ...  \n",
       "2810             No        Yes    SI             1.5       6  \n",
       "2811             No        Yes    SI             1.5       5  \n",
       "2812             No        Yes    SI             1.5       6  \n",
       "2813             No        Yes    SI             1.5       4  \n",
       "2814             No        Yes    SI             1.5       2  \n",
       "\n",
       "[2815 rows x 11 columns]"
      ]
     },
     "execution_count": 5,
     "metadata": {},
     "output_type": "execute_result"
    }
   ],
   "source": [
    "subject_data"
   ]
  },
  {
   "cell_type": "code",
   "execution_count": 6,
   "metadata": {},
   "outputs": [],
   "source": [
    "# Remove zero features\n",
    "F = remove_zero_features(features.iloc[:,1:])"
   ]
  },
  {
   "cell_type": "code",
   "execution_count": 7,
   "metadata": {},
   "outputs": [
    {
     "name": "stdout",
     "output_type": "stream",
     "text": [
      "Number of samples: 2815\n",
      "Number of features: 922\n"
     ]
    }
   ],
   "source": [
    "# Standardize\n",
    "X = standardize(F)\n",
    "print(f\"Number of samples: {X.shape[0]}\")\n",
    "print(f\"Number of features: {X.shape[1]}\")"
   ]
  },
  {
   "cell_type": "code",
   "execution_count": 8,
   "metadata": {},
   "outputs": [
    {
     "name": "stdout",
     "output_type": "stream",
     "text": [
      "Number of labels: 13\n"
     ]
    }
   ],
   "source": [
    "# Remove ID column\n",
    "Y = diagnoses.iloc[:,1:]\n",
    "print(f\"Number of labels: {Y.shape[1]}\")"
   ]
  },
  {
   "cell_type": "code",
   "execution_count": 9,
   "metadata": {},
   "outputs": [],
   "source": [
    "boot_iter = 100"
   ]
  },
  {
   "cell_type": "code",
   "execution_count": 10,
   "metadata": {},
   "outputs": [],
   "source": [
    "batch_size = 128"
   ]
  },
  {
   "cell_type": "markdown",
   "metadata": {},
   "source": [
    "---"
   ]
  },
  {
   "cell_type": "markdown",
   "metadata": {},
   "source": [
    "# 1. Use dataset with original label distribution (no resampling)"
   ]
  },
  {
   "cell_type": "code",
   "execution_count": 13,
   "metadata": {},
   "outputs": [
    {
     "name": "stdout",
     "output_type": "stream",
     "text": [
      "Number of samples in training set: 1688\n",
      "Number of samples in test set: 423\n",
      "Number of samples in holdout set: 704\n"
     ]
    }
   ],
   "source": [
    "# Split dataset into train and test (holdout) set\n",
    "X_train, X_holdout, Y_train, Y_holdout = train_test_split(X, Y, test_size=0.25, random_state=0)\n",
    "X_train, X_test, Y_train, Y_test = train_test_split(X_train, Y_train, test_size=0.2, random_state=1)\n",
    "print(f\"Number of samples in training set: {len(X_train)}\")\n",
    "print(f\"Number of samples in test set: {len(X_test)}\")\n",
    "print(f\"Number of samples in holdout set: {len(X_holdout)}\")"
   ]
  },
  {
   "cell_type": "code",
   "execution_count": 14,
   "metadata": {},
   "outputs": [
    {
     "name": "stdout",
     "output_type": "stream",
     "text": [
      "Size of training set: 1688\n",
      "Size of test set: 423\n"
     ]
    }
   ],
   "source": [
    "training_data = DatasetBrainMeasures(X_train, Y_train) \n",
    "test_data = DatasetBrainMeasures(X_test, Y_test)\n",
    "print(f\"Size of training set: {len(training_data)}\")\n",
    "print(f\"Size of test set: {len(test_data)}\")"
   ]
  },
  {
   "cell_type": "code",
   "execution_count": 15,
   "metadata": {},
   "outputs": [],
   "source": [
    "train_dataloader = DataLoader(training_data, batch_size=batch_size, shuffle=True)\n",
    "test_dataloader = DataLoader(test_data, batch_size=batch_size, shuffle=True)"
   ]
  },
  {
   "cell_type": "code",
   "execution_count": 16,
   "metadata": {},
   "outputs": [
    {
     "name": "stdout",
     "output_type": "stream",
     "text": [
      "Shape of X [batch_size, D]: torch.Size([128, 922])\n",
      "Shape of Y [batch_size]: torch.Size([128, 13]) torch.float32\n"
     ]
    }
   ],
   "source": [
    "for X_, y_ in test_dataloader:\n",
    "    print(f\"Shape of X [batch_size, D]: {X_.shape}\")\n",
    "    print(f\"Shape of Y [batch_size]: {y_.shape} {y_.dtype}\")\n",
    "    break"
   ]
  },
  {
   "cell_type": "markdown",
   "metadata": {},
   "source": [
    "---"
   ]
  },
  {
   "cell_type": "markdown",
   "metadata": {},
   "source": [
    "## 1.1. BCE loss"
   ]
  },
  {
   "cell_type": "code",
   "execution_count": 17,
   "metadata": {},
   "outputs": [],
   "source": [
    "model = MLP(input_dim=X_train.shape[1], output_dim=Y_train.shape[1]).to(device)\n",
    "optimizer = torch.optim.Adam(model.parameters(), lr=1e-3)"
   ]
  },
  {
   "cell_type": "code",
   "execution_count": 18,
   "metadata": {},
   "outputs": [],
   "source": [
    "loss_fn = nn.BCEWithLogitsLoss()"
   ]
  },
  {
   "cell_type": "code",
   "execution_count": 19,
   "metadata": {},
   "outputs": [
    {
     "name": "stdout",
     "output_type": "stream",
     "text": [
      "Epoch 1\n",
      "-------------------------------\n",
      "loss: 0.612316  [  336/ 1688]\n",
      "Test Error: \n",
      " Accuracy: 84.3%, Avg loss: 0.462676 \n",
      "\n",
      "Epoch 2\n",
      "-------------------------------\n",
      "loss: 0.488067  [  336/ 1688]\n",
      "Test Error: \n",
      " Accuracy: 84.4%, Avg loss: 0.410873 \n",
      "\n",
      "Epoch 3\n",
      "-------------------------------\n",
      "loss: 0.425903  [  336/ 1688]\n",
      "Test Error: \n",
      " Accuracy: 84.4%, Avg loss: 0.394935 \n",
      "\n",
      "Epoch 4\n",
      "-------------------------------\n",
      "loss: 0.381059  [  336/ 1688]\n",
      "Test Error: \n",
      " Accuracy: 84.7%, Avg loss: 0.380453 \n",
      "\n",
      "Epoch 5\n",
      "-------------------------------\n",
      "loss: 0.438287  [  336/ 1688]\n",
      "Test Error: \n",
      " Accuracy: 84.2%, Avg loss: 0.378000 \n",
      "\n",
      "Epoch 6\n",
      "-------------------------------\n",
      "loss: 0.385393  [  336/ 1688]\n",
      "Test Error: \n",
      " Accuracy: 84.3%, Avg loss: 0.375118 \n",
      "\n",
      "Epoch 7\n",
      "-------------------------------\n",
      "loss: 0.412439  [  336/ 1688]\n",
      "Test Error: \n",
      " Accuracy: 84.3%, Avg loss: 0.377384 \n",
      "\n",
      "Epoch 8\n",
      "-------------------------------\n",
      "loss: 0.389165  [  336/ 1688]\n",
      "Test Error: \n",
      " Accuracy: 84.4%, Avg loss: 0.369965 \n",
      "\n",
      "Epoch 9\n",
      "-------------------------------\n",
      "loss: 0.433514  [  336/ 1688]\n",
      "Test Error: \n",
      " Accuracy: 84.5%, Avg loss: 0.375674 \n",
      "\n",
      "Epoch 10\n",
      "-------------------------------\n",
      "loss: 0.342239  [  336/ 1688]\n",
      "Test Error: \n",
      " Accuracy: 84.5%, Avg loss: 0.378291 \n",
      "\n",
      "Done!\n"
     ]
    }
   ],
   "source": [
    "epochs = 10\n",
    "for t in range(epochs):\n",
    "    print(f\"Epoch {t+1}\\n-------------------------------\")\n",
    "    train(train_dataloader, device, model, loss_fn, optimizer)\n",
    "    test(test_dataloader, device, model, loss_fn)\n",
    "print(\"Done!\")"
   ]
  },
  {
   "cell_type": "code",
   "execution_count": 20,
   "metadata": {},
   "outputs": [
    {
     "name": "stdout",
     "output_type": "stream",
     "text": [
      "Mean scores with SE and 95% confidence intervals:\n",
      "\n",
      "auprc_macro:                  0.21 (0.01) [0.19, 0.22]\n",
      "auprc_weighted:               0.35 (0.01) [0.33, 0.37]\n",
      "auroc_macro:                  0.55 (0.01) [0.53, 0.57]\n",
      "auroc_weighted:               0.55 (0.01) [0.53, 0.57]\n",
      "brier_macro:                  0.12 (0.00) [0.11, 0.12]\n",
      "brier_weighted:               0.03 (0.00) [0.03, 0.03]\n",
      "balanced_accuracy_macro:      0.50 (0.00) [0.50, 0.50]\n",
      "balanced_accuracy_weighted:   0.08 (0.00) [0.08, 0.08]\n",
      "f1_micro:                     0.38 (0.01) [0.36, 0.40]\n",
      "hamming:                      0.15 (0.00) [0.14, 0.16]\n",
      "subset_accuracy:              0.10 (0.01) [0.08, 0.12]\n"
     ]
    }
   ],
   "source": [
    "compute_scores(X_holdout, Y_holdout, device, model, batch_size, boot_iter)"
   ]
  },
  {
   "cell_type": "markdown",
   "metadata": {},
   "source": [
    "---"
   ]
  },
  {
   "cell_type": "markdown",
   "metadata": {},
   "source": [
    "## 1.2. Focal loss"
   ]
  },
  {
   "cell_type": "code",
   "execution_count": 21,
   "metadata": {},
   "outputs": [],
   "source": [
    "model = MLP(input_dim=X_train.shape[1], output_dim=Y_train.shape[1]).to(device)\n",
    "optimizer = torch.optim.Adam(model.parameters(), lr=1e-3)\n",
    "gamma = 2.0"
   ]
  },
  {
   "cell_type": "code",
   "execution_count": 22,
   "metadata": {},
   "outputs": [
    {
     "name": "stdout",
     "output_type": "stream",
     "text": [
      "Epoch 1\n",
      "-------------------------------\n",
      "loss: 0.146619  [  336/ 1688]\n",
      "Test Error: \n",
      " Accuracy: 83.3%, Avg loss: 0.131531 \n",
      "\n",
      "Epoch 2\n",
      "-------------------------------\n",
      "loss: 0.121475  [  336/ 1688]\n",
      "Test Error: \n",
      " Accuracy: 83.3%, Avg loss: 0.106481 \n",
      "\n",
      "Epoch 3\n",
      "-------------------------------\n",
      "loss: 0.117853  [  336/ 1688]\n",
      "Test Error: \n",
      " Accuracy: 83.3%, Avg loss: 0.102016 \n",
      "\n",
      "Epoch 4\n",
      "-------------------------------\n",
      "loss: 0.124176  [  336/ 1688]\n",
      "Test Error: \n",
      " Accuracy: 83.3%, Avg loss: 0.103129 \n",
      "\n",
      "Epoch 5\n",
      "-------------------------------\n",
      "loss: 0.117234  [  336/ 1688]\n",
      "Test Error: \n",
      " Accuracy: 83.3%, Avg loss: 0.104420 \n",
      "\n",
      "Epoch 6\n",
      "-------------------------------\n",
      "loss: 0.107006  [  336/ 1688]\n",
      "Test Error: \n",
      " Accuracy: 83.3%, Avg loss: 0.099164 \n",
      "\n",
      "Epoch 7\n",
      "-------------------------------\n",
      "loss: 0.115706  [  336/ 1688]\n",
      "Test Error: \n",
      " Accuracy: 83.3%, Avg loss: 0.101116 \n",
      "\n",
      "Epoch 8\n",
      "-------------------------------\n",
      "loss: 0.106602  [  336/ 1688]\n",
      "Test Error: \n",
      " Accuracy: 83.3%, Avg loss: 0.101658 \n",
      "\n",
      "Epoch 9\n",
      "-------------------------------\n",
      "loss: 0.097628  [  336/ 1688]\n",
      "Test Error: \n",
      " Accuracy: 83.3%, Avg loss: 0.101215 \n",
      "\n",
      "Epoch 10\n",
      "-------------------------------\n",
      "loss: 0.094034  [  336/ 1688]\n",
      "Test Error: \n",
      " Accuracy: 83.3%, Avg loss: 0.101948 \n",
      "\n",
      "Done!\n"
     ]
    }
   ],
   "source": [
    "epochs = 10\n",
    "for t in range(epochs):\n",
    "    print(f\"Epoch {t+1}\\n-------------------------------\")\n",
    "    train_focal(train_dataloader, device, model, optimizer, gamma)\n",
    "    test_focal(test_dataloader, device, model, gamma)\n",
    "print(\"Done!\")"
   ]
  },
  {
   "cell_type": "code",
   "execution_count": 23,
   "metadata": {},
   "outputs": [
    {
     "name": "stdout",
     "output_type": "stream",
     "text": [
      "Mean scores with SE and 95% confidence intervals:\n",
      "\n",
      "auprc_macro:                  0.20 (0.01) [0.19, 0.22]\n",
      "auprc_weighted:               0.34 (0.01) [0.32, 0.37]\n",
      "auroc_macro:                  0.56 (0.01) [0.54, 0.58]\n",
      "auroc_weighted:               0.55 (0.01) [0.53, 0.57]\n",
      "brier_macro:                  0.17 (0.00) [0.17, 0.17]\n",
      "brier_weighted:               0.03 (0.00) [0.03, 0.03]\n",
      "balanced_accuracy_macro:      0.50 (0.00) [0.50, 0.50]\n",
      "balanced_accuracy_weighted:   0.08 (0.00) [0.08, 0.08]\n",
      "f1_micro:                     0.38 (0.01) [0.36, 0.40]\n",
      "hamming:                      0.15 (0.00) [0.14, 0.16]\n",
      "subset_accuracy:              0.10 (0.01) [0.08, 0.12]\n"
     ]
    }
   ],
   "source": [
    "compute_scores(X_holdout, Y_holdout, device, model, batch_size, boot_iter)"
   ]
  },
  {
   "cell_type": "markdown",
   "metadata": {},
   "source": [
    "# 2. Use undersampled dataset"
   ]
  },
  {
   "cell_type": "code",
   "execution_count": 24,
   "metadata": {},
   "outputs": [
    {
     "name": "stdout",
     "output_type": "stream",
     "text": [
      "Mean imbalance ratio: 2.7700915195670985\n"
     ]
    },
    {
     "data": {
      "text/html": [
       "<div>\n",
       "<style scoped>\n",
       "    .dataframe tbody tr th:only-of-type {\n",
       "        vertical-align: middle;\n",
       "    }\n",
       "\n",
       "    .dataframe tbody tr th {\n",
       "        vertical-align: top;\n",
       "    }\n",
       "\n",
       "    .dataframe thead th {\n",
       "        text-align: right;\n",
       "    }\n",
       "</style>\n",
       "<table border=\"1\" class=\"dataframe\">\n",
       "  <thead>\n",
       "    <tr style=\"text-align: right;\">\n",
       "      <th></th>\n",
       "      <th>Absolute frequency</th>\n",
       "      <th>Relative frequency</th>\n",
       "      <th>Imbalance ratio</th>\n",
       "    </tr>\n",
       "  </thead>\n",
       "  <tbody>\n",
       "    <tr>\n",
       "      <th>Trauma_And_Stress_RelatedDisorders</th>\n",
       "      <td>69</td>\n",
       "      <td>0.069277</td>\n",
       "      <td>3.260870</td>\n",
       "    </tr>\n",
       "    <tr>\n",
       "      <th>DepressiveDisorders</th>\n",
       "      <td>103</td>\n",
       "      <td>0.103414</td>\n",
       "      <td>2.184466</td>\n",
       "    </tr>\n",
       "    <tr>\n",
       "      <th>Attention_Deficit_HyperactivityDisorder</th>\n",
       "      <td>225</td>\n",
       "      <td>0.225904</td>\n",
       "      <td>1.000000</td>\n",
       "    </tr>\n",
       "    <tr>\n",
       "      <th>MotorDisorder</th>\n",
       "      <td>68</td>\n",
       "      <td>0.068273</td>\n",
       "      <td>3.308824</td>\n",
       "    </tr>\n",
       "    <tr>\n",
       "      <th>AutismSpectrumDisorder</th>\n",
       "      <td>117</td>\n",
       "      <td>0.117470</td>\n",
       "      <td>1.923077</td>\n",
       "    </tr>\n",
       "    <tr>\n",
       "      <th>CommunicationDisorder</th>\n",
       "      <td>105</td>\n",
       "      <td>0.105422</td>\n",
       "      <td>2.142857</td>\n",
       "    </tr>\n",
       "    <tr>\n",
       "      <th>OtherDisorders</th>\n",
       "      <td>55</td>\n",
       "      <td>0.055221</td>\n",
       "      <td>4.090909</td>\n",
       "    </tr>\n",
       "    <tr>\n",
       "      <th>SpecificLearningDisorder</th>\n",
       "      <td>177</td>\n",
       "      <td>0.177711</td>\n",
       "      <td>1.271186</td>\n",
       "    </tr>\n",
       "    <tr>\n",
       "      <th>Obsessive_Compulsive_And_RelatedDisorders</th>\n",
       "      <td>52</td>\n",
       "      <td>0.052209</td>\n",
       "      <td>4.326923</td>\n",
       "    </tr>\n",
       "    <tr>\n",
       "      <th>Disruptive</th>\n",
       "      <td>103</td>\n",
       "      <td>0.103414</td>\n",
       "      <td>2.184466</td>\n",
       "    </tr>\n",
       "    <tr>\n",
       "      <th>IntellectualDisability</th>\n",
       "      <td>34</td>\n",
       "      <td>0.034137</td>\n",
       "      <td>6.617647</td>\n",
       "    </tr>\n",
       "    <tr>\n",
       "      <th>EliminationDisorder</th>\n",
       "      <td>89</td>\n",
       "      <td>0.089357</td>\n",
       "      <td>2.528090</td>\n",
       "    </tr>\n",
       "    <tr>\n",
       "      <th>AnxietyDisorders</th>\n",
       "      <td>192</td>\n",
       "      <td>0.192771</td>\n",
       "      <td>1.171875</td>\n",
       "    </tr>\n",
       "  </tbody>\n",
       "</table>\n",
       "</div>"
      ],
      "text/plain": [
       "                                           Absolute frequency  \\\n",
       "Trauma_And_Stress_RelatedDisorders                         69   \n",
       "DepressiveDisorders                                       103   \n",
       "Attention_Deficit_HyperactivityDisorder                   225   \n",
       "MotorDisorder                                              68   \n",
       "AutismSpectrumDisorder                                    117   \n",
       "CommunicationDisorder                                     105   \n",
       "OtherDisorders                                             55   \n",
       "SpecificLearningDisorder                                  177   \n",
       "Obsessive_Compulsive_And_RelatedDisorders                  52   \n",
       "Disruptive                                                103   \n",
       "IntellectualDisability                                     34   \n",
       "EliminationDisorder                                        89   \n",
       "AnxietyDisorders                                          192   \n",
       "\n",
       "                                           Relative frequency  Imbalance ratio  \n",
       "Trauma_And_Stress_RelatedDisorders                   0.069277         3.260870  \n",
       "DepressiveDisorders                                  0.103414         2.184466  \n",
       "Attention_Deficit_HyperactivityDisorder              0.225904         1.000000  \n",
       "MotorDisorder                                        0.068273         3.308824  \n",
       "AutismSpectrumDisorder                               0.117470         1.923077  \n",
       "CommunicationDisorder                                0.105422         2.142857  \n",
       "OtherDisorders                                       0.055221         4.090909  \n",
       "SpecificLearningDisorder                             0.177711         1.271186  \n",
       "Obsessive_Compulsive_And_RelatedDisorders            0.052209         4.326923  \n",
       "Disruptive                                           0.103414         2.184466  \n",
       "IntellectualDisability                               0.034137         6.617647  \n",
       "EliminationDisorder                                  0.089357         2.528090  \n",
       "AnxietyDisorders                                     0.192771         1.171875  "
      ]
     },
     "execution_count": 24,
     "metadata": {},
     "output_type": "execute_result"
    }
   ],
   "source": [
    "X_under, Y_under = generate_undersampled_set(X, Y)\n",
    "label_stats, mean_ir = generate_label_stats(Y_under, True)\n",
    "print(f\"Mean imbalance ratio: {mean_ir}\")\n",
    "label_stats"
   ]
  },
  {
   "cell_type": "code",
   "execution_count": 25,
   "metadata": {},
   "outputs": [
    {
     "name": "stdout",
     "output_type": "stream",
     "text": [
      "Number of samples in training set: 597\n",
      "Number of samples in test set: 150\n",
      "Number of samples in holdout set: 249\n"
     ]
    }
   ],
   "source": [
    "# Split dataset into train and test (holdout) set\n",
    "X_train, X_holdout, Y_train, Y_holdout = train_test_split(X_under, Y_under, test_size=0.25, random_state=0)\n",
    "X_train, X_test, Y_train, Y_test = train_test_split(X_train, Y_train, test_size=0.2, random_state=1)\n",
    "print(f\"Number of samples in training set: {len(X_train)}\")\n",
    "print(f\"Number of samples in test set: {len(X_test)}\")\n",
    "print(f\"Number of samples in holdout set: {len(X_holdout)}\")"
   ]
  },
  {
   "cell_type": "code",
   "execution_count": 26,
   "metadata": {},
   "outputs": [
    {
     "name": "stdout",
     "output_type": "stream",
     "text": [
      "Size of training set: 597\n",
      "Size of test set: 150\n"
     ]
    }
   ],
   "source": [
    "training_data = DatasetBrainMeasures(X_train, Y_train) \n",
    "test_data = DatasetBrainMeasures(X_test, Y_test)\n",
    "print(f\"Size of training set: {len(training_data)}\")\n",
    "print(f\"Size of test set: {len(test_data)}\")"
   ]
  },
  {
   "cell_type": "code",
   "execution_count": 27,
   "metadata": {},
   "outputs": [],
   "source": [
    "train_dataloader = DataLoader(training_data, batch_size=batch_size, shuffle=True)\n",
    "test_dataloader = DataLoader(test_data, batch_size=batch_size, shuffle=True)"
   ]
  },
  {
   "cell_type": "code",
   "execution_count": 28,
   "metadata": {},
   "outputs": [
    {
     "name": "stdout",
     "output_type": "stream",
     "text": [
      "Shape of X [batch_size, D]: torch.Size([128, 922])\n",
      "Shape of Y [batch_size]: torch.Size([128, 13]) torch.float32\n"
     ]
    }
   ],
   "source": [
    "for X_, y_ in test_dataloader:\n",
    "    print(f\"Shape of X [batch_size, D]: {X_.shape}\")\n",
    "    print(f\"Shape of Y [batch_size]: {y_.shape} {y_.dtype}\")\n",
    "    break"
   ]
  },
  {
   "cell_type": "markdown",
   "metadata": {},
   "source": [
    "---"
   ]
  },
  {
   "cell_type": "code",
   "execution_count": 29,
   "metadata": {},
   "outputs": [],
   "source": [
    "model = MLP(input_dim=X_train.shape[1], output_dim=Y_train.shape[1]).to(device)\n",
    "optimizer = torch.optim.Adam(model.parameters(), lr=1e-3)"
   ]
  },
  {
   "cell_type": "code",
   "execution_count": 30,
   "metadata": {},
   "outputs": [],
   "source": [
    "loss_fn = nn.BCEWithLogitsLoss()"
   ]
  },
  {
   "cell_type": "code",
   "execution_count": 31,
   "metadata": {},
   "outputs": [
    {
     "name": "stdout",
     "output_type": "stream",
     "text": [
      "Epoch 1\n",
      "-------------------------------\n",
      "loss: 0.681541  [  425/  597]\n",
      "Test Error: \n",
      " Accuracy: 88.7%, Avg loss: 0.666303 \n",
      "\n",
      "Epoch 2\n",
      "-------------------------------\n",
      "loss: 0.611891  [  425/  597]\n",
      "Test Error: \n",
      " Accuracy: 88.7%, Avg loss: 0.523864 \n",
      "\n",
      "Epoch 3\n",
      "-------------------------------\n",
      "loss: 0.549339  [  425/  597]\n",
      "Test Error: \n",
      " Accuracy: 88.7%, Avg loss: 0.443928 \n",
      "\n",
      "Epoch 4\n",
      "-------------------------------\n",
      "loss: 0.503259  [  425/  597]\n",
      "Test Error: \n",
      " Accuracy: 88.7%, Avg loss: 0.395660 \n",
      "\n",
      "Epoch 5\n",
      "-------------------------------\n",
      "loss: 0.482092  [  425/  597]\n",
      "Test Error: \n",
      " Accuracy: 88.7%, Avg loss: 0.373292 \n",
      "\n",
      "Epoch 6\n",
      "-------------------------------\n",
      "loss: 0.418296  [  425/  597]\n",
      "Test Error: \n",
      " Accuracy: 88.7%, Avg loss: 0.358413 \n",
      "\n",
      "Epoch 7\n",
      "-------------------------------\n",
      "loss: 0.430667  [  425/  597]\n",
      "Test Error: \n",
      " Accuracy: 88.7%, Avg loss: 0.371025 \n",
      "\n",
      "Epoch 8\n",
      "-------------------------------\n",
      "loss: 0.407411  [  425/  597]\n",
      "Test Error: \n",
      " Accuracy: 88.7%, Avg loss: 0.370705 \n",
      "\n",
      "Epoch 9\n",
      "-------------------------------\n",
      "loss: 0.434536  [  425/  597]\n",
      "Test Error: \n",
      " Accuracy: 88.7%, Avg loss: 0.333374 \n",
      "\n",
      "Epoch 10\n",
      "-------------------------------\n",
      "loss: 0.399731  [  425/  597]\n",
      "Test Error: \n",
      " Accuracy: 88.7%, Avg loss: 0.346339 \n",
      "\n",
      "Done!\n"
     ]
    }
   ],
   "source": [
    "epochs = 10\n",
    "for t in range(epochs):\n",
    "    print(f\"Epoch {t+1}\\n-------------------------------\")\n",
    "    train(train_dataloader, device, model, loss_fn, optimizer)\n",
    "    test(test_dataloader, device, model, loss_fn)\n",
    "print(\"Done!\")"
   ]
  },
  {
   "cell_type": "code",
   "execution_count": 32,
   "metadata": {},
   "outputs": [
    {
     "name": "stdout",
     "output_type": "stream",
     "text": [
      "Mean scores with SE and 95% confidence intervals:\n",
      "\n",
      "auprc_macro:                  0.13 (0.01) [0.11, 0.15]\n",
      "auprc_weighted:               0.16 (0.01) [0.14, 0.19]\n",
      "auroc_macro:                  0.53 (0.02) [0.49, 0.58]\n",
      "auroc_weighted:               0.53 (0.02) [0.49, 0.56]\n",
      "brier_macro:                  0.09 (0.00) [0.09, 0.10]\n",
      "brier_weighted:               0.01 (0.00) [0.01, 0.01]\n",
      "balanced_accuracy_macro:      0.50 (0.00) [0.50, 0.50]\n",
      "balanced_accuracy_weighted:   0.05 (0.00) [0.05, 0.05]\n",
      "f1_micro:                     0.00 (0.00) [0.00, 0.00]\n",
      "hamming:                      0.10 (0.01) [0.09, 0.11]\n",
      "subset_accuracy:              0.34 (0.03) [0.28, 0.41]\n"
     ]
    }
   ],
   "source": [
    "compute_scores(X_holdout, Y_holdout, device, model, batch_size, boot_iter)"
   ]
  },
  {
   "cell_type": "markdown",
   "metadata": {},
   "source": [
    "# 3. Use oversampled dataset"
   ]
  },
  {
   "cell_type": "code",
   "execution_count": 33,
   "metadata": {},
   "outputs": [
    {
     "name": "stdout",
     "output_type": "stream",
     "text": [
      "Mean imbalance ratio: 1.6092872677464145\n"
     ]
    },
    {
     "data": {
      "text/html": [
       "<div>\n",
       "<style scoped>\n",
       "    .dataframe tbody tr th:only-of-type {\n",
       "        vertical-align: middle;\n",
       "    }\n",
       "\n",
       "    .dataframe tbody tr th {\n",
       "        vertical-align: top;\n",
       "    }\n",
       "\n",
       "    .dataframe thead th {\n",
       "        text-align: right;\n",
       "    }\n",
       "</style>\n",
       "<table border=\"1\" class=\"dataframe\">\n",
       "  <thead>\n",
       "    <tr style=\"text-align: right;\">\n",
       "      <th></th>\n",
       "      <th>Absolute frequency</th>\n",
       "      <th>Relative frequency</th>\n",
       "      <th>Imbalance ratio</th>\n",
       "    </tr>\n",
       "  </thead>\n",
       "  <tbody>\n",
       "    <tr>\n",
       "      <th>Trauma_And_Stress_RelatedDisorders</th>\n",
       "      <td>2580</td>\n",
       "      <td>0.116174</td>\n",
       "      <td>1.923256</td>\n",
       "    </tr>\n",
       "    <tr>\n",
       "      <th>DepressiveDisorders</th>\n",
       "      <td>3170</td>\n",
       "      <td>0.142741</td>\n",
       "      <td>1.565300</td>\n",
       "    </tr>\n",
       "    <tr>\n",
       "      <th>Attention_Deficit_HyperactivityDisorder</th>\n",
       "      <td>4582</td>\n",
       "      <td>0.206322</td>\n",
       "      <td>1.082933</td>\n",
       "    </tr>\n",
       "    <tr>\n",
       "      <th>MotorDisorder</th>\n",
       "      <td>3134</td>\n",
       "      <td>0.141120</td>\n",
       "      <td>1.583280</td>\n",
       "    </tr>\n",
       "    <tr>\n",
       "      <th>AutismSpectrumDisorder</th>\n",
       "      <td>3689</td>\n",
       "      <td>0.166111</td>\n",
       "      <td>1.345080</td>\n",
       "    </tr>\n",
       "    <tr>\n",
       "      <th>CommunicationDisorder</th>\n",
       "      <td>4431</td>\n",
       "      <td>0.199523</td>\n",
       "      <td>1.119838</td>\n",
       "    </tr>\n",
       "    <tr>\n",
       "      <th>OtherDisorders</th>\n",
       "      <td>2320</td>\n",
       "      <td>0.104467</td>\n",
       "      <td>2.138793</td>\n",
       "    </tr>\n",
       "    <tr>\n",
       "      <th>SpecificLearningDisorder</th>\n",
       "      <td>4962</td>\n",
       "      <td>0.223433</td>\n",
       "      <td>1.000000</td>\n",
       "    </tr>\n",
       "    <tr>\n",
       "      <th>Obsessive_Compulsive_And_RelatedDisorders</th>\n",
       "      <td>2668</td>\n",
       "      <td>0.120137</td>\n",
       "      <td>1.859820</td>\n",
       "    </tr>\n",
       "    <tr>\n",
       "      <th>Disruptive</th>\n",
       "      <td>2801</td>\n",
       "      <td>0.126126</td>\n",
       "      <td>1.771510</td>\n",
       "    </tr>\n",
       "    <tr>\n",
       "      <th>IntellectualDisability</th>\n",
       "      <td>2101</td>\n",
       "      <td>0.094606</td>\n",
       "      <td>2.361733</td>\n",
       "    </tr>\n",
       "    <tr>\n",
       "      <th>EliminationDisorder</th>\n",
       "      <td>2887</td>\n",
       "      <td>0.129998</td>\n",
       "      <td>1.718739</td>\n",
       "    </tr>\n",
       "    <tr>\n",
       "      <th>AnxietyDisorders</th>\n",
       "      <td>3421</td>\n",
       "      <td>0.154044</td>\n",
       "      <td>1.450453</td>\n",
       "    </tr>\n",
       "  </tbody>\n",
       "</table>\n",
       "</div>"
      ],
      "text/plain": [
       "                                           Absolute frequency  \\\n",
       "Trauma_And_Stress_RelatedDisorders                       2580   \n",
       "DepressiveDisorders                                      3170   \n",
       "Attention_Deficit_HyperactivityDisorder                  4582   \n",
       "MotorDisorder                                            3134   \n",
       "AutismSpectrumDisorder                                   3689   \n",
       "CommunicationDisorder                                    4431   \n",
       "OtherDisorders                                           2320   \n",
       "SpecificLearningDisorder                                 4962   \n",
       "Obsessive_Compulsive_And_RelatedDisorders                2668   \n",
       "Disruptive                                               2801   \n",
       "IntellectualDisability                                   2101   \n",
       "EliminationDisorder                                      2887   \n",
       "AnxietyDisorders                                         3421   \n",
       "\n",
       "                                           Relative frequency  Imbalance ratio  \n",
       "Trauma_And_Stress_RelatedDisorders                   0.116174         1.923256  \n",
       "DepressiveDisorders                                  0.142741         1.565300  \n",
       "Attention_Deficit_HyperactivityDisorder              0.206322         1.082933  \n",
       "MotorDisorder                                        0.141120         1.583280  \n",
       "AutismSpectrumDisorder                               0.166111         1.345080  \n",
       "CommunicationDisorder                                0.199523         1.119838  \n",
       "OtherDisorders                                       0.104467         2.138793  \n",
       "SpecificLearningDisorder                             0.223433         1.000000  \n",
       "Obsessive_Compulsive_And_RelatedDisorders            0.120137         1.859820  \n",
       "Disruptive                                           0.126126         1.771510  \n",
       "IntellectualDisability                               0.094606         2.361733  \n",
       "EliminationDisorder                                  0.129998         1.718739  \n",
       "AnxietyDisorders                                     0.154044         1.450453  "
      ]
     },
     "execution_count": 33,
     "metadata": {},
     "output_type": "execute_result"
    }
   ],
   "source": [
    "# Resample data (undersampling)\n",
    "X_over, Y_over = generate_oversampled_set(X, Y)\n",
    "label_stats, mean_ir = generate_label_stats(Y_over, True)\n",
    "print(f\"Mean imbalance ratio: {mean_ir}\")\n",
    "label_stats"
   ]
  },
  {
   "cell_type": "code",
   "execution_count": 34,
   "metadata": {},
   "outputs": [
    {
     "name": "stdout",
     "output_type": "stream",
     "text": [
      "Number of samples in training set: 13324\n",
      "Number of samples in test set: 3332\n",
      "Number of samples in holdout set: 5552\n"
     ]
    }
   ],
   "source": [
    "# Split dataset into train and test (holdout) set\n",
    "X_train, X_holdout, Y_train, Y_holdout = train_test_split(X_over, Y_over, test_size=0.25, random_state=0)\n",
    "X_train, X_test, Y_train, Y_test = train_test_split(X_train, Y_train, test_size=0.2, random_state=1)\n",
    "print(f\"Number of samples in training set: {len(X_train)}\")\n",
    "print(f\"Number of samples in test set: {len(X_test)}\")\n",
    "print(f\"Number of samples in holdout set: {len(X_holdout)}\")"
   ]
  },
  {
   "cell_type": "code",
   "execution_count": 35,
   "metadata": {},
   "outputs": [
    {
     "name": "stdout",
     "output_type": "stream",
     "text": [
      "Size of training set: 13324\n",
      "Size of test set: 3332\n"
     ]
    }
   ],
   "source": [
    "training_data = DatasetBrainMeasures(X_train, Y_train) \n",
    "test_data = DatasetBrainMeasures(X_test, Y_test)\n",
    "print(f\"Size of training set: {len(training_data)}\")\n",
    "print(f\"Size of test set: {len(test_data)}\")"
   ]
  },
  {
   "cell_type": "code",
   "execution_count": 36,
   "metadata": {},
   "outputs": [],
   "source": [
    "train_dataloader = DataLoader(training_data, batch_size=batch_size, shuffle=True)\n",
    "test_dataloader = DataLoader(test_data, batch_size=batch_size, shuffle=True)"
   ]
  },
  {
   "cell_type": "code",
   "execution_count": 37,
   "metadata": {},
   "outputs": [
    {
     "name": "stdout",
     "output_type": "stream",
     "text": [
      "Shape of X [batch_size, D]: torch.Size([128, 922])\n",
      "Shape of Y [batch_size]: torch.Size([128, 13]) torch.float32\n"
     ]
    }
   ],
   "source": [
    "for X_, y_ in test_dataloader:\n",
    "    print(f\"Shape of X [batch_size, D]: {X_.shape}\")\n",
    "    print(f\"Shape of Y [batch_size]: {y_.shape} {y_.dtype}\")\n",
    "    break"
   ]
  },
  {
   "cell_type": "markdown",
   "metadata": {},
   "source": [
    "---"
   ]
  },
  {
   "cell_type": "code",
   "execution_count": 38,
   "metadata": {},
   "outputs": [],
   "source": [
    "model = MLP(input_dim=X_train.shape[1], output_dim=Y_train.shape[1]).to(device)\n",
    "optimizer = torch.optim.Adam(model.parameters(), lr=1e-3)"
   ]
  },
  {
   "cell_type": "code",
   "execution_count": 39,
   "metadata": {},
   "outputs": [],
   "source": [
    "loss_fn = nn.BCEWithLogitsLoss()"
   ]
  },
  {
   "cell_type": "code",
   "execution_count": 40,
   "metadata": {},
   "outputs": [
    {
     "name": "stdout",
     "output_type": "stream",
     "text": [
      "Epoch 1\n",
      "-------------------------------\n",
      "loss: 0.447978  [ 1260/13324]\n",
      "Test Error: \n",
      " Accuracy: 85.3%, Avg loss: 0.397421 \n",
      "\n",
      "Epoch 2\n",
      "-------------------------------\n",
      "loss: 0.369598  [ 1260/13324]\n",
      "Test Error: \n",
      " Accuracy: 85.4%, Avg loss: 0.353186 \n",
      "\n",
      "Epoch 3\n",
      "-------------------------------\n",
      "loss: 0.312855  [ 1260/13324]\n",
      "Test Error: \n",
      " Accuracy: 86.6%, Avg loss: 0.311824 \n",
      "\n",
      "Epoch 4\n",
      "-------------------------------\n",
      "loss: 0.298815  [ 1260/13324]\n",
      "Test Error: \n",
      " Accuracy: 87.2%, Avg loss: 0.286409 \n",
      "\n",
      "Epoch 5\n",
      "-------------------------------\n",
      "loss: 0.319445  [ 1260/13324]\n",
      "Test Error: \n",
      " Accuracy: 88.5%, Avg loss: 0.264687 \n",
      "\n",
      "Epoch 6\n",
      "-------------------------------\n",
      "loss: 0.224274  [ 1260/13324]\n",
      "Test Error: \n",
      " Accuracy: 88.9%, Avg loss: 0.243310 \n",
      "\n",
      "Epoch 7\n",
      "-------------------------------\n",
      "loss: 0.403181  [ 1260/13324]\n",
      "Test Error: \n",
      " Accuracy: 89.1%, Avg loss: 0.231602 \n",
      "\n",
      "Epoch 8\n",
      "-------------------------------\n",
      "loss: 0.422065  [ 1260/13324]\n",
      "Test Error: \n",
      " Accuracy: 89.4%, Avg loss: 0.222363 \n",
      "\n",
      "Epoch 9\n",
      "-------------------------------\n",
      "loss: 0.280960  [ 1260/13324]\n",
      "Test Error: \n",
      " Accuracy: 89.7%, Avg loss: 0.208131 \n",
      "\n",
      "Epoch 10\n",
      "-------------------------------\n",
      "loss: 0.257562  [ 1260/13324]\n",
      "Test Error: \n",
      " Accuracy: 89.9%, Avg loss: 0.207576 \n",
      "\n",
      "Epoch 11\n",
      "-------------------------------\n",
      "loss: 0.339932  [ 1260/13324]\n",
      "Test Error: \n",
      " Accuracy: 90.3%, Avg loss: 0.196132 \n",
      "\n",
      "Epoch 12\n",
      "-------------------------------\n",
      "loss: 0.155391  [ 1260/13324]\n",
      "Test Error: \n",
      " Accuracy: 90.4%, Avg loss: 0.182487 \n",
      "\n",
      "Epoch 13\n",
      "-------------------------------\n",
      "loss: 0.297077  [ 1260/13324]\n",
      "Test Error: \n",
      " Accuracy: 90.9%, Avg loss: 0.179256 \n",
      "\n",
      "Epoch 14\n",
      "-------------------------------\n",
      "loss: 0.176374  [ 1260/13324]\n",
      "Test Error: \n",
      " Accuracy: 90.8%, Avg loss: 0.170303 \n",
      "\n",
      "Epoch 15\n",
      "-------------------------------\n",
      "loss: 0.207109  [ 1260/13324]\n",
      "Test Error: \n",
      " Accuracy: 91.2%, Avg loss: 0.167274 \n",
      "\n",
      "Epoch 16\n",
      "-------------------------------\n",
      "loss: 0.218933  [ 1260/13324]\n",
      "Test Error: \n",
      " Accuracy: 91.2%, Avg loss: 0.165957 \n",
      "\n",
      "Epoch 17\n",
      "-------------------------------\n",
      "loss: 0.240665  [ 1260/13324]\n",
      "Test Error: \n",
      " Accuracy: 91.3%, Avg loss: 0.170516 \n",
      "\n",
      "Epoch 18\n",
      "-------------------------------\n",
      "loss: 0.316203  [ 1260/13324]\n",
      "Test Error: \n",
      " Accuracy: 91.6%, Avg loss: 0.164464 \n",
      "\n",
      "Epoch 19\n",
      "-------------------------------\n",
      "loss: 0.213471  [ 1260/13324]\n",
      "Test Error: \n",
      " Accuracy: 91.8%, Avg loss: 0.155857 \n",
      "\n",
      "Epoch 20\n",
      "-------------------------------\n",
      "loss: 0.193749  [ 1260/13324]\n",
      "Test Error: \n",
      " Accuracy: 91.8%, Avg loss: 0.157726 \n",
      "\n",
      "Done!\n"
     ]
    }
   ],
   "source": [
    "epochs = 20\n",
    "for t in range(epochs):\n",
    "    print(f\"Epoch {t+1}\\n-------------------------------\")\n",
    "    train(train_dataloader, device, model, loss_fn, optimizer)\n",
    "    test(test_dataloader, device, model, loss_fn)\n",
    "print(\"Done!\")"
   ]
  },
  {
   "cell_type": "code",
   "execution_count": 41,
   "metadata": {},
   "outputs": [
    {
     "name": "stdout",
     "output_type": "stream",
     "text": [
      "Mean scores with SE and 95% confidence intervals:\n",
      "\n",
      "auprc_macro:                  0.86 (0.00) [0.85, 0.86]\n",
      "auprc_weighted:               0.83 (0.00) [0.82, 0.84]\n",
      "auroc_macro:                  0.96 (0.00) [0.96, 0.96]\n",
      "auroc_weighted:               0.95 (0.00) [0.95, 0.95]\n",
      "brier_macro:                  0.05 (0.00) [0.05, 0.05]\n",
      "brier_weighted:               0.01 (0.00) [0.01, 0.01]\n",
      "balanced_accuracy_macro:      0.81 (0.00) [0.81, 0.82]\n",
      "balanced_accuracy_weighted:   0.12 (0.00) [0.12, 0.12]\n",
      "f1_micro:                     0.71 (0.00) [0.70, 0.72]\n",
      "hamming:                      0.07 (0.00) [0.07, 0.07]\n",
      "subset_accuracy:              0.48 (0.01) [0.47, 0.50]\n"
     ]
    }
   ],
   "source": [
    "compute_scores(X_holdout, Y_holdout, device, model, batch_size, boot_iter)"
   ]
  }
 ],
 "metadata": {
  "kernelspec": {
   "display_name": "neuro",
   "language": "python",
   "name": "python3"
  },
  "language_info": {
   "codemirror_mode": {
    "name": "ipython",
    "version": 3
   },
   "file_extension": ".py",
   "mimetype": "text/x-python",
   "name": "python",
   "nbconvert_exporter": "python",
   "pygments_lexer": "ipython3",
   "version": "3.11.7"
  }
 },
 "nbformat": 4,
 "nbformat_minor": 2
}
