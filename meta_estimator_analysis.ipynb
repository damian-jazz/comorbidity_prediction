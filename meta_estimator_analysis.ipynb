{
 "cells": [
  {
   "cell_type": "code",
   "execution_count": 1,
   "metadata": {},
   "outputs": [],
   "source": [
    "import pandas as pd\n",
    "import numpy as np\n",
    "import joblib\n",
    "import matplotlib.pyplot as plt\n",
    "\n",
    "from utils.utils import load_data, remove_zero_features, load_confounders, standardize, label_freq_sorted, pca_transform\n",
    "from utils.utils import generate_oversampled_set, generate_undersampled_set, generate_label_stats\n",
    "from utils.utils import compute_scores\n",
    "\n",
    "from sklearn.dummy import DummyClassifier\n",
    "from sklearn.linear_model import LogisticRegression\n",
    "from sklearn.ensemble import RandomForestClassifier, HistGradientBoostingClassifier\n",
    "from sklearn.svm import SVC\n",
    "from sklearn.neural_network import MLPClassifier\n",
    "from sklearn.multioutput import MultiOutputClassifier, ClassifierChain\n",
    "\n",
    "from sklearn.model_selection import train_test_split\n",
    "from sklearn.utils import resample"
   ]
  },
  {
   "cell_type": "code",
   "execution_count": 2,
   "metadata": {},
   "outputs": [
    {
     "name": "stdout",
     "output_type": "stream",
     "text": [
      "Number of physical cores: 8\n"
     ]
    }
   ],
   "source": [
    "N_CORES = joblib.cpu_count(only_physical_cores=True)\n",
    "print(f\"Number of physical cores: {N_CORES}\")"
   ]
  },
  {
   "cell_type": "markdown",
   "metadata": {},
   "source": [
    "---"
   ]
  },
  {
   "cell_type": "code",
   "execution_count": 3,
   "metadata": {},
   "outputs": [],
   "source": [
    "# Load data for classification task\n",
    "subject_data, features, diagnoses = load_data('classification')"
   ]
  },
  {
   "cell_type": "code",
   "execution_count": 4,
   "metadata": {},
   "outputs": [],
   "source": [
    "# Remove zero features\n",
    "F = remove_zero_features(features.iloc[:,1:])"
   ]
  },
  {
   "cell_type": "code",
   "execution_count": 5,
   "metadata": {},
   "outputs": [],
   "source": [
    "# Load confounders\n",
    "C = load_confounders(subject_data)"
   ]
  },
  {
   "cell_type": "code",
   "execution_count": 6,
   "metadata": {},
   "outputs": [
    {
     "name": "stdout",
     "output_type": "stream",
     "text": [
      "Number of samples: 2815\n",
      "Number of features: 922\n"
     ]
    }
   ],
   "source": [
    "# Standardize\n",
    "X = standardize(F)\n",
    "print(f\"Number of samples: {X.shape[0]}\")\n",
    "print(f\"Number of features: {X.shape[1]}\")"
   ]
  },
  {
   "cell_type": "code",
   "execution_count": 7,
   "metadata": {},
   "outputs": [
    {
     "name": "stdout",
     "output_type": "stream",
     "text": [
      "Number of labels: 13\n"
     ]
    }
   ],
   "source": [
    "# Remove ID column\n",
    "Y = diagnoses.iloc[:,1:]\n",
    "print(f\"Number of labels: {Y.shape[1]}\")"
   ]
  },
  {
   "cell_type": "code",
   "execution_count": 8,
   "metadata": {},
   "outputs": [],
   "source": [
    "boot_iter = 100"
   ]
  },
  {
   "cell_type": "markdown",
   "metadata": {},
   "source": [
    "---"
   ]
  },
  {
   "cell_type": "markdown",
   "metadata": {},
   "source": [
    "# 1. Use dataset with original label distribution (no resampling)"
   ]
  },
  {
   "cell_type": "code",
   "execution_count": 32,
   "metadata": {},
   "outputs": [
    {
     "name": "stdout",
     "output_type": "stream",
     "text": [
      "Mean imbalance ratio: 7.995236107963529\n"
     ]
    },
    {
     "data": {
      "text/html": [
       "<div>\n",
       "<style scoped>\n",
       "    .dataframe tbody tr th:only-of-type {\n",
       "        vertical-align: middle;\n",
       "    }\n",
       "\n",
       "    .dataframe tbody tr th {\n",
       "        vertical-align: top;\n",
       "    }\n",
       "\n",
       "    .dataframe thead th {\n",
       "        text-align: right;\n",
       "    }\n",
       "</style>\n",
       "<table border=\"1\" class=\"dataframe\">\n",
       "  <thead>\n",
       "    <tr style=\"text-align: right;\">\n",
       "      <th></th>\n",
       "      <th>Absolute frequency</th>\n",
       "      <th>Relative frequency</th>\n",
       "      <th>Imbalance ratio</th>\n",
       "    </tr>\n",
       "  </thead>\n",
       "  <tbody>\n",
       "    <tr>\n",
       "      <th>Trauma_And_Stress_RelatedDisorders</th>\n",
       "      <td>152</td>\n",
       "      <td>0.053996</td>\n",
       "      <td>11.519737</td>\n",
       "    </tr>\n",
       "    <tr>\n",
       "      <th>DepressiveDisorders</th>\n",
       "      <td>300</td>\n",
       "      <td>0.106572</td>\n",
       "      <td>5.836667</td>\n",
       "    </tr>\n",
       "    <tr>\n",
       "      <th>Attention_Deficit_HyperactivityDisorder</th>\n",
       "      <td>1751</td>\n",
       "      <td>0.622025</td>\n",
       "      <td>1.000000</td>\n",
       "    </tr>\n",
       "    <tr>\n",
       "      <th>MotorDisorder</th>\n",
       "      <td>229</td>\n",
       "      <td>0.081350</td>\n",
       "      <td>7.646288</td>\n",
       "    </tr>\n",
       "    <tr>\n",
       "      <th>AutismSpectrumDisorder</th>\n",
       "      <td>398</td>\n",
       "      <td>0.141385</td>\n",
       "      <td>4.399497</td>\n",
       "    </tr>\n",
       "    <tr>\n",
       "      <th>CommunicationDisorder</th>\n",
       "      <td>493</td>\n",
       "      <td>0.175133</td>\n",
       "      <td>3.551724</td>\n",
       "    </tr>\n",
       "    <tr>\n",
       "      <th>OtherDisorders</th>\n",
       "      <td>135</td>\n",
       "      <td>0.047957</td>\n",
       "      <td>12.970370</td>\n",
       "    </tr>\n",
       "    <tr>\n",
       "      <th>SpecificLearningDisorder</th>\n",
       "      <td>761</td>\n",
       "      <td>0.270337</td>\n",
       "      <td>2.300920</td>\n",
       "    </tr>\n",
       "    <tr>\n",
       "      <th>Obsessive_Compulsive_And_RelatedDisorders</th>\n",
       "      <td>137</td>\n",
       "      <td>0.048668</td>\n",
       "      <td>12.781022</td>\n",
       "    </tr>\n",
       "    <tr>\n",
       "      <th>Disruptive</th>\n",
       "      <td>436</td>\n",
       "      <td>0.154885</td>\n",
       "      <td>4.016055</td>\n",
       "    </tr>\n",
       "    <tr>\n",
       "      <th>IntellectualDisability</th>\n",
       "      <td>59</td>\n",
       "      <td>0.020959</td>\n",
       "      <td>29.677966</td>\n",
       "    </tr>\n",
       "    <tr>\n",
       "      <th>EliminationDisorder</th>\n",
       "      <td>269</td>\n",
       "      <td>0.095560</td>\n",
       "      <td>6.509294</td>\n",
       "    </tr>\n",
       "    <tr>\n",
       "      <th>AnxietyDisorders</th>\n",
       "      <td>1013</td>\n",
       "      <td>0.359858</td>\n",
       "      <td>1.728529</td>\n",
       "    </tr>\n",
       "  </tbody>\n",
       "</table>\n",
       "</div>"
      ],
      "text/plain": [
       "                                           Absolute frequency  \\\n",
       "Trauma_And_Stress_RelatedDisorders                        152   \n",
       "DepressiveDisorders                                       300   \n",
       "Attention_Deficit_HyperactivityDisorder                  1751   \n",
       "MotorDisorder                                             229   \n",
       "AutismSpectrumDisorder                                    398   \n",
       "CommunicationDisorder                                     493   \n",
       "OtherDisorders                                            135   \n",
       "SpecificLearningDisorder                                  761   \n",
       "Obsessive_Compulsive_And_RelatedDisorders                 137   \n",
       "Disruptive                                                436   \n",
       "IntellectualDisability                                     59   \n",
       "EliminationDisorder                                       269   \n",
       "AnxietyDisorders                                         1013   \n",
       "\n",
       "                                           Relative frequency  Imbalance ratio  \n",
       "Trauma_And_Stress_RelatedDisorders                   0.053996        11.519737  \n",
       "DepressiveDisorders                                  0.106572         5.836667  \n",
       "Attention_Deficit_HyperactivityDisorder              0.622025         1.000000  \n",
       "MotorDisorder                                        0.081350         7.646288  \n",
       "AutismSpectrumDisorder                               0.141385         4.399497  \n",
       "CommunicationDisorder                                0.175133         3.551724  \n",
       "OtherDisorders                                       0.047957        12.970370  \n",
       "SpecificLearningDisorder                             0.270337         2.300920  \n",
       "Obsessive_Compulsive_And_RelatedDisorders            0.048668        12.781022  \n",
       "Disruptive                                           0.154885         4.016055  \n",
       "IntellectualDisability                               0.020959        29.677966  \n",
       "EliminationDisorder                                  0.095560         6.509294  \n",
       "AnxietyDisorders                                     0.359858         1.728529  "
      ]
     },
     "execution_count": 32,
     "metadata": {},
     "output_type": "execute_result"
    }
   ],
   "source": [
    "label_stats, mean_ir = generate_label_stats(Y, True)\n",
    "print(f\"Mean imbalance ratio: {mean_ir}\")\n",
    "label_stats"
   ]
  },
  {
   "cell_type": "code",
   "execution_count": 31,
   "metadata": {},
   "outputs": [
    {
     "name": "stdout",
     "output_type": "stream",
     "text": [
      "Number of samples in training set: 2111\n",
      "Number of samples in test set: 704\n"
     ]
    }
   ],
   "source": [
    "# Split dataset into train and test (holdout) set\n",
    "X_train, X_test, Y_train, Y_test = train_test_split(X, Y, test_size=0.25, random_state=0)\n",
    "\n",
    "# Confounder \n",
    "C_train, C_test = C.loc[X_train.index], C.loc[X_test.index]\n",
    "\n",
    "# PCA features\n",
    "X_pca = pca_transform(F)\n",
    "X_pca_train, X_pca_test = X_pca.loc[X_train.index], X_pca.loc[X_test.index]\n",
    "\n",
    "print(f\"Number of samples in training set: {len(X_train)}\")\n",
    "print(f\"Number of samples in test set: {len(X_test)}\")"
   ]
  },
  {
   "cell_type": "markdown",
   "metadata": {},
   "source": [
    "## 1.1. MultiOutputClassifier\n",
    "Evaluate classification models wrapped in meta estimator MultiOutputClassifier with respect to multi-label performance metrics"
   ]
  },
  {
   "cell_type": "markdown",
   "metadata": {},
   "source": [
    "### 1.1.1. Dummy estimators"
   ]
  },
  {
   "cell_type": "markdown",
   "metadata": {},
   "source": [
    "#### 1.1.1.1. Always zero baseline estimator"
   ]
  },
  {
   "cell_type": "code",
   "execution_count": 14,
   "metadata": {},
   "outputs": [
    {
     "name": "stdout",
     "output_type": "stream",
     "text": [
      "Mean scores with SE and 95% confidence intervals:\n",
      "\n",
      "auprc_macro:                  0.17 (0.00) [0.16, 0.17]\n",
      "auprc_weighted:               0.31 (0.01) [0.30, 0.32]\n",
      "auroc_macro:                  0.50 (0.00) [0.50, 0.50]\n",
      "auroc_weighted:               0.50 (0.00) [0.50, 0.50]\n",
      "brier_macro:                  0.17 (0.00) [0.16, 0.17]\n",
      "brier_weighted:               0.05 (0.00) [0.05, 0.05]\n",
      "balanced_accuracy_macro:      0.50 (0.00) [0.50, 0.50]\n",
      "balanced_accuracy_weighted:   0.08 (0.00) [0.08, 0.08]\n",
      "f1_micro:                     0.00 (0.00) [0.00, 0.00]\n",
      "hamming:                      0.17 (0.00) [0.16, 0.17]\n",
      "subset_accuracy:              0.10 (0.01) [0.08, 0.12]\n"
     ]
    }
   ],
   "source": [
    "clf = DummyClassifier(strategy='constant', constant=0 ,random_state=0)\n",
    "meta_clf = MultiOutputClassifier(clf).fit(X_train, Y_train)\n",
    "compute_scores(meta_clf, X_test, Y_test, boot_iter)"
   ]
  },
  {
   "cell_type": "markdown",
   "metadata": {},
   "source": [
    "#### 1.1.1.2. Label proportion baseline estimator"
   ]
  },
  {
   "cell_type": "code",
   "execution_count": 15,
   "metadata": {},
   "outputs": [
    {
     "name": "stdout",
     "output_type": "stream",
     "text": [
      "Mean scores with SE and 95% confidence intervals:\n",
      "\n",
      "auprc_macro:                  0.17 (0.00) [0.16, 0.17]\n",
      "auprc_weighted:               0.31 (0.01) [0.30, 0.32]\n",
      "auroc_macro:                  0.50 (0.00) [0.50, 0.50]\n",
      "auroc_weighted:               0.50 (0.00) [0.50, 0.50]\n",
      "brier_macro:                  0.12 (0.00) [0.11, 0.12]\n",
      "brier_weighted:               0.03 (0.00) [0.03, 0.03]\n",
      "balanced_accuracy_macro:      0.50 (0.00) [0.50, 0.50]\n",
      "balanced_accuracy_weighted:   0.08 (0.00) [0.08, 0.08]\n",
      "f1_micro:                     0.38 (0.01) [0.36, 0.40]\n",
      "hamming:                      0.15 (0.00) [0.14, 0.16]\n",
      "subset_accuracy:              0.10 (0.01) [0.08, 0.12]\n"
     ]
    }
   ],
   "source": [
    "clf = DummyClassifier(strategy='prior', random_state=0)\n",
    "meta_clf = MultiOutputClassifier(clf).fit(X_train, Y_train)\n",
    "compute_scores(meta_clf, X_test, Y_test, boot_iter)"
   ]
  },
  {
   "cell_type": "markdown",
   "metadata": {},
   "source": [
    "### 1.1.2. Confounders as features"
   ]
  },
  {
   "cell_type": "markdown",
   "metadata": {},
   "source": [
    "#### 1.1.1.1. Logistic regression"
   ]
  },
  {
   "cell_type": "code",
   "execution_count": 16,
   "metadata": {},
   "outputs": [
    {
     "name": "stdout",
     "output_type": "stream",
     "text": [
      "Mean scores with SE and 95% confidence intervals:\n",
      "\n",
      "auprc_macro:                  0.18 (0.01) [0.17, 0.19]\n",
      "auprc_weighted:               0.32 (0.01) [0.31, 0.34]\n",
      "auroc_macro:                  0.51 (0.01) [0.49, 0.53]\n",
      "auroc_weighted:               0.51 (0.01) [0.49, 0.53]\n",
      "brier_macro:                  0.25 (0.00) [0.25, 0.25]\n",
      "brier_weighted:               0.04 (0.00) [0.04, 0.04]\n",
      "balanced_accuracy_macro:      0.51 (0.01) [0.49, 0.53]\n",
      "balanced_accuracy_weighted:   0.08 (0.00) [0.08, 0.09]\n",
      "f1_micro:                     0.25 (0.01) [0.24, 0.27]\n",
      "hamming:                      0.47 (0.00) [0.46, 0.48]\n",
      "subset_accuracy:              0.00 (0.00) [0.00, 0.00]\n"
     ]
    }
   ],
   "source": [
    "clf = LogisticRegression(class_weight='balanced', max_iter=10000, random_state=0)\n",
    "meta_clf = MultiOutputClassifier(clf).fit(C_train, Y_train)\n",
    "compute_scores(meta_clf, C_test, Y_test, boot_iter)"
   ]
  },
  {
   "cell_type": "markdown",
   "metadata": {},
   "source": [
    "#### 1.1.1.1. Histogram-based Gradient Boosting"
   ]
  },
  {
   "cell_type": "code",
   "execution_count": 17,
   "metadata": {},
   "outputs": [
    {
     "name": "stdout",
     "output_type": "stream",
     "text": [
      "Mean scores with SE and 95% confidence intervals:\n",
      "\n",
      "auprc_macro:                  0.18 (0.01) [0.17, 0.20]\n",
      "auprc_weighted:               0.32 (0.01) [0.30, 0.34]\n",
      "auroc_macro:                  0.49 (0.01) [0.47, 0.51]\n",
      "auroc_weighted:               0.50 (0.01) [0.49, 0.52]\n",
      "brier_macro:                  0.13 (0.00) [0.12, 0.13]\n",
      "brier_weighted:               0.03 (0.00) [0.03, 0.03]\n",
      "balanced_accuracy_macro:      0.50 (0.00) [0.50, 0.51]\n",
      "balanced_accuracy_weighted:   0.08 (0.00) [0.08, 0.09]\n",
      "f1_micro:                     0.34 (0.01) [0.32, 0.36]\n",
      "hamming:                      0.16 (0.00) [0.16, 0.17]\n",
      "subset_accuracy:              0.08 (0.01) [0.06, 0.09]\n"
     ]
    }
   ],
   "source": [
    "clf = HistGradientBoostingClassifier(random_state=0)\n",
    "meta_clf = MultiOutputClassifier(clf, n_jobs=-1).fit(C_train,Y_train)\n",
    "compute_scores(meta_clf, C_test, Y_test, boot_iter)"
   ]
  },
  {
   "cell_type": "markdown",
   "metadata": {},
   "source": [
    "### 1.1.3. PCA-projected data (top-10 components) as features "
   ]
  },
  {
   "cell_type": "markdown",
   "metadata": {},
   "source": [
    "#### 1.1.1.1. Logistic regression"
   ]
  },
  {
   "cell_type": "code",
   "execution_count": 18,
   "metadata": {},
   "outputs": [
    {
     "name": "stdout",
     "output_type": "stream",
     "text": [
      "Mean scores with SE and 95% confidence intervals:\n",
      "\n",
      "auprc_macro:                  0.23 (0.01) [0.21, 0.25]\n",
      "auprc_weighted:               0.37 (0.01) [0.35, 0.40]\n",
      "auroc_macro:                  0.60 (0.01) [0.58, 0.61]\n",
      "auroc_weighted:               0.58 (0.01) [0.56, 0.60]\n",
      "brier_macro:                  0.24 (0.00) [0.23, 0.24]\n",
      "brier_weighted:               0.04 (0.00) [0.04, 0.04]\n",
      "balanced_accuracy_macro:      0.57 (0.01) [0.55, 0.59]\n",
      "balanced_accuracy_weighted:   0.09 (0.00) [0.09, 0.10]\n",
      "f1_micro:                     0.31 (0.01) [0.30, 0.33]\n",
      "hamming:                      0.43 (0.00) [0.42, 0.44]\n",
      "subset_accuracy:              0.00 (0.00) [0.00, 0.00]\n"
     ]
    }
   ],
   "source": [
    "clf = LogisticRegression(class_weight='balanced', max_iter=10000, random_state=0)\n",
    "meta_clf = MultiOutputClassifier(clf).fit(X_pca_train, Y_train)\n",
    "compute_scores(meta_clf, X_pca_test, Y_test, boot_iter)"
   ]
  },
  {
   "cell_type": "markdown",
   "metadata": {},
   "source": [
    "#### 1.1.1.1. Histogram-based Gradient Boosting"
   ]
  },
  {
   "cell_type": "code",
   "execution_count": 19,
   "metadata": {},
   "outputs": [
    {
     "name": "stdout",
     "output_type": "stream",
     "text": [
      "Mean scores with SE and 95% confidence intervals:\n",
      "\n",
      "auprc_macro:                  0.21 (0.01) [0.19, 0.23]\n",
      "auprc_weighted:               0.35 (0.01) [0.33, 0.37]\n",
      "auroc_macro:                  0.55 (0.01) [0.53, 0.57]\n",
      "auroc_weighted:               0.54 (0.01) [0.53, 0.56]\n",
      "brier_macro:                  0.13 (0.00) [0.12, 0.13]\n",
      "brier_weighted:               0.03 (0.00) [0.03, 0.03]\n",
      "balanced_accuracy_macro:      0.51 (0.00) [0.50, 0.51]\n",
      "balanced_accuracy_weighted:   0.09 (0.00) [0.08, 0.09]\n",
      "f1_micro:                     0.37 (0.01) [0.35, 0.39]\n",
      "hamming:                      0.16 (0.00) [0.16, 0.17]\n",
      "subset_accuracy:              0.08 (0.01) [0.07, 0.10]\n"
     ]
    }
   ],
   "source": [
    "clf = HistGradientBoostingClassifier(random_state=0)\n",
    "meta_clf = MultiOutputClassifier(clf, n_jobs=-1).fit(X_pca_train,Y_train)\n",
    "compute_scores(meta_clf, X_pca_test, Y_test, boot_iter)"
   ]
  },
  {
   "cell_type": "markdown",
   "metadata": {},
   "source": [
    "### 1.1.4. Original features (standardized)"
   ]
  },
  {
   "cell_type": "markdown",
   "metadata": {},
   "source": [
    "#### 1.1.4.1. Logistic regression"
   ]
  },
  {
   "cell_type": "code",
   "execution_count": 20,
   "metadata": {},
   "outputs": [
    {
     "name": "stdout",
     "output_type": "stream",
     "text": [
      "Mean scores with SE and 95% confidence intervals:\n",
      "\n",
      "auprc_macro:                  0.21 (0.01) [0.19, 0.22]\n",
      "auprc_weighted:               0.36 (0.01) [0.34, 0.38]\n",
      "auroc_macro:                  0.57 (0.01) [0.55, 0.59]\n",
      "auroc_weighted:               0.56 (0.01) [0.54, 0.58]\n",
      "brier_macro:                  0.21 (0.00) [0.21, 0.22]\n",
      "brier_weighted:               0.05 (0.00) [0.04, 0.05]\n",
      "balanced_accuracy_macro:      0.53 (0.01) [0.51, 0.54]\n",
      "balanced_accuracy_weighted:   0.09 (0.00) [0.09, 0.09]\n",
      "f1_micro:                     0.33 (0.01) [0.31, 0.35]\n",
      "hamming:                      0.27 (0.00) [0.26, 0.28]\n",
      "subset_accuracy:              0.01 (0.00) [0.01, 0.02]\n"
     ]
    }
   ],
   "source": [
    "clf = LogisticRegression(class_weight='balanced', max_iter=10000, random_state=0)\n",
    "meta_clf = MultiOutputClassifier(clf).fit(X_train, Y_train)\n",
    "compute_scores(meta_clf, X_test, Y_test, boot_iter)"
   ]
  },
  {
   "cell_type": "markdown",
   "metadata": {},
   "source": [
    "#### 1.1.4.2. SVM"
   ]
  },
  {
   "cell_type": "code",
   "execution_count": 21,
   "metadata": {},
   "outputs": [
    {
     "name": "stdout",
     "output_type": "stream",
     "text": [
      "Mean scores with SE and 95% confidence intervals:\n",
      "\n",
      "auprc_macro:                  0.23 (0.01) [0.21, 0.25]\n",
      "auprc_weighted:               0.38 (0.00) [0.37, 0.39]\n",
      "auroc_macro:                  0.60 (0.01) [0.58, 0.62]\n",
      "auroc_weighted:               0.60 (0.00) [0.59, 0.60]\n",
      "brier_macro:                  0.11 (0.00) [0.11, 0.12]\n",
      "brier_weighted:               0.03 (0.00) [0.03, 0.03]\n",
      "balanced_accuracy_macro:      0.54 (0.01) [0.53, 0.55]\n",
      "balanced_accuracy_weighted:   0.09 (0.00) [0.09, 0.09]\n",
      "f1_micro:                     0.38 (0.01) [0.37, 0.39]\n",
      "hamming:                      0.23 (0.00) [0.22, 0.24]\n",
      "subset_accuracy:              0.04 (0.01) [0.02, 0.05]\n"
     ]
    }
   ],
   "source": [
    "clf = SVC(class_weight='balanced', kernel='rbf', gamma='scale', probability=True, random_state=0)\n",
    "meta_clf = MultiOutputClassifier(clf, n_jobs=-1).fit(X_train, Y_train)\n",
    "compute_scores(meta_clf, X_test, Y_test, 10)"
   ]
  },
  {
   "cell_type": "markdown",
   "metadata": {},
   "source": [
    "#### 1.1.4.3. Histogram-based Gradient Boosting"
   ]
  },
  {
   "cell_type": "code",
   "execution_count": 22,
   "metadata": {},
   "outputs": [
    {
     "name": "stdout",
     "output_type": "stream",
     "text": [
      "Mean scores with SE and 95% confidence intervals:\n",
      "\n",
      "auprc_macro:                  0.23 (0.01) [0.21, 0.25]\n",
      "auprc_weighted:               0.36 (0.01) [0.34, 0.39]\n",
      "auroc_macro:                  0.59 (0.01) [0.57, 0.62]\n",
      "auroc_weighted:               0.58 (0.01) [0.55, 0.60]\n",
      "brier_macro:                  0.13 (0.00) [0.12, 0.13]\n",
      "brier_weighted:               0.03 (0.00) [0.03, 0.03]\n",
      "balanced_accuracy_macro:      0.51 (0.00) [0.50, 0.51]\n",
      "balanced_accuracy_weighted:   0.09 (0.00) [0.09, 0.09]\n",
      "f1_micro:                     0.37 (0.01) [0.36, 0.39]\n",
      "hamming:                      0.15 (0.00) [0.15, 0.16]\n",
      "subset_accuracy:              0.11 (0.01) [0.09, 0.13]\n"
     ]
    }
   ],
   "source": [
    "clf = HistGradientBoostingClassifier(random_state=0)\n",
    "meta_clf = MultiOutputClassifier(clf, n_jobs=-1).fit(X_train, Y_train)\n",
    "compute_scores(meta_clf, X_test, Y_test, boot_iter)"
   ]
  },
  {
   "cell_type": "markdown",
   "metadata": {},
   "source": [
    "#### 1.1.4.4. MLP"
   ]
  },
  {
   "cell_type": "code",
   "execution_count": 23,
   "metadata": {},
   "outputs": [
    {
     "name": "stdout",
     "output_type": "stream",
     "text": [
      "Mean scores with SE and 95% confidence intervals:\n",
      "\n",
      "auprc_macro:                  0.22 (0.01) [0.20, 0.23]\n",
      "auprc_weighted:               0.36 (0.01) [0.34, 0.38]\n",
      "auroc_macro:                  0.58 (0.01) [0.55, 0.60]\n",
      "auroc_weighted:               0.57 (0.01) [0.55, 0.59]\n",
      "brier_macro:                  0.16 (0.00) [0.15, 0.16]\n",
      "brier_weighted:               0.04 (0.00) [0.04, 0.04]\n",
      "balanced_accuracy_macro:      0.52 (0.00) [0.52, 0.53]\n",
      "balanced_accuracy_weighted:   0.09 (0.00) [0.09, 0.09]\n",
      "f1_micro:                     0.37 (0.01) [0.35, 0.39]\n",
      "hamming:                      0.18 (0.00) [0.18, 0.19]\n",
      "subset_accuracy:              0.08 (0.01) [0.07, 0.10]\n"
     ]
    }
   ],
   "source": [
    "clf = MLPClassifier(random_state=0)\n",
    "meta_clf = MultiOutputClassifier(clf, n_jobs=-1).fit(X_train, Y_train)\n",
    "compute_scores(meta_clf, X_test, Y_test, boot_iter)"
   ]
  },
  {
   "cell_type": "markdown",
   "metadata": {},
   "source": [
    "## 1.2. ClassifierChain (ordered by frequency) \n",
    "Evaluate classification models wrapped in meta estimator ClassifierChain with respect to multi-label performance metrics"
   ]
  },
  {
   "cell_type": "code",
   "execution_count": 11,
   "metadata": {},
   "outputs": [],
   "source": [
    "by_freq = label_freq_sorted(Y_train)"
   ]
  },
  {
   "cell_type": "markdown",
   "metadata": {},
   "source": [
    "### 1.2.1. Logistic regression"
   ]
  },
  {
   "cell_type": "code",
   "execution_count": 12,
   "metadata": {},
   "outputs": [
    {
     "name": "stdout",
     "output_type": "stream",
     "text": [
      "Mean scores with SE and 95% confidence intervals:\n",
      "\n",
      "auprc_macro:                  0.21 (0.01) [0.19, 0.22]\n",
      "auprc_weighted:               0.36 (0.01) [0.34, 0.38]\n",
      "auroc_macro:                  0.56 (0.01) [0.55, 0.59]\n",
      "auroc_weighted:               0.56 (0.01) [0.54, 0.58]\n",
      "brier_macro:                  0.21 (0.00) [0.20, 0.22]\n",
      "brier_weighted:               0.04 (0.00) [0.04, 0.05]\n",
      "balanced_accuracy_macro:      0.53 (0.01) [0.52, 0.55]\n",
      "balanced_accuracy_weighted:   0.09 (0.00) [0.09, 0.09]\n",
      "f1_micro:                     0.34 (0.01) [0.32, 0.36]\n",
      "hamming:                      0.26 (0.00) [0.26, 0.27]\n",
      "subset_accuracy:              0.03 (0.01) [0.01, 0.04]\n"
     ]
    }
   ],
   "source": [
    "clf = LogisticRegression(class_weight='balanced', max_iter=10000, random_state=0)\n",
    "meta_clf = ClassifierChain(clf, order=by_freq, random_state=0).fit(X_train, Y_train)\n",
    "compute_scores(meta_clf, X_test, Y_test, boot_iter, chain=True)"
   ]
  },
  {
   "cell_type": "markdown",
   "metadata": {},
   "source": [
    "### 1.2.2. Histogram-based Gradient Boosting"
   ]
  },
  {
   "cell_type": "code",
   "execution_count": 14,
   "metadata": {},
   "outputs": [
    {
     "name": "stdout",
     "output_type": "stream",
     "text": [
      "Mean scores with SE and 95% confidence intervals:\n",
      "\n",
      "auprc_macro:                  0.23 (0.01) [0.21, 0.26]\n",
      "auprc_weighted:               0.36 (0.01) [0.34, 0.39]\n",
      "auroc_macro:                  0.59 (0.01) [0.57, 0.61]\n",
      "auroc_weighted:               0.57 (0.01) [0.55, 0.60]\n",
      "brier_macro:                  0.13 (0.00) [0.12, 0.13]\n",
      "brier_weighted:               0.03 (0.00) [0.03, 0.03]\n",
      "balanced_accuracy_macro:      0.51 (0.00) [0.50, 0.51]\n",
      "balanced_accuracy_weighted:   0.09 (0.00) [0.09, 0.09]\n",
      "f1_micro:                     0.37 (0.01) [0.36, 0.39]\n",
      "hamming:                      0.15 (0.00) [0.15, 0.16]\n",
      "subset_accuracy:              0.11 (0.01) [0.09, 0.13]\n"
     ]
    }
   ],
   "source": [
    "clf = HistGradientBoostingClassifier(random_state=0)\n",
    "meta_clf = ClassifierChain(clf, order=by_freq, random_state=0).fit(X_train, Y_train)\n",
    "compute_scores(meta_clf, X_test, Y_test, boot_iter, chain=True)"
   ]
  },
  {
   "cell_type": "markdown",
   "metadata": {},
   "source": [
    "## 1.3. ClassifierChain (random order) \n",
    "Evaluate classification models wrapped in meta estimator ClassifierChain with respect to multi-label performance metrics"
   ]
  },
  {
   "cell_type": "markdown",
   "metadata": {},
   "source": [
    "### 1.3.1. Logistic regression"
   ]
  },
  {
   "cell_type": "code",
   "execution_count": 15,
   "metadata": {},
   "outputs": [
    {
     "name": "stdout",
     "output_type": "stream",
     "text": [
      "Mean scores with SE and 95% confidence intervals:\n",
      "\n",
      "auprc_macro:                  0.21 (0.01) [0.20, 0.22]\n",
      "auprc_weighted:               0.36 (0.01) [0.34, 0.38]\n",
      "auroc_macro:                  0.57 (0.01) [0.55, 0.59]\n",
      "auroc_weighted:               0.56 (0.01) [0.54, 0.58]\n",
      "brier_macro:                  0.21 (0.00) [0.21, 0.22]\n",
      "brier_weighted:               0.05 (0.00) [0.04, 0.05]\n",
      "balanced_accuracy_macro:      0.53 (0.01) [0.51, 0.54]\n",
      "balanced_accuracy_weighted:   0.09 (0.00) [0.09, 0.09]\n",
      "f1_micro:                     0.34 (0.01) [0.32, 0.36]\n",
      "hamming:                      0.26 (0.00) [0.26, 0.28]\n",
      "subset_accuracy:              0.02 (0.01) [0.01, 0.03]\n"
     ]
    }
   ],
   "source": [
    "clf = LogisticRegression(class_weight='balanced', max_iter=10000, random_state=0)\n",
    "meta_clf = ClassifierChain(clf, random_state=0).fit(X_train, Y_train)\n",
    "compute_scores(meta_clf, X_test, Y_test, boot_iter, chain=True)"
   ]
  },
  {
   "cell_type": "markdown",
   "metadata": {},
   "source": [
    "### 1.3.2. Histogram-based Gradient Boosting"
   ]
  },
  {
   "cell_type": "code",
   "execution_count": 16,
   "metadata": {},
   "outputs": [
    {
     "name": "stdout",
     "output_type": "stream",
     "text": [
      "Mean scores with SE and 95% confidence intervals:\n",
      "\n",
      "auprc_macro:                  0.23 (0.01) [0.21, 0.25]\n",
      "auprc_weighted:               0.36 (0.01) [0.34, 0.39]\n",
      "auroc_macro:                  0.59 (0.01) [0.57, 0.62]\n",
      "auroc_weighted:               0.57 (0.01) [0.55, 0.60]\n",
      "brier_macro:                  0.13 (0.00) [0.12, 0.13]\n",
      "brier_weighted:               0.03 (0.00) [0.03, 0.03]\n",
      "balanced_accuracy_macro:      0.50 (0.00) [0.50, 0.51]\n",
      "balanced_accuracy_weighted:   0.09 (0.00) [0.08, 0.09]\n",
      "f1_micro:                     0.35 (0.01) [0.34, 0.38]\n",
      "hamming:                      0.15 (0.00) [0.15, 0.16]\n",
      "subset_accuracy:              0.11 (0.01) [0.09, 0.14]\n"
     ]
    }
   ],
   "source": [
    "clf = HistGradientBoostingClassifier(random_state=0)\n",
    "meta_clf = ClassifierChain(clf, random_state=0).fit(X_train, Y_train)\n",
    "compute_scores(meta_clf, X_test, Y_test, boot_iter, chain=True)"
   ]
  },
  {
   "cell_type": "markdown",
   "metadata": {},
   "source": [
    "# 2. Use undersampled dataset"
   ]
  },
  {
   "cell_type": "code",
   "execution_count": 9,
   "metadata": {},
   "outputs": [
    {
     "name": "stdout",
     "output_type": "stream",
     "text": [
      "Mean imbalance ratio: 5.355254324589975\n"
     ]
    },
    {
     "data": {
      "text/html": [
       "<div>\n",
       "<style scoped>\n",
       "    .dataframe tbody tr th:only-of-type {\n",
       "        vertical-align: middle;\n",
       "    }\n",
       "\n",
       "    .dataframe tbody tr th {\n",
       "        vertical-align: top;\n",
       "    }\n",
       "\n",
       "    .dataframe thead th {\n",
       "        text-align: right;\n",
       "    }\n",
       "</style>\n",
       "<table border=\"1\" class=\"dataframe\">\n",
       "  <thead>\n",
       "    <tr style=\"text-align: right;\">\n",
       "      <th></th>\n",
       "      <th>Absolute frequency</th>\n",
       "      <th>Relative frequency</th>\n",
       "      <th>Imbalance ratio</th>\n",
       "    </tr>\n",
       "  </thead>\n",
       "  <tbody>\n",
       "    <tr>\n",
       "      <th>Trauma_And_Stress_RelatedDisorders</th>\n",
       "      <td>107</td>\n",
       "      <td>0.056435</td>\n",
       "      <td>7.775701</td>\n",
       "    </tr>\n",
       "    <tr>\n",
       "      <th>DepressiveDisorders</th>\n",
       "      <td>175</td>\n",
       "      <td>0.092300</td>\n",
       "      <td>4.754286</td>\n",
       "    </tr>\n",
       "    <tr>\n",
       "      <th>Attention_Deficit_HyperactivityDisorder</th>\n",
       "      <td>832</td>\n",
       "      <td>0.438819</td>\n",
       "      <td>1.000000</td>\n",
       "    </tr>\n",
       "    <tr>\n",
       "      <th>MotorDisorder</th>\n",
       "      <td>147</td>\n",
       "      <td>0.077532</td>\n",
       "      <td>5.659864</td>\n",
       "    </tr>\n",
       "    <tr>\n",
       "      <th>AutismSpectrumDisorder</th>\n",
       "      <td>288</td>\n",
       "      <td>0.151899</td>\n",
       "      <td>2.888889</td>\n",
       "    </tr>\n",
       "    <tr>\n",
       "      <th>CommunicationDisorder</th>\n",
       "      <td>389</td>\n",
       "      <td>0.205169</td>\n",
       "      <td>2.138817</td>\n",
       "    </tr>\n",
       "    <tr>\n",
       "      <th>OtherDisorders</th>\n",
       "      <td>106</td>\n",
       "      <td>0.055907</td>\n",
       "      <td>7.849057</td>\n",
       "    </tr>\n",
       "    <tr>\n",
       "      <th>SpecificLearningDisorder</th>\n",
       "      <td>564</td>\n",
       "      <td>0.297468</td>\n",
       "      <td>1.475177</td>\n",
       "    </tr>\n",
       "    <tr>\n",
       "      <th>Obsessive_Compulsive_And_RelatedDisorders</th>\n",
       "      <td>81</td>\n",
       "      <td>0.042722</td>\n",
       "      <td>10.271605</td>\n",
       "    </tr>\n",
       "    <tr>\n",
       "      <th>Disruptive</th>\n",
       "      <td>306</td>\n",
       "      <td>0.161392</td>\n",
       "      <td>2.718954</td>\n",
       "    </tr>\n",
       "    <tr>\n",
       "      <th>IntellectualDisability</th>\n",
       "      <td>50</td>\n",
       "      <td>0.026371</td>\n",
       "      <td>16.640000</td>\n",
       "    </tr>\n",
       "    <tr>\n",
       "      <th>EliminationDisorder</th>\n",
       "      <td>196</td>\n",
       "      <td>0.103376</td>\n",
       "      <td>4.244898</td>\n",
       "    </tr>\n",
       "    <tr>\n",
       "      <th>AnxietyDisorders</th>\n",
       "      <td>378</td>\n",
       "      <td>0.199367</td>\n",
       "      <td>2.201058</td>\n",
       "    </tr>\n",
       "  </tbody>\n",
       "</table>\n",
       "</div>"
      ],
      "text/plain": [
       "                                           Absolute frequency  \\\n",
       "Trauma_And_Stress_RelatedDisorders                        107   \n",
       "DepressiveDisorders                                       175   \n",
       "Attention_Deficit_HyperactivityDisorder                   832   \n",
       "MotorDisorder                                             147   \n",
       "AutismSpectrumDisorder                                    288   \n",
       "CommunicationDisorder                                     389   \n",
       "OtherDisorders                                            106   \n",
       "SpecificLearningDisorder                                  564   \n",
       "Obsessive_Compulsive_And_RelatedDisorders                  81   \n",
       "Disruptive                                                306   \n",
       "IntellectualDisability                                     50   \n",
       "EliminationDisorder                                       196   \n",
       "AnxietyDisorders                                          378   \n",
       "\n",
       "                                           Relative frequency  Imbalance ratio  \n",
       "Trauma_And_Stress_RelatedDisorders                   0.056435         7.775701  \n",
       "DepressiveDisorders                                  0.092300         4.754286  \n",
       "Attention_Deficit_HyperactivityDisorder              0.438819         1.000000  \n",
       "MotorDisorder                                        0.077532         5.659864  \n",
       "AutismSpectrumDisorder                               0.151899         2.888889  \n",
       "CommunicationDisorder                                0.205169         2.138817  \n",
       "OtherDisorders                                       0.055907         7.849057  \n",
       "SpecificLearningDisorder                             0.297468         1.475177  \n",
       "Obsessive_Compulsive_And_RelatedDisorders            0.042722        10.271605  \n",
       "Disruptive                                           0.161392         2.718954  \n",
       "IntellectualDisability                               0.026371        16.640000  \n",
       "EliminationDisorder                                  0.103376         4.244898  \n",
       "AnxietyDisorders                                     0.199367         2.201058  "
      ]
     },
     "execution_count": 9,
     "metadata": {},
     "output_type": "execute_result"
    }
   ],
   "source": [
    "# Resample data (undersampling)\n",
    "X_under, Y_under = generate_undersampled_set(X, Y)\n",
    "label_stats, mean_ir = generate_label_stats(Y_under, True)\n",
    "print(f\"Mean imbalance ratio: {mean_ir}\")\n",
    "label_stats"
   ]
  },
  {
   "cell_type": "code",
   "execution_count": 10,
   "metadata": {},
   "outputs": [
    {
     "name": "stdout",
     "output_type": "stream",
     "text": [
      "Number of samples in training set: 1422\n",
      "Number of samples in test set: 474\n"
     ]
    }
   ],
   "source": [
    "# Split dataset into train and test (holdout) set\n",
    "X_train, X_test, Y_train, Y_test = train_test_split(X_under, Y_under, test_size=0.25, random_state=0)\n",
    "\n",
    "# Confounder \n",
    "C_train, C_test = C.loc[X_train.index], C.loc[X_test.index]\n",
    "\n",
    "# PCA features\n",
    "X_pca = pca_transform(F)\n",
    "X_pca_train, X_pca_test = X_pca.loc[X_train.index], X_pca.loc[X_test.index]\n",
    "\n",
    "print(f\"Number of samples in training set: {len(X_train)}\")\n",
    "print(f\"Number of samples in test set: {len(X_test)}\")"
   ]
  },
  {
   "cell_type": "markdown",
   "metadata": {},
   "source": [
    "## 2.1. MultiOutputClassifier\n",
    "Evaluate classification models wrapped in meta estimator MultiOutputClassifier with respect to multi-label performance metrics"
   ]
  },
  {
   "cell_type": "markdown",
   "metadata": {},
   "source": [
    "### 2.1.1. Dummy estimators"
   ]
  },
  {
   "cell_type": "markdown",
   "metadata": {},
   "source": [
    "#### 2.1.1.1. Always zero baseline estimator"
   ]
  },
  {
   "cell_type": "code",
   "execution_count": 35,
   "metadata": {},
   "outputs": [
    {
     "name": "stdout",
     "output_type": "stream",
     "text": [
      "Mean scores with SE and 95% confidence intervals:\n",
      "\n",
      "auprc_macro:                  0.15 (0.00) [0.14, 0.16]\n",
      "auprc_weighted:               0.25 (0.01) [0.23, 0.26]\n",
      "auroc_macro:                  0.50 (0.00) [0.50, 0.50]\n",
      "auroc_weighted:               0.50 (0.00) [0.50, 0.50]\n",
      "brier_macro:                  0.15 (0.00) [0.14, 0.16]\n",
      "brier_weighted:               0.04 (0.00) [0.03, 0.04]\n",
      "balanced_accuracy_macro:      0.50 (0.00) [0.50, 0.50]\n",
      "balanced_accuracy_weighted:   0.07 (0.00) [0.07, 0.07]\n",
      "f1_micro:                     0.00 (0.00) [0.00, 0.00]\n",
      "hamming:                      0.15 (0.00) [0.14, 0.16]\n",
      "subset_accuracy:              0.14 (0.01) [0.11, 0.18]\n"
     ]
    }
   ],
   "source": [
    "clf = DummyClassifier(strategy='constant', constant=0 ,random_state=0)\n",
    "meta_clf = MultiOutputClassifier(clf).fit(X_train, Y_train)\n",
    "compute_scores(meta_clf, X_test, Y_test, boot_iter)"
   ]
  },
  {
   "cell_type": "markdown",
   "metadata": {},
   "source": [
    "#### 2.1.1.2. Label proportion baseline estimator"
   ]
  },
  {
   "cell_type": "code",
   "execution_count": 36,
   "metadata": {},
   "outputs": [
    {
     "name": "stdout",
     "output_type": "stream",
     "text": [
      "Mean scores with SE and 95% confidence intervals:\n",
      "\n",
      "auprc_macro:                  0.15 (0.00) [0.14, 0.16]\n",
      "auprc_weighted:               0.25 (0.01) [0.23, 0.26]\n",
      "auroc_macro:                  0.50 (0.00) [0.50, 0.50]\n",
      "auroc_weighted:               0.50 (0.00) [0.50, 0.50]\n",
      "brier_macro:                  0.11 (0.00) [0.11, 0.12]\n",
      "brier_weighted:               0.02 (0.00) [0.02, 0.03]\n",
      "balanced_accuracy_macro:      0.50 (0.00) [0.50, 0.50]\n",
      "balanced_accuracy_weighted:   0.07 (0.00) [0.07, 0.07]\n",
      "f1_micro:                     0.00 (0.00) [0.00, 0.00]\n",
      "hamming:                      0.15 (0.00) [0.14, 0.16]\n",
      "subset_accuracy:              0.14 (0.01) [0.11, 0.18]\n"
     ]
    }
   ],
   "source": [
    "clf = DummyClassifier(strategy='prior', random_state=0)\n",
    "meta_clf = MultiOutputClassifier(clf).fit(X_train, Y_train)\n",
    "compute_scores(meta_clf, X_test, Y_test, boot_iter)"
   ]
  },
  {
   "cell_type": "markdown",
   "metadata": {},
   "source": [
    "### 2.1.2. Confounders as features"
   ]
  },
  {
   "cell_type": "markdown",
   "metadata": {},
   "source": [
    "#### 2.1.1.1. Logistic regression"
   ]
  },
  {
   "cell_type": "code",
   "execution_count": 37,
   "metadata": {},
   "outputs": [
    {
     "name": "stdout",
     "output_type": "stream",
     "text": [
      "Mean scores with SE and 95% confidence intervals:\n",
      "\n",
      "auprc_macro:                  0.17 (0.01) [0.15, 0.18]\n",
      "auprc_weighted:               0.27 (0.01) [0.25, 0.29]\n",
      "auroc_macro:                  0.49 (0.01) [0.47, 0.52]\n",
      "auroc_weighted:               0.50 (0.01) [0.48, 0.52]\n",
      "brier_macro:                  0.11 (0.00) [0.11, 0.12]\n",
      "brier_weighted:               0.02 (0.00) [0.02, 0.03]\n",
      "balanced_accuracy_macro:      0.50 (0.00) [0.50, 0.50]\n",
      "balanced_accuracy_weighted:   0.08 (0.00) [0.07, 0.08]\n",
      "f1_micro:                     0.03 (0.01) [0.02, 0.05]\n",
      "hamming:                      0.15 (0.00) [0.14, 0.16]\n",
      "subset_accuracy:              0.14 (0.01) [0.11, 0.17]\n"
     ]
    }
   ],
   "source": [
    "clf = LogisticRegression(max_iter=10000, random_state=0)\n",
    "meta_clf = MultiOutputClassifier(clf).fit(C_train, Y_train)\n",
    "compute_scores(meta_clf, C_test, Y_test, boot_iter)"
   ]
  },
  {
   "cell_type": "markdown",
   "metadata": {},
   "source": [
    "#### 2.1.1.1. Histogram-based Gradient Boosting"
   ]
  },
  {
   "cell_type": "code",
   "execution_count": 38,
   "metadata": {},
   "outputs": [
    {
     "name": "stdout",
     "output_type": "stream",
     "text": [
      "Mean scores with SE and 95% confidence intervals:\n",
      "\n",
      "auprc_macro:                  0.17 (0.01) [0.16, 0.19]\n",
      "auprc_weighted:               0.26 (0.01) [0.24, 0.29]\n",
      "auroc_macro:                  0.50 (0.01) [0.47, 0.52]\n",
      "auroc_weighted:               0.50 (0.01) [0.47, 0.52]\n",
      "brier_macro:                  0.13 (0.00) [0.12, 0.13]\n",
      "brier_weighted:               0.03 (0.00) [0.03, 0.03]\n",
      "balanced_accuracy_macro:      0.50 (0.00) [0.49, 0.51]\n",
      "balanced_accuracy_weighted:   0.07 (0.00) [0.07, 0.08]\n",
      "f1_micro:                     0.16 (0.02) [0.13, 0.19]\n",
      "hamming:                      0.16 (0.00) [0.16, 0.17]\n",
      "subset_accuracy:              0.09 (0.02) [0.06, 0.12]\n"
     ]
    }
   ],
   "source": [
    "clf = HistGradientBoostingClassifier(random_state=0)\n",
    "meta_clf = MultiOutputClassifier(clf, n_jobs=-1).fit(C_train,Y_train)\n",
    "compute_scores(meta_clf, C_test, Y_test, boot_iter)"
   ]
  },
  {
   "cell_type": "markdown",
   "metadata": {},
   "source": [
    "### 2.1.3. PCA-projected data (top-10 components) as features "
   ]
  },
  {
   "cell_type": "markdown",
   "metadata": {},
   "source": [
    "#### 2.1.1.1. Logistic regression"
   ]
  },
  {
   "cell_type": "code",
   "execution_count": 39,
   "metadata": {},
   "outputs": [
    {
     "name": "stdout",
     "output_type": "stream",
     "text": [
      "Mean scores with SE and 95% confidence intervals:\n",
      "\n",
      "auprc_macro:                  0.22 (0.01) [0.20, 0.24]\n",
      "auprc_weighted:               0.31 (0.01) [0.28, 0.33]\n",
      "auroc_macro:                  0.59 (0.01) [0.57, 0.61]\n",
      "auroc_weighted:               0.57 (0.01) [0.55, 0.59]\n",
      "brier_macro:                  0.11 (0.00) [0.11, 0.12]\n",
      "brier_weighted:               0.02 (0.00) [0.02, 0.03]\n",
      "balanced_accuracy_macro:      0.50 (0.00) [0.50, 0.51]\n",
      "balanced_accuracy_weighted:   0.08 (0.00) [0.08, 0.08]\n",
      "f1_micro:                     0.07 (0.01) [0.05, 0.09]\n",
      "hamming:                      0.15 (0.00) [0.14, 0.16]\n",
      "subset_accuracy:              0.13 (0.01) [0.10, 0.16]\n"
     ]
    }
   ],
   "source": [
    "clf = LogisticRegression(max_iter=10000, random_state=0)\n",
    "meta_clf = MultiOutputClassifier(clf).fit(X_pca_train, Y_train)\n",
    "compute_scores(meta_clf, X_pca_test, Y_test, boot_iter)"
   ]
  },
  {
   "cell_type": "markdown",
   "metadata": {},
   "source": [
    "#### 2.1.1.1. Histogram-based Gradient Boosting"
   ]
  },
  {
   "cell_type": "code",
   "execution_count": 40,
   "metadata": {},
   "outputs": [
    {
     "name": "stdout",
     "output_type": "stream",
     "text": [
      "Mean scores with SE and 95% confidence intervals:\n",
      "\n",
      "auprc_macro:                  0.20 (0.01) [0.18, 0.22]\n",
      "auprc_weighted:               0.29 (0.01) [0.26, 0.31]\n",
      "auroc_macro:                  0.57 (0.01) [0.54, 0.60]\n",
      "auroc_weighted:               0.55 (0.01) [0.53, 0.57]\n",
      "brier_macro:                  0.13 (0.00) [0.12, 0.13]\n",
      "brier_weighted:               0.03 (0.00) [0.03, 0.03]\n",
      "balanced_accuracy_macro:      0.51 (0.00) [0.50, 0.52]\n",
      "balanced_accuracy_weighted:   0.08 (0.00) [0.07, 0.08]\n",
      "f1_micro:                     0.20 (0.01) [0.18, 0.23]\n",
      "hamming:                      0.17 (0.00) [0.16, 0.17]\n",
      "subset_accuracy:              0.07 (0.01) [0.05, 0.09]\n"
     ]
    }
   ],
   "source": [
    "clf = HistGradientBoostingClassifier(random_state=0)\n",
    "meta_clf = MultiOutputClassifier(clf, n_jobs=-1).fit(X_pca_train,Y_train)\n",
    "compute_scores(meta_clf, X_pca_test, Y_test, boot_iter)"
   ]
  },
  {
   "cell_type": "markdown",
   "metadata": {},
   "source": [
    "### 2.1.4. Original features (standardized)"
   ]
  },
  {
   "cell_type": "markdown",
   "metadata": {},
   "source": [
    "#### 2.1.4.1. Logistic regression"
   ]
  },
  {
   "cell_type": "code",
   "execution_count": 41,
   "metadata": {},
   "outputs": [
    {
     "name": "stdout",
     "output_type": "stream",
     "text": [
      "Mean scores with SE and 95% confidence intervals:\n",
      "\n",
      "auprc_macro:                  0.19 (0.01) [0.18, 0.21]\n",
      "auprc_weighted:               0.29 (0.01) [0.27, 0.32]\n",
      "auroc_macro:                  0.56 (0.01) [0.53, 0.58]\n",
      "auroc_weighted:               0.55 (0.01) [0.52, 0.57]\n",
      "brier_macro:                  0.21 (0.00) [0.20, 0.22]\n",
      "brier_weighted:               0.04 (0.00) [0.04, 0.04]\n",
      "balanced_accuracy_macro:      0.52 (0.01) [0.51, 0.54]\n",
      "balanced_accuracy_weighted:   0.08 (0.00) [0.08, 0.08]\n",
      "f1_micro:                     0.29 (0.01) [0.27, 0.31]\n",
      "hamming:                      0.25 (0.01) [0.24, 0.26]\n",
      "subset_accuracy:              0.03 (0.01) [0.02, 0.05]\n"
     ]
    }
   ],
   "source": [
    "clf = LogisticRegression(max_iter=10000, random_state=0)\n",
    "meta_clf = MultiOutputClassifier(clf).fit(X_train, Y_train)\n",
    "compute_scores(meta_clf, X_test, Y_test, boot_iter)"
   ]
  },
  {
   "cell_type": "markdown",
   "metadata": {},
   "source": [
    "#### 2.1.4.2. SVM"
   ]
  },
  {
   "cell_type": "code",
   "execution_count": 42,
   "metadata": {},
   "outputs": [
    {
     "name": "stdout",
     "output_type": "stream",
     "text": [
      "Mean scores with SE and 95% confidence intervals:\n",
      "\n",
      "auprc_macro:                  0.23 (0.01) [0.21, 0.24]\n",
      "auprc_weighted:               0.32 (0.01) [0.31, 0.33]\n",
      "auroc_macro:                  0.61 (0.01) [0.60, 0.63]\n",
      "auroc_weighted:               0.60 (0.01) [0.59, 0.61]\n",
      "brier_macro:                  0.11 (0.00) [0.11, 0.11]\n",
      "brier_weighted:               0.02 (0.00) [0.02, 0.02]\n",
      "balanced_accuracy_macro:      0.55 (0.01) [0.54, 0.56]\n",
      "balanced_accuracy_weighted:   0.08 (0.00) [0.08, 0.09]\n",
      "f1_micro:                     0.35 (0.01) [0.33, 0.36]\n",
      "hamming:                      0.21 (0.00) [0.20, 0.21]\n",
      "subset_accuracy:              0.04 (0.01) [0.03, 0.07]\n"
     ]
    }
   ],
   "source": [
    "clf = SVC(kernel='rbf', gamma='scale', probability=True, random_state=0)\n",
    "meta_clf = MultiOutputClassifier(clf, n_jobs=-1).fit(X_train, Y_train)\n",
    "compute_scores(meta_clf, X_test, Y_test, 10)"
   ]
  },
  {
   "cell_type": "markdown",
   "metadata": {},
   "source": [
    "#### 2.1.4.3. Histogram-based Gradient Boosting"
   ]
  },
  {
   "cell_type": "code",
   "execution_count": 13,
   "metadata": {},
   "outputs": [
    {
     "name": "stdout",
     "output_type": "stream",
     "text": [
      "Mean scores with SE and 95% confidence intervals:\n",
      "\n",
      "auprc_macro:                  0.23 (0.01) [0.20, 0.25]\n",
      "auprc_weighted:               0.33 (0.01) [0.30, 0.35]\n",
      "auroc_macro:                  0.61 (0.01) [0.58, 0.63]\n",
      "auroc_weighted:               0.59 (0.01) [0.57, 0.61]\n",
      "brier_macro:                  0.13 (0.00) [0.12, 0.13]\n",
      "brier_weighted:               0.03 (0.00) [0.03, 0.03]\n",
      "balanced_accuracy_macro:      0.51 (0.00) [0.50, 0.52]\n",
      "balanced_accuracy_weighted:   0.08 (0.00) [0.08, 0.08]\n",
      "f1_micro:                     0.17 (0.01) [0.15, 0.20]\n",
      "hamming:                      0.15 (0.00) [0.14, 0.16]\n",
      "subset_accuracy:              0.12 (0.01) [0.09, 0.14]\n"
     ]
    }
   ],
   "source": [
    "clf = HistGradientBoostingClassifier(random_state=0)\n",
    "meta_clf = MultiOutputClassifier(clf).fit(X_train, Y_train) # n_jobs=-1\n",
    "compute_scores(meta_clf, X_test, Y_test, boot_iter)"
   ]
  },
  {
   "cell_type": "markdown",
   "metadata": {},
   "source": [
    "#### 2.1.4.4. MLP"
   ]
  },
  {
   "cell_type": "code",
   "execution_count": 15,
   "metadata": {},
   "outputs": [
    {
     "name": "stdout",
     "output_type": "stream",
     "text": [
      "Mean scores with SE and 95% confidence intervals:\n",
      "\n",
      "auprc_macro:                  0.20 (0.01) [0.18, 0.22]\n",
      "auprc_weighted:               0.30 (0.01) [0.28, 0.33]\n",
      "auroc_macro:                  0.57 (0.01) [0.55, 0.60]\n",
      "auroc_weighted:               0.56 (0.01) [0.53, 0.58]\n",
      "brier_macro:                  0.16 (0.00) [0.15, 0.16]\n",
      "brier_weighted:               0.04 (0.00) [0.03, 0.04]\n",
      "balanced_accuracy_macro:      0.52 (0.01) [0.51, 0.53]\n",
      "balanced_accuracy_weighted:   0.08 (0.00) [0.08, 0.08]\n",
      "f1_micro:                     0.25 (0.01) [0.23, 0.28]\n",
      "hamming:                      0.18 (0.00) [0.17, 0.19]\n",
      "subset_accuracy:              0.06 (0.01) [0.04, 0.08]\n"
     ]
    }
   ],
   "source": [
    "clf = MLPClassifier(random_state=0)\n",
    "meta_clf = MultiOutputClassifier(clf).fit(X_train, Y_train) # n_jobs=-1\n",
    "compute_scores(meta_clf, X_test, Y_test, boot_iter)"
   ]
  },
  {
   "cell_type": "markdown",
   "metadata": {},
   "source": [
    "## 2.2. ClassifierChain (ordered by frequency) \n",
    "Evaluate classification models wrapped in meta estimator ClassifierChain with respect to multi-label performance metrics"
   ]
  },
  {
   "cell_type": "code",
   "execution_count": 16,
   "metadata": {},
   "outputs": [],
   "source": [
    "by_freq = label_freq_sorted(Y_train)"
   ]
  },
  {
   "cell_type": "markdown",
   "metadata": {},
   "source": [
    "### 2.2.1. Logistic regression"
   ]
  },
  {
   "cell_type": "code",
   "execution_count": 17,
   "metadata": {},
   "outputs": [
    {
     "name": "stdout",
     "output_type": "stream",
     "text": [
      "Mean scores with SE and 95% confidence intervals:\n",
      "\n",
      "auprc_macro:                  0.20 (0.01) [0.18, 0.21]\n",
      "auprc_weighted:               0.30 (0.01) [0.27, 0.32]\n",
      "auroc_macro:                  0.57 (0.01) [0.54, 0.59]\n",
      "auroc_weighted:               0.55 (0.01) [0.53, 0.58]\n",
      "brier_macro:                  0.18 (0.00) [0.17, 0.19]\n",
      "brier_weighted:               0.04 (0.00) [0.04, 0.04]\n",
      "balanced_accuracy_macro:      0.52 (0.01) [0.51, 0.54]\n",
      "balanced_accuracy_weighted:   0.08 (0.00) [0.08, 0.08]\n",
      "f1_micro:                     0.29 (0.01) [0.27, 0.32]\n",
      "hamming:                      0.21 (0.01) [0.20, 0.22]\n",
      "subset_accuracy:              0.06 (0.01) [0.04, 0.07]\n"
     ]
    }
   ],
   "source": [
    "clf = LogisticRegression(max_iter=10000, random_state=0)\n",
    "meta_clf = ClassifierChain(clf, order=by_freq, random_state=0).fit(X_train, Y_train)\n",
    "compute_scores(meta_clf, X_test, Y_test, boot_iter, chain=True)"
   ]
  },
  {
   "cell_type": "markdown",
   "metadata": {},
   "source": [
    "### 2.2.2. Histogram-based Gradient Boosting"
   ]
  },
  {
   "cell_type": "code",
   "execution_count": 18,
   "metadata": {},
   "outputs": [
    {
     "name": "stdout",
     "output_type": "stream",
     "text": [
      "Mean scores with SE and 95% confidence intervals:\n",
      "\n",
      "auprc_macro:                  0.23 (0.01) [0.21, 0.25]\n",
      "auprc_weighted:               0.33 (0.01) [0.30, 0.36]\n",
      "auroc_macro:                  0.61 (0.01) [0.59, 0.64]\n",
      "auroc_weighted:               0.60 (0.01) [0.57, 0.62]\n",
      "brier_macro:                  0.13 (0.00) [0.12, 0.13]\n",
      "brier_weighted:               0.03 (0.00) [0.03, 0.03]\n",
      "balanced_accuracy_macro:      0.52 (0.00) [0.51, 0.52]\n",
      "balanced_accuracy_weighted:   0.08 (0.00) [0.08, 0.08]\n",
      "f1_micro:                     0.20 (0.01) [0.17, 0.23]\n",
      "hamming:                      0.15 (0.00) [0.15, 0.16]\n",
      "subset_accuracy:              0.11 (0.01) [0.09, 0.14]\n"
     ]
    }
   ],
   "source": [
    "clf = HistGradientBoostingClassifier(random_state=0)\n",
    "meta_clf = ClassifierChain(clf, order=by_freq, random_state=0).fit(X_train, Y_train)\n",
    "compute_scores(meta_clf, X_test, Y_test, boot_iter, chain=True)"
   ]
  },
  {
   "cell_type": "markdown",
   "metadata": {},
   "source": [
    "## 2.3. ClassifierChain (random order) \n",
    "Evaluate classification models wrapped in meta estimator ClassifierChain with respect to multi-label performance metrics"
   ]
  },
  {
   "cell_type": "markdown",
   "metadata": {},
   "source": [
    "### 2.3.1. Logistic regression"
   ]
  },
  {
   "cell_type": "code",
   "execution_count": 19,
   "metadata": {},
   "outputs": [
    {
     "name": "stdout",
     "output_type": "stream",
     "text": [
      "Mean scores with SE and 95% confidence intervals:\n",
      "\n",
      "auprc_macro:                  0.19 (0.01) [0.18, 0.21]\n",
      "auprc_weighted:               0.29 (0.01) [0.27, 0.32]\n",
      "auroc_macro:                  0.56 (0.01) [0.54, 0.58]\n",
      "auroc_weighted:               0.55 (0.01) [0.53, 0.57]\n",
      "brier_macro:                  0.18 (0.00) [0.17, 0.19]\n",
      "brier_weighted:               0.04 (0.00) [0.04, 0.04]\n",
      "balanced_accuracy_macro:      0.52 (0.01) [0.51, 0.54]\n",
      "balanced_accuracy_weighted:   0.08 (0.00) [0.08, 0.08]\n",
      "f1_micro:                     0.28 (0.01) [0.26, 0.31]\n",
      "hamming:                      0.21 (0.01) [0.21, 0.22]\n",
      "subset_accuracy:              0.05 (0.01) [0.03, 0.07]\n"
     ]
    }
   ],
   "source": [
    "clf = LogisticRegression(max_iter=10000, random_state=0)\n",
    "meta_clf = ClassifierChain(clf, random_state=0).fit(X_train, Y_train)\n",
    "compute_scores(meta_clf, X_test, Y_test, boot_iter, chain=True)"
   ]
  },
  {
   "cell_type": "markdown",
   "metadata": {},
   "source": [
    "### 2.3.2. Histogram-based Gradient Boosting"
   ]
  },
  {
   "cell_type": "code",
   "execution_count": 20,
   "metadata": {},
   "outputs": [
    {
     "name": "stdout",
     "output_type": "stream",
     "text": [
      "Mean scores with SE and 95% confidence intervals:\n",
      "\n",
      "auprc_macro:                  0.23 (0.01) [0.21, 0.25]\n",
      "auprc_weighted:               0.33 (0.01) [0.30, 0.35]\n",
      "auroc_macro:                  0.61 (0.01) [0.59, 0.63]\n",
      "auroc_weighted:               0.60 (0.01) [0.58, 0.62]\n",
      "brier_macro:                  0.13 (0.00) [0.12, 0.13]\n",
      "brier_weighted:               0.03 (0.00) [0.03, 0.03]\n",
      "balanced_accuracy_macro:      0.51 (0.00) [0.51, 0.52]\n",
      "balanced_accuracy_weighted:   0.08 (0.00) [0.08, 0.08]\n",
      "f1_micro:                     0.19 (0.01) [0.17, 0.22]\n",
      "hamming:                      0.15 (0.00) [0.15, 0.16]\n",
      "subset_accuracy:              0.11 (0.01) [0.09, 0.14]\n"
     ]
    }
   ],
   "source": [
    "clf = HistGradientBoostingClassifier(random_state=0)\n",
    "meta_clf = ClassifierChain(clf, random_state=0).fit(X_train, Y_train)\n",
    "compute_scores(meta_clf, X_test, Y_test, boot_iter, chain=True)"
   ]
  },
  {
   "cell_type": "markdown",
   "metadata": {},
   "source": [
    "# 3. Use oversampled dataset"
   ]
  },
  {
   "cell_type": "code",
   "execution_count": 21,
   "metadata": {},
   "outputs": [
    {
     "name": "stdout",
     "output_type": "stream",
     "text": [
      "Mean imbalance ratio: 1.6092872677464145\n"
     ]
    },
    {
     "data": {
      "text/html": [
       "<div>\n",
       "<style scoped>\n",
       "    .dataframe tbody tr th:only-of-type {\n",
       "        vertical-align: middle;\n",
       "    }\n",
       "\n",
       "    .dataframe tbody tr th {\n",
       "        vertical-align: top;\n",
       "    }\n",
       "\n",
       "    .dataframe thead th {\n",
       "        text-align: right;\n",
       "    }\n",
       "</style>\n",
       "<table border=\"1\" class=\"dataframe\">\n",
       "  <thead>\n",
       "    <tr style=\"text-align: right;\">\n",
       "      <th></th>\n",
       "      <th>Absolute frequency</th>\n",
       "      <th>Relative frequency</th>\n",
       "      <th>Imbalance ratio</th>\n",
       "    </tr>\n",
       "  </thead>\n",
       "  <tbody>\n",
       "    <tr>\n",
       "      <th>Trauma_And_Stress_RelatedDisorders</th>\n",
       "      <td>2580</td>\n",
       "      <td>0.116174</td>\n",
       "      <td>1.923256</td>\n",
       "    </tr>\n",
       "    <tr>\n",
       "      <th>DepressiveDisorders</th>\n",
       "      <td>3170</td>\n",
       "      <td>0.142741</td>\n",
       "      <td>1.565300</td>\n",
       "    </tr>\n",
       "    <tr>\n",
       "      <th>Attention_Deficit_HyperactivityDisorder</th>\n",
       "      <td>4582</td>\n",
       "      <td>0.206322</td>\n",
       "      <td>1.082933</td>\n",
       "    </tr>\n",
       "    <tr>\n",
       "      <th>MotorDisorder</th>\n",
       "      <td>3134</td>\n",
       "      <td>0.141120</td>\n",
       "      <td>1.583280</td>\n",
       "    </tr>\n",
       "    <tr>\n",
       "      <th>AutismSpectrumDisorder</th>\n",
       "      <td>3689</td>\n",
       "      <td>0.166111</td>\n",
       "      <td>1.345080</td>\n",
       "    </tr>\n",
       "    <tr>\n",
       "      <th>CommunicationDisorder</th>\n",
       "      <td>4431</td>\n",
       "      <td>0.199523</td>\n",
       "      <td>1.119838</td>\n",
       "    </tr>\n",
       "    <tr>\n",
       "      <th>OtherDisorders</th>\n",
       "      <td>2320</td>\n",
       "      <td>0.104467</td>\n",
       "      <td>2.138793</td>\n",
       "    </tr>\n",
       "    <tr>\n",
       "      <th>SpecificLearningDisorder</th>\n",
       "      <td>4962</td>\n",
       "      <td>0.223433</td>\n",
       "      <td>1.000000</td>\n",
       "    </tr>\n",
       "    <tr>\n",
       "      <th>Obsessive_Compulsive_And_RelatedDisorders</th>\n",
       "      <td>2668</td>\n",
       "      <td>0.120137</td>\n",
       "      <td>1.859820</td>\n",
       "    </tr>\n",
       "    <tr>\n",
       "      <th>Disruptive</th>\n",
       "      <td>2801</td>\n",
       "      <td>0.126126</td>\n",
       "      <td>1.771510</td>\n",
       "    </tr>\n",
       "    <tr>\n",
       "      <th>IntellectualDisability</th>\n",
       "      <td>2101</td>\n",
       "      <td>0.094606</td>\n",
       "      <td>2.361733</td>\n",
       "    </tr>\n",
       "    <tr>\n",
       "      <th>EliminationDisorder</th>\n",
       "      <td>2887</td>\n",
       "      <td>0.129998</td>\n",
       "      <td>1.718739</td>\n",
       "    </tr>\n",
       "    <tr>\n",
       "      <th>AnxietyDisorders</th>\n",
       "      <td>3421</td>\n",
       "      <td>0.154044</td>\n",
       "      <td>1.450453</td>\n",
       "    </tr>\n",
       "  </tbody>\n",
       "</table>\n",
       "</div>"
      ],
      "text/plain": [
       "                                           Absolute frequency  \\\n",
       "Trauma_And_Stress_RelatedDisorders                       2580   \n",
       "DepressiveDisorders                                      3170   \n",
       "Attention_Deficit_HyperactivityDisorder                  4582   \n",
       "MotorDisorder                                            3134   \n",
       "AutismSpectrumDisorder                                   3689   \n",
       "CommunicationDisorder                                    4431   \n",
       "OtherDisorders                                           2320   \n",
       "SpecificLearningDisorder                                 4962   \n",
       "Obsessive_Compulsive_And_RelatedDisorders                2668   \n",
       "Disruptive                                               2801   \n",
       "IntellectualDisability                                   2101   \n",
       "EliminationDisorder                                      2887   \n",
       "AnxietyDisorders                                         3421   \n",
       "\n",
       "                                           Relative frequency  Imbalance ratio  \n",
       "Trauma_And_Stress_RelatedDisorders                   0.116174         1.923256  \n",
       "DepressiveDisorders                                  0.142741         1.565300  \n",
       "Attention_Deficit_HyperactivityDisorder              0.206322         1.082933  \n",
       "MotorDisorder                                        0.141120         1.583280  \n",
       "AutismSpectrumDisorder                               0.166111         1.345080  \n",
       "CommunicationDisorder                                0.199523         1.119838  \n",
       "OtherDisorders                                       0.104467         2.138793  \n",
       "SpecificLearningDisorder                             0.223433         1.000000  \n",
       "Obsessive_Compulsive_And_RelatedDisorders            0.120137         1.859820  \n",
       "Disruptive                                           0.126126         1.771510  \n",
       "IntellectualDisability                               0.094606         2.361733  \n",
       "EliminationDisorder                                  0.129998         1.718739  \n",
       "AnxietyDisorders                                     0.154044         1.450453  "
      ]
     },
     "execution_count": 21,
     "metadata": {},
     "output_type": "execute_result"
    }
   ],
   "source": [
    "# Resample data (undersampling)\n",
    "X_over, Y_over = generate_oversampled_set(X, Y)\n",
    "label_stats, mean_ir = generate_label_stats(Y_over, True)\n",
    "print(f\"Mean imbalance ratio: {mean_ir}\")\n",
    "label_stats"
   ]
  },
  {
   "cell_type": "code",
   "execution_count": 22,
   "metadata": {},
   "outputs": [
    {
     "name": "stdout",
     "output_type": "stream",
     "text": [
      "Number of samples in training set: 16656\n",
      "Number of samples in test set: 5552\n"
     ]
    }
   ],
   "source": [
    "# Split dataset into train and test (holdout) set\n",
    "X_train, X_test, Y_train, Y_test = train_test_split(X_over, Y_over, test_size=0.25, random_state=0)\n",
    "\n",
    "# Confounder \n",
    "C_train, C_test = C.loc[X_train.index], C.loc[X_test.index]\n",
    "\n",
    "# PCA features\n",
    "X_pca = pca_transform(F)\n",
    "X_pca_train, X_pca_test = X_pca.loc[X_train.index], X_pca.loc[X_test.index]\n",
    "\n",
    "print(f\"Number of samples in training set: {len(X_train)}\")\n",
    "print(f\"Number of samples in test set: {len(X_test)}\")"
   ]
  },
  {
   "cell_type": "markdown",
   "metadata": {},
   "source": [
    "## 3.1. MultiOutputClassifier\n",
    "Evaluate classification models wrapped in meta estimator MultiOutputClassifier with respect to multi-label performance metrics"
   ]
  },
  {
   "cell_type": "markdown",
   "metadata": {},
   "source": [
    "### 3.1.1. Dummy estimators"
   ]
  },
  {
   "cell_type": "markdown",
   "metadata": {},
   "source": [
    "#### 3.1.1.1. Always zero baseline estimator"
   ]
  },
  {
   "cell_type": "code",
   "execution_count": 23,
   "metadata": {},
   "outputs": [
    {
     "name": "stdout",
     "output_type": "stream",
     "text": [
      "Mean scores with SE and 95% confidence intervals:\n",
      "\n",
      "auprc_macro:                  0.15 (0.00) [0.15, 0.15]\n",
      "auprc_weighted:               0.16 (0.00) [0.16, 0.17]\n",
      "auroc_macro:                  0.50 (0.00) [0.50, 0.50]\n",
      "auroc_weighted:               0.50 (0.00) [0.50, 0.50]\n",
      "brier_macro:                  0.15 (0.00) [0.15, 0.15]\n",
      "brier_weighted:               0.02 (0.00) [0.02, 0.02]\n",
      "balanced_accuracy_macro:      0.50 (0.00) [0.50, 0.50]\n",
      "balanced_accuracy_weighted:   0.07 (0.00) [0.07, 0.07]\n",
      "f1_micro:                     0.00 (0.00) [0.00, 0.00]\n",
      "hamming:                      0.15 (0.00) [0.15, 0.15]\n",
      "subset_accuracy:              0.01 (0.00) [0.01, 0.02]\n"
     ]
    }
   ],
   "source": [
    "clf = DummyClassifier(strategy='constant', constant=0 ,random_state=0)\n",
    "meta_clf = MultiOutputClassifier(clf).fit(X_train, Y_train)\n",
    "compute_scores(meta_clf, X_test, Y_test, boot_iter)"
   ]
  },
  {
   "cell_type": "markdown",
   "metadata": {},
   "source": [
    "#### 3.1.1.2. Label proportion baseline estimator"
   ]
  },
  {
   "cell_type": "code",
   "execution_count": 24,
   "metadata": {},
   "outputs": [
    {
     "name": "stdout",
     "output_type": "stream",
     "text": [
      "Mean scores with SE and 95% confidence intervals:\n",
      "\n",
      "auprc_macro:                  0.15 (0.00) [0.15, 0.15]\n",
      "auprc_weighted:               0.16 (0.00) [0.16, 0.17]\n",
      "auroc_macro:                  0.50 (0.00) [0.50, 0.50]\n",
      "auroc_weighted:               0.50 (0.00) [0.50, 0.50]\n",
      "brier_macro:                  0.13 (0.00) [0.12, 0.13]\n",
      "brier_weighted:               0.02 (0.00) [0.02, 0.02]\n",
      "balanced_accuracy_macro:      0.50 (0.00) [0.50, 0.50]\n",
      "balanced_accuracy_weighted:   0.07 (0.00) [0.07, 0.07]\n",
      "f1_micro:                     0.00 (0.00) [0.00, 0.00]\n",
      "hamming:                      0.15 (0.00) [0.15, 0.15]\n",
      "subset_accuracy:              0.01 (0.00) [0.01, 0.02]\n"
     ]
    }
   ],
   "source": [
    "clf = DummyClassifier(strategy='prior', random_state=0)\n",
    "meta_clf = MultiOutputClassifier(clf).fit(X_train, Y_train)\n",
    "compute_scores(meta_clf, X_test, Y_test, boot_iter)"
   ]
  },
  {
   "cell_type": "markdown",
   "metadata": {},
   "source": [
    "### 3.1.2. Confounders as features"
   ]
  },
  {
   "cell_type": "markdown",
   "metadata": {},
   "source": [
    "#### 3.1.1.1. Logistic regression"
   ]
  },
  {
   "cell_type": "code",
   "execution_count": 25,
   "metadata": {},
   "outputs": [
    {
     "name": "stdout",
     "output_type": "stream",
     "text": [
      "Mean scores with SE and 95% confidence intervals:\n",
      "\n",
      "auprc_macro:                  0.20 (0.00) [0.19, 0.20]\n",
      "auprc_weighted:               0.21 (0.00) [0.20, 0.21]\n",
      "auroc_macro:                  0.58 (0.00) [0.58, 0.59]\n",
      "auroc_weighted:               0.57 (0.00) [0.57, 0.58]\n",
      "brier_macro:                  0.12 (0.00) [0.12, 0.13]\n",
      "brier_weighted:               0.02 (0.00) [0.02, 0.02]\n",
      "balanced_accuracy_macro:      0.50 (0.00) [0.50, 0.50]\n",
      "balanced_accuracy_weighted:   0.07 (0.00) [0.07, 0.07]\n",
      "f1_micro:                     0.00 (0.00) [0.00, 0.00]\n",
      "hamming:                      0.15 (0.00) [0.15, 0.15]\n",
      "subset_accuracy:              0.01 (0.00) [0.01, 0.02]\n"
     ]
    }
   ],
   "source": [
    "clf = LogisticRegression(max_iter=10000, random_state=0)\n",
    "meta_clf = MultiOutputClassifier(clf).fit(C_train, Y_train)\n",
    "compute_scores(meta_clf, C_test, Y_test, boot_iter)"
   ]
  },
  {
   "cell_type": "markdown",
   "metadata": {},
   "source": [
    "#### 3.1.1.1. Histogram-based Gradient Boosting"
   ]
  },
  {
   "cell_type": "code",
   "execution_count": 26,
   "metadata": {},
   "outputs": [
    {
     "name": "stdout",
     "output_type": "stream",
     "text": [
      "Mean scores with SE and 95% confidence intervals:\n",
      "\n",
      "auprc_macro:                  0.84 (0.00) [0.84, 0.85]\n",
      "auprc_weighted:               0.83 (0.00) [0.82, 0.84]\n",
      "auroc_macro:                  0.95 (0.00) [0.94, 0.95]\n",
      "auroc_weighted:               0.94 (0.00) [0.94, 0.94]\n",
      "brier_macro:                  0.05 (0.00) [0.05, 0.05]\n",
      "brier_weighted:               0.01 (0.00) [0.01, 0.01]\n",
      "balanced_accuracy_macro:      0.84 (0.00) [0.83, 0.84]\n",
      "balanced_accuracy_weighted:   0.12 (0.00) [0.12, 0.12]\n",
      "f1_micro:                     0.75 (0.01) [0.74, 0.76]\n",
      "hamming:                      0.06 (0.00) [0.06, 0.07]\n",
      "subset_accuracy:              0.65 (0.01) [0.64, 0.66]\n"
     ]
    }
   ],
   "source": [
    "clf = HistGradientBoostingClassifier(random_state=0)\n",
    "meta_clf = MultiOutputClassifier(clf, n_jobs=-1).fit(C_train,Y_train)\n",
    "compute_scores(meta_clf, C_test, Y_test, boot_iter)"
   ]
  },
  {
   "cell_type": "markdown",
   "metadata": {},
   "source": [
    "### 3.1.3. PCA-projected data (top-10 components) as features "
   ]
  },
  {
   "cell_type": "markdown",
   "metadata": {},
   "source": [
    "#### 3.1.1.1. Logistic regression"
   ]
  },
  {
   "cell_type": "code",
   "execution_count": 27,
   "metadata": {},
   "outputs": [
    {
     "name": "stdout",
     "output_type": "stream",
     "text": [
      "Mean scores with SE and 95% confidence intervals:\n",
      "\n",
      "auprc_macro:                  0.28 (0.01) [0.27, 0.29]\n",
      "auprc_weighted:               0.28 (0.01) [0.27, 0.29]\n",
      "auroc_macro:                  0.65 (0.00) [0.65, 0.66]\n",
      "auroc_weighted:               0.64 (0.00) [0.63, 0.65]\n",
      "brier_macro:                  0.12 (0.00) [0.12, 0.12]\n",
      "brier_weighted:               0.02 (0.00) [0.02, 0.02]\n",
      "balanced_accuracy_macro:      0.51 (0.00) [0.51, 0.51]\n",
      "balanced_accuracy_weighted:   0.08 (0.00) [0.08, 0.08]\n",
      "f1_micro:                     0.04 (0.00) [0.04, 0.05]\n",
      "hamming:                      0.15 (0.00) [0.15, 0.15]\n",
      "subset_accuracy:              0.02 (0.00) [0.02, 0.02]\n"
     ]
    }
   ],
   "source": [
    "clf = LogisticRegression(max_iter=10000, random_state=0)\n",
    "meta_clf = MultiOutputClassifier(clf).fit(X_pca_train, Y_train)\n",
    "compute_scores(meta_clf, X_pca_test, Y_test, boot_iter)"
   ]
  },
  {
   "cell_type": "markdown",
   "metadata": {},
   "source": [
    "#### 3.1.1.1. Histogram-based Gradient Boosting"
   ]
  },
  {
   "cell_type": "code",
   "execution_count": 29,
   "metadata": {},
   "outputs": [
    {
     "name": "stdout",
     "output_type": "stream",
     "text": [
      "Mean scores with SE and 95% confidence intervals:\n",
      "\n",
      "auprc_macro:                  0.97 (0.00) [0.97, 0.97]\n",
      "auprc_weighted:               0.97 (0.00) [0.96, 0.97]\n",
      "auroc_macro:                  0.99 (0.00) [0.99, 0.99]\n",
      "auroc_weighted:               0.99 (0.00) [0.99, 0.99]\n",
      "brier_macro:                  0.02 (0.00) [0.02, 0.02]\n",
      "brier_weighted:               0.00 (0.00) [0.00, 0.00]\n",
      "balanced_accuracy_macro:      0.94 (0.00) [0.93, 0.94]\n",
      "balanced_accuracy_weighted:   0.14 (0.00) [0.14, 0.14]\n",
      "f1_micro:                     0.92 (0.00) [0.91, 0.92]\n",
      "hamming:                      0.02 (0.00) [0.02, 0.02]\n",
      "subset_accuracy:              0.83 (0.00) [0.82, 0.84]\n"
     ]
    }
   ],
   "source": [
    "clf = HistGradientBoostingClassifier(random_state=0)\n",
    "meta_clf = MultiOutputClassifier(clf).fit(X_pca_train,Y_train) # n_jobs=-1\n",
    "compute_scores(meta_clf, X_pca_test, Y_test, boot_iter)"
   ]
  },
  {
   "cell_type": "markdown",
   "metadata": {},
   "source": [
    "### 3.1.4. Original features (standardized)"
   ]
  },
  {
   "cell_type": "markdown",
   "metadata": {},
   "source": [
    "#### 3.1.4.1. Logistic regression"
   ]
  },
  {
   "cell_type": "code",
   "execution_count": 30,
   "metadata": {},
   "outputs": [
    {
     "name": "stdout",
     "output_type": "stream",
     "text": [
      "Mean scores with SE and 95% confidence intervals:\n",
      "\n",
      "auprc_macro:                  0.88 (0.00) [0.87, 0.89]\n",
      "auprc_weighted:               0.87 (0.00) [0.86, 0.88]\n",
      "auroc_macro:                  0.96 (0.00) [0.96, 0.96]\n",
      "auroc_weighted:               0.96 (0.00) [0.95, 0.96]\n",
      "brier_macro:                  0.03 (0.00) [0.03, 0.03]\n",
      "brier_weighted:               0.01 (0.00) [0.01, 0.01]\n",
      "balanced_accuracy_macro:      0.92 (0.00) [0.91, 0.92]\n",
      "balanced_accuracy_weighted:   0.14 (0.00) [0.14, 0.14]\n",
      "f1_micro:                     0.86 (0.00) [0.86, 0.87]\n",
      "hamming:                      0.04 (0.00) [0.04, 0.04]\n",
      "subset_accuracy:              0.76 (0.01) [0.75, 0.77]\n"
     ]
    }
   ],
   "source": [
    "clf = LogisticRegression(max_iter=10000, random_state=0)\n",
    "meta_clf = MultiOutputClassifier(clf).fit(X_train, Y_train) # n_jobs=-1\n",
    "compute_scores(meta_clf, X_test, Y_test, boot_iter)"
   ]
  },
  {
   "cell_type": "markdown",
   "metadata": {},
   "source": [
    "#### 3.1.4.2. SVM"
   ]
  },
  {
   "cell_type": "code",
   "execution_count": null,
   "metadata": {},
   "outputs": [],
   "source": [
    "clf = SVC(class_weight='balanced', kernel='rbf', gamma='scale', probability=True, random_state=0)\n",
    "meta_clf = MultiOutputClassifier(clf, n_jobs=-1).fit(X_train, Y_train)\n",
    "compute_scores(meta_clf, X_test, Y_test, 10)"
   ]
  },
  {
   "cell_type": "markdown",
   "metadata": {},
   "source": [
    "#### 3.1.4.3. Histogram-based Gradient Boosting"
   ]
  },
  {
   "cell_type": "code",
   "execution_count": null,
   "metadata": {},
   "outputs": [
    {
     "name": "stdout",
     "output_type": "stream",
     "text": [
      "Mean scores with SE and 95% confidence intervals:\n",
      "\n",
      "auprc_macro:                  0.23 (0.01) [0.20, 0.25]\n",
      "auprc_weighted:               0.33 (0.01) [0.30, 0.35]\n",
      "auroc_macro:                  0.61 (0.01) [0.58, 0.63]\n",
      "auroc_weighted:               0.59 (0.01) [0.57, 0.61]\n",
      "brier_macro:                  0.13 (0.00) [0.12, 0.13]\n",
      "brier_weighted:               0.03 (0.00) [0.03, 0.03]\n",
      "balanced_accuracy_macro:      0.51 (0.00) [0.50, 0.52]\n",
      "balanced_accuracy_weighted:   0.08 (0.00) [0.08, 0.08]\n",
      "f1_micro:                     0.17 (0.01) [0.15, 0.20]\n",
      "hamming:                      0.15 (0.00) [0.14, 0.16]\n",
      "subset_accuracy:              0.12 (0.01) [0.09, 0.14]\n"
     ]
    }
   ],
   "source": [
    "clf = HistGradientBoostingClassifier(random_state=0)\n",
    "meta_clf = MultiOutputClassifier(clf).fit(X_train, Y_train) # n_jobs=-1\n",
    "compute_scores(meta_clf, X_test, Y_test, boot_iter)"
   ]
  },
  {
   "cell_type": "markdown",
   "metadata": {},
   "source": [
    "#### 3.1.4.4. MLP"
   ]
  },
  {
   "cell_type": "code",
   "execution_count": null,
   "metadata": {},
   "outputs": [
    {
     "name": "stdout",
     "output_type": "stream",
     "text": [
      "Mean scores with SE and 95% confidence intervals:\n",
      "\n",
      "auprc_macro:                  0.20 (0.01) [0.18, 0.22]\n",
      "auprc_weighted:               0.30 (0.01) [0.28, 0.33]\n",
      "auroc_macro:                  0.57 (0.01) [0.55, 0.60]\n",
      "auroc_weighted:               0.56 (0.01) [0.53, 0.58]\n",
      "brier_macro:                  0.16 (0.00) [0.15, 0.16]\n",
      "brier_weighted:               0.04 (0.00) [0.03, 0.04]\n",
      "balanced_accuracy_macro:      0.52 (0.01) [0.51, 0.53]\n",
      "balanced_accuracy_weighted:   0.08 (0.00) [0.08, 0.08]\n",
      "f1_micro:                     0.25 (0.01) [0.23, 0.28]\n",
      "hamming:                      0.18 (0.00) [0.17, 0.19]\n",
      "subset_accuracy:              0.06 (0.01) [0.04, 0.08]\n"
     ]
    }
   ],
   "source": [
    "clf = MLPClassifier(random_state=0)\n",
    "meta_clf = MultiOutputClassifier(clf).fit(X_train, Y_train) # n_jobs=-1\n",
    "compute_scores(meta_clf, X_test, Y_test, boot_iter)"
   ]
  },
  {
   "cell_type": "markdown",
   "metadata": {},
   "source": [
    "## 3.2. ClassifierChain (ordered by frequency) \n",
    "Evaluate classification models wrapped in meta estimator ClassifierChain with respect to multi-label performance metrics"
   ]
  },
  {
   "cell_type": "code",
   "execution_count": null,
   "metadata": {},
   "outputs": [],
   "source": [
    "by_freq = label_freq_sorted(Y_train)"
   ]
  },
  {
   "cell_type": "markdown",
   "metadata": {},
   "source": [
    "### 3.2.1. Logistic regression"
   ]
  },
  {
   "cell_type": "code",
   "execution_count": null,
   "metadata": {},
   "outputs": [
    {
     "name": "stdout",
     "output_type": "stream",
     "text": [
      "Mean scores with SE and 95% confidence intervals:\n",
      "\n",
      "auprc_macro:                  0.20 (0.01) [0.18, 0.21]\n",
      "auprc_weighted:               0.30 (0.01) [0.27, 0.32]\n",
      "auroc_macro:                  0.57 (0.01) [0.54, 0.59]\n",
      "auroc_weighted:               0.55 (0.01) [0.53, 0.58]\n",
      "brier_macro:                  0.18 (0.00) [0.17, 0.19]\n",
      "brier_weighted:               0.04 (0.00) [0.04, 0.04]\n",
      "balanced_accuracy_macro:      0.52 (0.01) [0.51, 0.54]\n",
      "balanced_accuracy_weighted:   0.08 (0.00) [0.08, 0.08]\n",
      "f1_micro:                     0.29 (0.01) [0.27, 0.32]\n",
      "hamming:                      0.21 (0.01) [0.20, 0.22]\n",
      "subset_accuracy:              0.06 (0.01) [0.04, 0.07]\n"
     ]
    }
   ],
   "source": [
    "clf = LogisticRegression(max_iter=10000, random_state=0)\n",
    "meta_clf = ClassifierChain(clf, order=by_freq, random_state=0).fit(X_train, Y_train)\n",
    "compute_scores(meta_clf, X_test, Y_test, boot_iter, chain=True)"
   ]
  },
  {
   "cell_type": "markdown",
   "metadata": {},
   "source": [
    "### 3.2.2. Histogram-based Gradient Boosting"
   ]
  },
  {
   "cell_type": "code",
   "execution_count": null,
   "metadata": {},
   "outputs": [],
   "source": [
    "clf = HistGradientBoostingClassifier(random_state=0)\n",
    "meta_clf = ClassifierChain(clf, order=by_freq, random_state=0).fit(X_train, Y_train)\n",
    "compute_scores(meta_clf, X_test, Y_test, boot_iter, chain=True)"
   ]
  },
  {
   "cell_type": "markdown",
   "metadata": {},
   "source": [
    "## 3.3. ClassifierChain (random order) \n",
    "Evaluate classification models wrapped in meta estimator ClassifierChain with respect to multi-label performance metrics"
   ]
  },
  {
   "cell_type": "markdown",
   "metadata": {},
   "source": [
    "### 3.3.1. Logistic regression"
   ]
  },
  {
   "cell_type": "code",
   "execution_count": null,
   "metadata": {},
   "outputs": [
    {
     "name": "stdout",
     "output_type": "stream",
     "text": [
      "Mean scores with SE and 95% confidence intervals:\n",
      "\n",
      "auprc_macro:                  0.21 (0.01) [0.20, 0.22]\n",
      "auprc_weighted:               0.36 (0.01) [0.34, 0.38]\n",
      "auroc_macro:                  0.57 (0.01) [0.55, 0.59]\n",
      "auroc_weighted:               0.56 (0.01) [0.54, 0.58]\n",
      "brier_macro:                  0.21 (0.00) [0.21, 0.22]\n",
      "brier_weighted:               0.05 (0.00) [0.04, 0.05]\n",
      "balanced_accuracy_macro:      0.53 (0.01) [0.51, 0.54]\n",
      "balanced_accuracy_weighted:   0.09 (0.00) [0.09, 0.09]\n",
      "f1_micro:                     0.34 (0.01) [0.32, 0.36]\n",
      "hamming:                      0.26 (0.00) [0.26, 0.28]\n",
      "subset_accuracy:              0.02 (0.01) [0.01, 0.03]\n"
     ]
    }
   ],
   "source": [
    "clf = LogisticRegression(max_iter=10000, random_state=0)\n",
    "meta_clf = ClassifierChain(clf, random_state=0).fit(X_train, Y_train)\n",
    "compute_scores(meta_clf, X_test, Y_test, boot_iter, chain=True)"
   ]
  },
  {
   "cell_type": "markdown",
   "metadata": {},
   "source": [
    "### 3.3.2. Histogram-based Gradient Boosting"
   ]
  },
  {
   "cell_type": "code",
   "execution_count": null,
   "metadata": {},
   "outputs": [],
   "source": [
    "clf = HistGradientBoostingClassifier(random_state=0)\n",
    "meta_clf = ClassifierChain(clf, random_state=0).fit(X_train, Y_train)\n",
    "compute_scores(meta_clf, X_test, Y_test, boot_iter, chain=True)"
   ]
  }
 ],
 "metadata": {
  "kernelspec": {
   "display_name": "neuro",
   "language": "python",
   "name": "python3"
  },
  "language_info": {
   "codemirror_mode": {
    "name": "ipython",
    "version": 3
   },
   "file_extension": ".py",
   "mimetype": "text/x-python",
   "name": "python",
   "nbconvert_exporter": "python",
   "pygments_lexer": "ipython3",
   "version": "3.11.7"
  }
 },
 "nbformat": 4,
 "nbformat_minor": 2
}
