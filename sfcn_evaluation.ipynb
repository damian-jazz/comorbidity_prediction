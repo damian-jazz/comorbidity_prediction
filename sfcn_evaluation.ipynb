{
 "cells": [
  {
   "cell_type": "code",
   "execution_count": 1,
   "metadata": {},
   "outputs": [],
   "source": [
    "import pandas as pd\n",
    "import numpy as np\n",
    "import matplotlib.pyplot as plt\n",
    "import os\n",
    "\n",
    "from utils.utils import load_data\n",
    "from utils.cnn_utils import datasetT1, sigmoid_focal_loss\n",
    "from utils.cnn_train import eval\n",
    "from utils.cnn_model import SFCN\n",
    "\n",
    "from sklearn.model_selection import train_test_split\n",
    "from sklearn.utils import resample\n",
    "from sklearn.metrics import average_precision_score, roc_auc_score, brier_score_loss, f1_score, hamming_loss\n",
    "\n",
    "import torch\n",
    "from torch import nn\n",
    "from torch.utils.data import DataLoader"
   ]
  },
  {
   "cell_type": "code",
   "execution_count": null,
   "metadata": {},
   "outputs": [],
   "source": [
    "user_dir = os.path.expanduser(\"~\")\n",
    "source_path = user_dir + '/t1images/' # on 48860 it is /scratch/hbnetdata/t1images/ \n",
    "checkpoints_path = \"checkpoints/\""
   ]
  },
  {
   "cell_type": "code",
   "execution_count": 1,
   "metadata": {},
   "outputs": [],
   "source": [
    "device_index = 0 # or 1 or 2 or 3\n",
    "device = \"cuda:\" + str(device_index)"
   ]
  },
  {
   "cell_type": "code",
   "execution_count": 16,
   "metadata": {},
   "outputs": [
    {
     "name": "stdout",
     "output_type": "stream",
     "text": [
      "Size of T1 set: 2491\n"
     ]
    }
   ],
   "source": [
    "# Load data for evaluation\n",
    "X, _, Y = load_data('classification_t1')\n",
    "print(f\"Size of T1 set: {X.shape[0]}\")"
   ]
  },
  {
   "cell_type": "code",
   "execution_count": 17,
   "metadata": {},
   "outputs": [
    {
     "name": "stdout",
     "output_type": "stream",
     "text": [
      "Size training set: 1868\n",
      "Size test set: 623\n"
     ]
    }
   ],
   "source": [
    "_, X_test, _, Y_test = train_test_split(X.iloc[:,0], Y.iloc[:,1:], test_size=0.25, random_state=0)\n",
    "print(f\"Size test set: {X_test.shape[0]}\")"
   ]
  },
  {
   "cell_type": "code",
   "execution_count": null,
   "metadata": {},
   "outputs": [],
   "source": [
    "modality = 'T1w' # 'GM', 'WM', 'CSF'"
   ]
  },
  {
   "cell_type": "code",
   "execution_count": null,
   "metadata": {},
   "outputs": [],
   "source": [
    "test_data = datasetT1(X_test, Y_test, modality=modality, source_path=source_path)"
   ]
  },
  {
   "cell_type": "markdown",
   "metadata": {},
   "source": [
    "---"
   ]
  },
  {
   "cell_type": "code",
   "execution_count": null,
   "metadata": {},
   "outputs": [],
   "source": [
    "batch_size = 8"
   ]
  },
  {
   "cell_type": "code",
   "execution_count": null,
   "metadata": {},
   "outputs": [],
   "source": [
    "model = SFCN(output_dim=13)\n",
    "model.to(device)\n",
    "model.load_state_dict(torch.load(checkpoints_path + \"model.pth\"))"
   ]
  },
  {
   "cell_type": "code",
   "execution_count": null,
   "metadata": {},
   "outputs": [],
   "source": [
    "loss_string = 'bce' \n",
    "\n",
    "if loss_string == 'bce':\n",
    "    loss_fn = nn.BCEWithLogitsLoss()\n",
    "elif loss_string == 'focal':\n",
    "    loss_fn = sigmoid_focal_loss()"
   ]
  },
  {
   "cell_type": "code",
   "execution_count": null,
   "metadata": {},
   "outputs": [],
   "source": [
    "optimizer = torch.optim.Adam(model.parameters(), lr=1e-3)"
   ]
  },
  {
   "cell_type": "markdown",
   "metadata": {},
   "source": [
    "---"
   ]
  },
  {
   "cell_type": "code",
   "execution_count": null,
   "metadata": {},
   "outputs": [],
   "source": [
    "auprc = []\n",
    "auroc = []\n",
    "brier = []\n",
    "hamm = []\n",
    "f1 = []\n",
    "\n",
    "eval_dataloader = DataLoader(test_data, batch_size=batch_size, shuffle=False)\n",
    "\n",
    "for i in range(100):\n",
    "    X_test_resampled, y_test_resampled = resample(X_test, Y_test, replace=True, n_samples=len(Y_test), random_state=0+i)\n",
    "\n",
    "    eval_data = datasetT1(X_test_resampled, y_test_resampled)\n",
    "    eval_dataloader = DataLoader(eval_data, batch_size=batch_size, shuffle=False)\n",
    "    y_prob, y_pred  = eval(eval_dataloader, device, model, loss_fn)\n",
    "\n",
    "    # Compute brier score\n",
    "    brier_scores = np.zeros(y_prob.shape[1])\n",
    "    for i in range(y_prob.shape[1]):\n",
    "        brier_scores[i] = brier_score_loss(y_test_resampled.iloc[:,i], y_prob[:,i])\n",
    "    brier.append(brier_scores.mean())\n",
    "    \n",
    "    # Other metrics\n",
    "    auprc.append(average_precision_score(y_test_resampled, y_prob, average='macro'))\n",
    "    auroc.append(roc_auc_score(y_test_resampled, y_prob, average='macro'))\n",
    "    f1.append(f1_score(y_test_resampled, y_pred, average='micro'))\n",
    "    hamm.append(hamming_loss(y_test_resampled, y_pred))\n",
    "\n",
    "print(f\"Mean scores for 3D-CNN with 95% confidence intervals:\")\n",
    "print(\"    AUPRC macro: {:.2f} [{:.2f}, {:.2f}]\".format(np.mean(auprc), np.percentile(auprc, 2.5), np.percentile(auprc, 97.5)))\n",
    "print(\"    AUROC macro: {:.2f} [{:.2f}, {:.2f}]\".format(np.mean(auroc), np.percentile(auroc, 2.5), np.percentile(auroc, 97.5)))\n",
    "print(\"    Brier score: {:.2f} [{:.2f}, {:.2f}]\".format(np.mean(brier), np.percentile(brier, 2.5), np.percentile(brier, 97.5)))\n",
    "print(\"    Hamming loss: {:.2f} [{:.2f}, {:.2f}]\".format(np.mean(hamm), np.percentile(hamm, 2.5), np.percentile(hamm, 97.5)))\n",
    "print(\"    Micro Avg F1 score: {:.2f} [{:.2f}, {:.2f}]\".format(np.mean(f1), np.percentile(f1, 2.5), np.percentile(f1, 97.5)))"
   ]
  }
 ],
 "metadata": {
  "kernelspec": {
   "display_name": "neuro",
   "language": "python",
   "name": "python3"
  },
  "language_info": {
   "codemirror_mode": {
    "name": "ipython",
    "version": 3
   },
   "file_extension": ".py",
   "mimetype": "text/x-python",
   "name": "python",
   "nbconvert_exporter": "python",
   "pygments_lexer": "ipython3",
   "version": "3.11.7"
  }
 },
 "nbformat": 4,
 "nbformat_minor": 2
}
